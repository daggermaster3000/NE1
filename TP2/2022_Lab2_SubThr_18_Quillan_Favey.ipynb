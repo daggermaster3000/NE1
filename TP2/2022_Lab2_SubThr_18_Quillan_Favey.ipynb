{
 "cells": [
  {
   "cell_type": "markdown",
   "metadata": {},
   "source": [
    "Neuromorphic engineering I"
   ]
  },
  {
   "cell_type": "markdown",
   "metadata": {},
   "source": [
    "## Lab 3: Subthreshold Behavior of Transistors"
   ]
  },
  {
   "cell_type": "markdown",
   "metadata": {},
   "source": [
    "Group number: 18\n",
    "\n",
    "Team member 1: Quillan Favey\n",
    "\n",
    "\n",
    "Date:  04.11.2022\n"
   ]
  },
  {
   "cell_type": "markdown",
   "metadata": {},
   "source": [
    "-------------------------------------------------------------------------------------------------------------------"
   ]
  },
  {
   "cell_type": "markdown",
   "metadata": {},
   "source": [
    "In this lab exercise we will be investigating the subthreshold (weak inversion) behavior of\n",
    "isolated _p_-- and _n_--channel MOSFETs. Specifically, we will\n",
    "\n",
    "* measure the currents through the transistors as a function of their gate and source voltages\n",
    "* determine how effective these terminals are at changing the current\n",
    "* compare the characteristics of p and n-fet devices.\n"
   ]
  },
  {
   "cell_type": "markdown",
   "metadata": {},
   "source": [
    "# 1. Prelab #"
   ]
  },
  {
   "cell_type": "markdown",
   "metadata": {},
   "source": [
    "Make sure you have studied the lecture material\n",
    "before attempting this prelab. The questions will also make much\n",
    "more sense if you read through the entire lab handout first.  _You are\n",
    "required to complete this prelab before you can begin taking data._\n"
   ]
  },
  {
   "cell_type": "markdown",
   "metadata": {},
   "source": [
    "## 1.1 n- and p-fets, in an _n_ well Process"
   ]
  },
  {
   "cell_type": "markdown",
   "metadata": {},
   "source": [
    "A vertical section through the silicon with both n and p-fet transistors is shown in Figure 1.\n",
    "The class chip has a p-type substrate (like almost all chips nowadays) and both p- and n-wells.  \n",
    "The p-wells (not shown in the figure) are shorted to the p-substrate because the doping is of the same type.   \n",
    "\n",
    "Because we are grounding the substrate and we are connecting _n_--well to the power supply, $V_{dd}$ is positive.\n",
    "This positive voltage reverse biases the junction between the _n_--wells (which are tied to $V_{dd}$) and the substrate (which is tied to gnd).\n",
    "\n",
    "For this process, $V_{dd}$=1.8 V.\n"
   ]
  },
  {
   "attachments": {
    "image.png": {
     "image/png": "[encoded data removed]"
    }
   },
   "cell_type": "markdown",
   "metadata": {
    "tags": []
   },
   "source": [
    "![image.png](attachment:image.png)\n",
    "\n",
    "<h4><center> Figure 1: a cross section through p-substrate chip. </center></h4>"
   ]
  },
  {
   "cell_type": "markdown",
   "metadata": {},
   "source": [
    "For the following questions assume an _n_--well process -- unless stated otherwise.\n",
    "\n",
    "**1.** Draw four-terminal symbols for native and well transistors and label all the terminals; use _d_ for drain, _s_ for source, _g_ for gate, _b_ for bulk, and _w_ for well.\n",
    "Indicate the direction of current flow that is consistent with your choice of drain and source (you can drag the * .png file into the cell below)."
   ]
  },
  {
   "cell_type": "markdown",
   "metadata": {},
   "source": [
    "![](2022-10-04-14-40-25.png)"
   ]
  },
  {
   "cell_type": "markdown",
   "metadata": {},
   "source": [
    "**2.** Write the expressions for the subthreshold (weak inversion) current $I_{ds}$ for both types of\n",
    "transistors."
   ]
  },
  {
   "cell_type": "markdown",
   "metadata": {},
   "source": [
    "* For n-fet: $I=I_{0}e^{\\kappa V_{g}/U_{T}}(e^{-V_{s}/U_{T}}-e^{-V_{d}/U_{T}})$\n",
    "* For p-fet: $I=I_{0}e^{-\\kappa V_{g}/U_{T}}(e^{V_{s}/U_{T}}-e^{V_{d}/U_{T}})$"
   ]
  },
  {
   "cell_type": "markdown",
   "metadata": {},
   "source": [
    "**3.** Write the expressions for the _saturation_ current of these\n",
    "transistors, that is, the value of the current when $V_{ds}\\gg\\frac{4kT}{q}$.\n",
    "For the remaining questions you may assume that the transistor is in\n",
    "saturation."
   ]
  },
  {
   "cell_type": "markdown",
   "metadata": {},
   "source": [
    "* For n-fet: $I=I_{f}=I_{0}e^{(\\kappa V_{g}-V_{s})/U_{T}}$\n",
    "* For p-fet: $I=I_{f}=I_{0}e^{(-\\kappa V_{g}+V_{s})/U_{T}}$"
   ]
  },
  {
   "cell_type": "markdown",
   "metadata": {},
   "source": [
    "**4.** For both transistors, write an expression for source voltage as a function of gate voltage if the channel current is constant and the transistor is in saturation. In each case, what is $\\frac{\\mathrm{d}V_s}{\\mathrm{d}V_g}$?"
   ]
  },
  {
   "cell_type": "markdown",
   "metadata": {},
   "source": [
    "* For n-fet: $V_{s}=\\kappa V_{g} - \\ln(\\frac{I}{I_{0}})U_{T}$\n",
    "* For p-fet: $V_{s}=\\kappa V_{g} + \\ln(\\frac{I}{I_{0}})U_{T}$\n",
    "\n",
    "Taking the derivative for each expression with respect to $V_{g}$, we get: $\\frac{dV_{s}}{dV_{g}}=\\kappa$"
   ]
  },
  {
   "cell_type": "markdown",
   "metadata": {},
   "source": [
    "## 1.2 ESD protection of CMOS Chips (need to know)"
   ]
  },
  {
   "cell_type": "markdown",
   "metadata": {},
   "source": [
    "All MOSFET chips are _extremely_ prone to damage by static electricity.\n",
    "The current through the transistors is controlled by an insulated\n",
    "gate.  \n",
    "\n",
    "Not so fun facts: **Even a few tens of volts can blow up the gate. A short walk\n",
    "across the room can build up kilovolts of static potential.**\n",
    "\n",
    "There are electrostatic discharge (ESD) protection structures on the chip inputs\n",
    "that are designed to leak off the static charge before it can damage\n",
    "the chip, but often this will not be enough.  \n",
    "\n",
    "There are two simple precautions that can definitely keep the chip safe.\n",
    "\n",
    "**1. When the chip is not powered up in a socket, keep it stuck\n",
    "into a piece of black conductive foam.** This will short all the pins together. \n",
    "\n",
    "**2. Always ground yourself to chassis (potbox) ground before picking up\n",
    "or touching a chip.** This will discharge the static charge.\n"
   ]
  },
  {
   "cell_type": "markdown",
   "metadata": {},
   "source": [
    "## 1.3 Experiments and Lab Reports"
   ]
  },
  {
   "cell_type": "markdown",
   "metadata": {},
   "source": [
    "For the following experiments, include in your lab reports, graphs of all theoretical and experimental curves.  Experimental data should be plotted in a point style so that individual data points are visible.\n",
    "Make sure you take enough data points and label your axes.\n",
    "The theoretical fit should be graphed on the same plot in a line style.\n",
    "\n",
    "Your written interpretation of the results and any anomalies are essential.\n",
    "Please do not just hand in the plots without any interpretation on your part. \n",
    "Your report does not need to be beautiful, but it should show that you understand what you are measuring.\n",
    "\n",
    "Remember that the purpose of this lab is to investigate _subthreshold_ transistor characteristics. Therefore, all voltage sweeps should span the measurable subthreshold regime while extending just far enough above threshold to show where the threshold is.\n",
    "\n",
    "Avoid these common mistakes in your report:\n",
    "\n",
    "- **Not discussing your data sufficiently.** Think about a publication. The readers want to understand your reasoning with you. They want to be able to reproduce your results.\n",
    "- **Not using cross-hair axes when 0,0 is relevant.** Use grid on to turn on grid, which will draw dotted lines from major ticks. See fontsize to make spacing readable.\n",
    "- **Forgetting to mention what your plot shows.**\n",
    "- **Not labeling your figures with a caption,** e.g., “Fig. 1: Transistor drain current vs. gate voltage, Experiment 1.”\n",
    "- **Insufficiently annotating your data.** It's OK to draw on your plots to indicate the slope of the curve, or the x / y intercepts.\n",
    "- **Using identical markers for all plots.** Your curves must be distinguishable when printed in black and white. Use e.g. plot(v,i,'o-',v,i2,'s-'), which labels one curve with circle markers and the other with square markers.\n",
    "- **Forgetting units on measurements,** e.g. “our conductance is 1.000653e-10”. What are the units?\n",
    "- **Giving your measurements too many digits of precision;** see previous error. Do your instruments really give you 7 digits of precision?\n"
   ]
  },
  {
   "cell_type": "markdown",
   "metadata": {},
   "source": [
    "# 2 Set up the experiment"
   ]
  },
  {
   "cell_type": "markdown",
   "metadata": {},
   "source": [
    "## 2.1 Connect the device"
   ]
  },
  {
   "cell_type": "code",
   "execution_count": 1,
   "metadata": {},
   "outputs": [],
   "source": [
    "# import the necessary library to communicate with the hardware\n",
    "import pyplane\n",
    "import time\n",
    "import numpy as np \n",
    "import matplotlib.pyplot as plt"
   ]
  },
  {
   "cell_type": "code",
   "execution_count": 2,
   "metadata": {},
   "outputs": [],
   "source": [
    "# create a Plane object and open the communication\n",
    "if 'p' not in locals():\n",
    "    p = pyplane.Plane()\n",
    "    try:\n",
    "        p.open('/dev/ttyACM0') # Open the USB device ttyACM0 (the board). \n",
    "    except RuntimeError as e:\n",
    "        print(e)\n",
    "        \n",
    "# Note that if you plug out and plug in the USB device in a short time interval, the operating system might allocate a new name like ttyACM1, \n",
    "# then you may get error messages with open(...ttyACM0). So please avoid frenquently plugging in/out the board."
   ]
  },
  {
   "cell_type": "code",
   "execution_count": 3,
   "metadata": {},
   "outputs": [
    {
     "data": {
      "text/plain": [
       "(1, 8, 6)"
      ]
     },
     "execution_count": 3,
     "metadata": {},
     "output_type": "execute_result"
    }
   ],
   "source": [
    "p.get_firmware_version()"
   ]
  },
  {
   "cell_type": "code",
   "execution_count": 3,
   "metadata": {},
   "outputs": [],
   "source": [
    "# Send a reset signal to the board, check if the LED blinks\n",
    "p.reset(pyplane.ResetType.Soft)\n",
    "\n",
    "time.sleep(1) \n",
    "# NOTE: You must send this request events every time you do a reset operetion, otherwise the recieved data is noisy.\n",
    "# Because the class chip need to do handshake to get the communication correct.\n",
    "p.request_events(1)"
   ]
  },
  {
   "cell_type": "code",
   "execution_count": 6,
   "metadata": {},
   "outputs": [
    {
     "data": {
      "text/plain": [
       "1.4501952705359145e-07"
      ]
     },
     "execution_count": 6,
     "metadata": {},
     "output_type": "execute_result"
    }
   ],
   "source": [
    "# Try to read something, make sure the chip responses\n",
    "p.read_current(pyplane.AdcChannel.GO0_N)"
   ]
  },
  {
   "cell_type": "code",
   "execution_count": 6,
   "metadata": {},
   "outputs": [],
   "source": [
    "# If any of the above steps fail, delete the object, and restart the kernel\n",
    "\n",
    "# del p"
   ]
  },
  {
   "cell_type": "markdown",
   "metadata": {
    "tags": []
   },
   "source": [
    "## 2.2 Recommendations to this lab\n",
    "\n",
    "* You do not need to follow the order, it is actually better to do all the measurement of one device together, e.g. 3.1 -> 4.1 -> 3.2 -> 4.2\n",
    "\n",
    "* **Please save the data as frequent as possible and use the loaded data for processing**"
   ]
  },
  {
   "cell_type": "markdown",
   "metadata": {},
   "source": [
    "# 3 Current as a Function of Gate Voltage"
   ]
  },
  {
   "cell_type": "markdown",
   "metadata": {},
   "source": [
    "## 3.1 N-FET\n",
    "For the N-FET device on the CoACH chip, measure current $I_{ds}$ as a function of gate voltage $V_g$ for fixed source, bulk (substrate or well), and drain voltages."
   ]
  },
  {
   "cell_type": "code",
   "execution_count": 7,
   "metadata": {
    "scrolled": true
   },
   "outputs": [
    {
     "data": {
      "image/png": "[encoded data removed]",
      "image/svg+xml": "<?xml version=\"1.0\" encoding=\"utf-8\" standalone=\"no\"?>\n<!DOCTYPE svg PUBLIC \"-//W3C//DTD SVG 1.1//EN\"\n  \"http://www.w3.org/Graphics/SVG/1.1/DTD/svg11.dtd\">\n<svg xmlns:xlink=\"http://www.w3.org/1999/xlink\" width=\"181.6596pt\" height=\"114.53pt\" viewBox=\"0 0 181.6596 114.53\" xmlns=\"http://www.w3.org/2000/svg\" version=\"1.1\">\n <metadata>\n  <rdf:RDF xmlns:dc=\"http://purl.org/dc/elements/1.1/\" xmlns:cc=\"http://creativecommons.org/ns#\" xmlns:rdf=\"http://www.w3.org/1999/02/22-rdf-syntax-ns#\">\n   <cc:Work>\n    <dc:type rdf:resource=\"http://purl.org/dc/dcmitype/StillImage\"/>\n    <dc:date>2022-10-05T16:27:29.951276</dc:date>\n    <dc:format>image/svg+xml</dc:format>\n    <dc:creator>\n     <cc:Agent>\n      <dc:title>Matplotlib v3.6.0, https://matplotlib.org/</dc:title>\n     </cc:Agent>\n    </dc:creator>\n   </cc:Work>\n  </rdf:RDF>\n </metadata>\n <defs>\n  <style type=\"text/css\">*{stroke-linejoin: round; stroke-linecap: butt}</style>\n </defs>\n <g id=\"figure_1\">\n  <g id=\"patch_1\">\n   <path d=\"M 0 114.53 \nL 181.6596 114.53 \nL 181.6596 0 \nL 0 0 \nz\n\" style=\"fill: #ffffff\"/>\n  </g>\n  <g id=\"axes_1\">\n   <g id=\"line2d_1\">\n    <path d=\"M 120.6036 83.275 \nL 120.6036 70.525 \nL 100.2036 70.525 \nL 100.2036 50.125 \nL 120.6036 50.125 \nL 120.6036 37.375 \n\" clip-path=\"url(#p791e8bab2e)\" style=\"fill: none; stroke: #000000; stroke-width: 2; stroke-linecap: round\"/>\n   </g>\n   <g id=\"line2d_2\">\n    <path d=\"M 95.1036 70.525 \nL 95.1036 50.125 \n\" clip-path=\"url(#p791e8bab2e)\" style=\"fill: none; stroke: #000000; stroke-width: 2; stroke-linecap: round\"/>\n   </g>\n   <g id=\"line2d_3\">\n    <path d=\"M 78.7836 60.325 \nL 95.1036 60.325 \n\" clip-path=\"url(#p791e8bab2e)\" style=\"fill: none; stroke: #000000; stroke-width: 2; stroke-linecap: round\"/>\n   </g>\n   <g id=\"patch_2\">\n    <path d=\"M 78.7836 62.62 \nC 79.392241 62.62 79.976036 62.378184 80.40641 61.94781 \nC 80.836784 61.517436 81.0786 60.933641 81.0786 60.325 \nC 81.0786 59.716359 80.836784 59.132564 80.40641 58.70219 \nC 79.976036 58.271816 79.392241 58.03 78.7836 58.03 \nC 78.174959 58.03 77.591164 58.271816 77.16079 58.70219 \nC 76.730416 59.132564 76.4886 59.716359 76.4886 60.325 \nC 76.4886 60.933641 76.730416 61.517436 77.16079 61.94781 \nC 77.591164 62.378184 78.174959 62.62 78.7836 62.62 \nz\n\" clip-path=\"url(#p791e8bab2e)\" style=\"stroke: #000000; stroke-width: 2; stroke-linejoin: miter\"/>\n   </g>\n   <g id=\"text_1\">\n    <g clip-path=\"url(#p791e8bab2e)\">\n     <!-- gate=AIN0 -->\n     <g transform=\"translate(5.223522 63.774219) scale(0.125 -0.125)\">\n      <defs>\n       <path id=\"DejaVuSans-67\" d=\"M 2906 1791 \nQ 2906 2416 2648 2759 \nQ 2391 3103 1925 3103 \nQ 1463 3103 1205 2759 \nQ 947 2416 947 1791 \nQ 947 1169 1205 825 \nQ 1463 481 1925 481 \nQ 2391 481 2648 825 \nQ 2906 1169 2906 1791 \nz\nM 3481 434 \nQ 3481 -459 3084 -895 \nQ 2688 -1331 1869 -1331 \nQ 1566 -1331 1297 -1286 \nQ 1028 -1241 775 -1147 \nL 775 -588 \nQ 1028 -725 1275 -790 \nQ 1522 -856 1778 -856 \nQ 2344 -856 2625 -561 \nQ 2906 -266 2906 331 \nL 2906 616 \nQ 2728 306 2450 153 \nQ 2172 0 1784 0 \nQ 1141 0 747 490 \nQ 353 981 353 1791 \nQ 353 2603 747 3093 \nQ 1141 3584 1784 3584 \nQ 2172 3584 2450 3431 \nQ 2728 3278 2906 2969 \nL 2906 3500 \nL 3481 3500 \nL 3481 434 \nz\n\" transform=\"scale(0.015625)\"/>\n       <path id=\"DejaVuSans-61\" d=\"M 2194 1759 \nQ 1497 1759 1228 1600 \nQ 959 1441 959 1056 \nQ 959 750 1161 570 \nQ 1363 391 1709 391 \nQ 2188 391 2477 730 \nQ 2766 1069 2766 1631 \nL 2766 1759 \nL 2194 1759 \nz\nM 3341 1997 \nL 3341 0 \nL 2766 0 \nL 2766 531 \nQ 2569 213 2275 61 \nQ 1981 -91 1556 -91 \nQ 1019 -91 701 211 \nQ 384 513 384 1019 \nQ 384 1609 779 1909 \nQ 1175 2209 1959 2209 \nL 2766 2209 \nL 2766 2266 \nQ 2766 2663 2505 2880 \nQ 2244 3097 1772 3097 \nQ 1472 3097 1187 3025 \nQ 903 2953 641 2809 \nL 641 3341 \nQ 956 3463 1253 3523 \nQ 1550 3584 1831 3584 \nQ 2591 3584 2966 3190 \nQ 3341 2797 3341 1997 \nz\n\" transform=\"scale(0.015625)\"/>\n       <path id=\"DejaVuSans-74\" d=\"M 1172 4494 \nL 1172 3500 \nL 2356 3500 \nL 2356 3053 \nL 1172 3053 \nL 1172 1153 \nQ 1172 725 1289 603 \nQ 1406 481 1766 481 \nL 2356 481 \nL 2356 0 \nL 1766 0 \nQ 1100 0 847 248 \nQ 594 497 594 1153 \nL 594 3053 \nL 172 3053 \nL 172 3500 \nL 594 3500 \nL 594 4494 \nL 1172 4494 \nz\n\" transform=\"scale(0.015625)\"/>\n       <path id=\"DejaVuSans-65\" d=\"M 3597 1894 \nL 3597 1613 \nL 953 1613 \nQ 991 1019 1311 708 \nQ 1631 397 2203 397 \nQ 2534 397 2845 478 \nQ 3156 559 3463 722 \nL 3463 178 \nQ 3153 47 2828 -22 \nQ 2503 -91 2169 -91 \nQ 1331 -91 842 396 \nQ 353 884 353 1716 \nQ 353 2575 817 3079 \nQ 1281 3584 2069 3584 \nQ 2775 3584 3186 3129 \nQ 3597 2675 3597 1894 \nz\nM 3022 2063 \nQ 3016 2534 2758 2815 \nQ 2500 3097 2075 3097 \nQ 1594 3097 1305 2825 \nQ 1016 2553 972 2059 \nL 3022 2063 \nz\n\" transform=\"scale(0.015625)\"/>\n       <path id=\"DejaVuSans-3d\" d=\"M 678 2906 \nL 4684 2906 \nL 4684 2381 \nL 678 2381 \nL 678 2906 \nz\nM 678 1631 \nL 4684 1631 \nL 4684 1100 \nL 678 1100 \nL 678 1631 \nz\n\" transform=\"scale(0.015625)\"/>\n       <path id=\"DejaVuSans-41\" d=\"M 2188 4044 \nL 1331 1722 \nL 3047 1722 \nL 2188 4044 \nz\nM 1831 4666 \nL 2547 4666 \nL 4325 0 \nL 3669 0 \nL 3244 1197 \nL 1141 1197 \nL 716 0 \nL 50 0 \nL 1831 4666 \nz\n\" transform=\"scale(0.015625)\"/>\n       <path id=\"DejaVuSans-49\" d=\"M 628 4666 \nL 1259 4666 \nL 1259 0 \nL 628 0 \nL 628 4666 \nz\n\" transform=\"scale(0.015625)\"/>\n       <path id=\"DejaVuSans-4e\" d=\"M 628 4666 \nL 1478 4666 \nL 3547 763 \nL 3547 4666 \nL 4159 4666 \nL 4159 0 \nL 3309 0 \nL 1241 3903 \nL 1241 0 \nL 628 0 \nL 628 4666 \nz\n\" transform=\"scale(0.015625)\"/>\n       <path id=\"DejaVuSans-30\" d=\"M 2034 4250 \nQ 1547 4250 1301 3770 \nQ 1056 3291 1056 2328 \nQ 1056 1369 1301 889 \nQ 1547 409 2034 409 \nQ 2525 409 2770 889 \nQ 3016 1369 3016 2328 \nQ 3016 3291 2770 3770 \nQ 2525 4250 2034 4250 \nz\nM 2034 4750 \nQ 2819 4750 3233 4129 \nQ 3647 3509 3647 2328 \nQ 3647 1150 3233 529 \nQ 2819 -91 2034 -91 \nQ 1250 -91 836 529 \nQ 422 1150 422 2328 \nQ 422 3509 836 4129 \nQ 1250 4750 2034 4750 \nz\n\" transform=\"scale(0.015625)\"/>\n      </defs>\n      <use xlink:href=\"#DejaVuSans-67\"/>\n      <use xlink:href=\"#DejaVuSans-61\" x=\"63.476562\"/>\n      <use xlink:href=\"#DejaVuSans-74\" x=\"124.755859\"/>\n      <use xlink:href=\"#DejaVuSans-65\" x=\"163.964844\"/>\n      <use xlink:href=\"#DejaVuSans-3d\" x=\"225.488281\"/>\n      <use xlink:href=\"#DejaVuSans-41\" x=\"309.277344\"/>\n      <use xlink:href=\"#DejaVuSans-49\" x=\"377.685547\"/>\n      <use xlink:href=\"#DejaVuSans-4e\" x=\"407.177734\"/>\n      <use xlink:href=\"#DejaVuSans-30\" x=\"481.982422\"/>\n     </g>\n    </g>\n   </g>\n   <g id=\"patch_3\">\n    <path d=\"M 120.6036 39.67 \nC 121.212241 39.67 121.796036 39.428184 122.22641 38.99781 \nC 122.656784 38.567436 122.8986 37.983641 122.8986 37.375 \nC 122.8986 36.766359 122.656784 36.182564 122.22641 35.75219 \nC 121.796036 35.321816 121.212241 35.08 120.6036 35.08 \nC 119.994959 35.08 119.411164 35.321816 118.98079 35.75219 \nC 118.550416 36.182564 118.3086 36.766359 118.3086 37.375 \nC 118.3086 37.983641 118.550416 38.567436 118.98079 38.99781 \nC 119.411164 39.428184 119.994959 39.67 120.6036 39.67 \nz\n\" clip-path=\"url(#p791e8bab2e)\" style=\"stroke: #000000; stroke-width: 2; stroke-linejoin: miter\"/>\n   </g>\n   <g id=\"text_2\">\n    <g clip-path=\"url(#p791e8bab2e)\">\n     <!-- drain=GO22 -->\n     <g transform=\"translate(81.586022 29.420391) scale(0.125 -0.125)\">\n      <defs>\n       <path id=\"DejaVuSans-64\" d=\"M 2906 2969 \nL 2906 4863 \nL 3481 4863 \nL 3481 0 \nL 2906 0 \nL 2906 525 \nQ 2725 213 2448 61 \nQ 2172 -91 1784 -91 \nQ 1150 -91 751 415 \nQ 353 922 353 1747 \nQ 353 2572 751 3078 \nQ 1150 3584 1784 3584 \nQ 2172 3584 2448 3432 \nQ 2725 3281 2906 2969 \nz\nM 947 1747 \nQ 947 1113 1208 752 \nQ 1469 391 1925 391 \nQ 2381 391 2643 752 \nQ 2906 1113 2906 1747 \nQ 2906 2381 2643 2742 \nQ 2381 3103 1925 3103 \nQ 1469 3103 1208 2742 \nQ 947 2381 947 1747 \nz\n\" transform=\"scale(0.015625)\"/>\n       <path id=\"DejaVuSans-72\" d=\"M 2631 2963 \nQ 2534 3019 2420 3045 \nQ 2306 3072 2169 3072 \nQ 1681 3072 1420 2755 \nQ 1159 2438 1159 1844 \nL 1159 0 \nL 581 0 \nL 581 3500 \nL 1159 3500 \nL 1159 2956 \nQ 1341 3275 1631 3429 \nQ 1922 3584 2338 3584 \nQ 2397 3584 2469 3576 \nQ 2541 3569 2628 3553 \nL 2631 2963 \nz\n\" transform=\"scale(0.015625)\"/>\n       <path id=\"DejaVuSans-69\" d=\"M 603 3500 \nL 1178 3500 \nL 1178 0 \nL 603 0 \nL 603 3500 \nz\nM 603 4863 \nL 1178 4863 \nL 1178 4134 \nL 603 4134 \nL 603 4863 \nz\n\" transform=\"scale(0.015625)\"/>\n       <path id=\"DejaVuSans-6e\" d=\"M 3513 2113 \nL 3513 0 \nL 2938 0 \nL 2938 2094 \nQ 2938 2591 2744 2837 \nQ 2550 3084 2163 3084 \nQ 1697 3084 1428 2787 \nQ 1159 2491 1159 1978 \nL 1159 0 \nL 581 0 \nL 581 3500 \nL 1159 3500 \nL 1159 2956 \nQ 1366 3272 1645 3428 \nQ 1925 3584 2291 3584 \nQ 2894 3584 3203 3211 \nQ 3513 2838 3513 2113 \nz\n\" transform=\"scale(0.015625)\"/>\n       <path id=\"DejaVuSans-47\" d=\"M 3809 666 \nL 3809 1919 \nL 2778 1919 \nL 2778 2438 \nL 4434 2438 \nL 4434 434 \nQ 4069 175 3628 42 \nQ 3188 -91 2688 -91 \nQ 1594 -91 976 548 \nQ 359 1188 359 2328 \nQ 359 3472 976 4111 \nQ 1594 4750 2688 4750 \nQ 3144 4750 3555 4637 \nQ 3966 4525 4313 4306 \nL 4313 3634 \nQ 3963 3931 3569 4081 \nQ 3175 4231 2741 4231 \nQ 1884 4231 1454 3753 \nQ 1025 3275 1025 2328 \nQ 1025 1384 1454 906 \nQ 1884 428 2741 428 \nQ 3075 428 3337 486 \nQ 3600 544 3809 666 \nz\n\" transform=\"scale(0.015625)\"/>\n       <path id=\"DejaVuSans-4f\" d=\"M 2522 4238 \nQ 1834 4238 1429 3725 \nQ 1025 3213 1025 2328 \nQ 1025 1447 1429 934 \nQ 1834 422 2522 422 \nQ 3209 422 3611 934 \nQ 4013 1447 4013 2328 \nQ 4013 3213 3611 3725 \nQ 3209 4238 2522 4238 \nz\nM 2522 4750 \nQ 3503 4750 4090 4092 \nQ 4678 3434 4678 2328 \nQ 4678 1225 4090 567 \nQ 3503 -91 2522 -91 \nQ 1538 -91 948 565 \nQ 359 1222 359 2328 \nQ 359 3434 948 4092 \nQ 1538 4750 2522 4750 \nz\n\" transform=\"scale(0.015625)\"/>\n       <path id=\"DejaVuSans-32\" d=\"M 1228 531 \nL 3431 531 \nL 3431 0 \nL 469 0 \nL 469 531 \nQ 828 903 1448 1529 \nQ 2069 2156 2228 2338 \nQ 2531 2678 2651 2914 \nQ 2772 3150 2772 3378 \nQ 2772 3750 2511 3984 \nQ 2250 4219 1831 4219 \nQ 1534 4219 1204 4116 \nQ 875 4013 500 3803 \nL 500 4441 \nQ 881 4594 1212 4672 \nQ 1544 4750 1819 4750 \nQ 2544 4750 2975 4387 \nQ 3406 4025 3406 3419 \nQ 3406 3131 3298 2873 \nQ 3191 2616 2906 2266 \nQ 2828 2175 2409 1742 \nQ 1991 1309 1228 531 \nz\n\" transform=\"scale(0.015625)\"/>\n      </defs>\n      <use xlink:href=\"#DejaVuSans-64\"/>\n      <use xlink:href=\"#DejaVuSans-72\" x=\"63.476562\"/>\n      <use xlink:href=\"#DejaVuSans-61\" x=\"104.589844\"/>\n      <use xlink:href=\"#DejaVuSans-69\" x=\"165.869141\"/>\n      <use xlink:href=\"#DejaVuSans-6e\" x=\"193.652344\"/>\n      <use xlink:href=\"#DejaVuSans-3d\" x=\"257.03125\"/>\n      <use xlink:href=\"#DejaVuSans-47\" x=\"340.820312\"/>\n      <use xlink:href=\"#DejaVuSans-4f\" x=\"418.310547\"/>\n      <use xlink:href=\"#DejaVuSans-32\" x=\"497.021484\"/>\n      <use xlink:href=\"#DejaVuSans-32\" x=\"560.644531\"/>\n     </g>\n    </g>\n   </g>\n   <g id=\"patch_4\">\n    <path d=\"M 120.6036 85.57 \nC 121.212241 85.57 121.796036 85.328184 122.22641 84.89781 \nC 122.656784 84.467436 122.8986 83.883641 122.8986 83.275 \nC 122.8986 82.666359 122.656784 82.082564 122.22641 81.65219 \nC 121.796036 81.221816 121.212241 80.98 120.6036 80.98 \nC 119.994959 80.98 119.411164 81.221816 118.98079 81.65219 \nC 118.550416 82.082564 118.3086 82.666359 118.3086 83.275 \nC 118.3086 83.883641 118.550416 84.467436 118.98079 84.89781 \nC 119.411164 85.328184 119.994959 85.57 120.6036 85.57 \nz\n\" clip-path=\"url(#p791e8bab2e)\" style=\"stroke: #000000; stroke-width: 2; stroke-linejoin: miter\"/>\n   </g>\n   <g id=\"text_3\">\n    <g clip-path=\"url(#p791e8bab2e)\">\n     <!-- source=GO20 -->\n     <g transform=\"translate(76.898522 98.128047) scale(0.125 -0.125)\">\n      <defs>\n       <path id=\"DejaVuSans-73\" d=\"M 2834 3397 \nL 2834 2853 \nQ 2591 2978 2328 3040 \nQ 2066 3103 1784 3103 \nQ 1356 3103 1142 2972 \nQ 928 2841 928 2578 \nQ 928 2378 1081 2264 \nQ 1234 2150 1697 2047 \nL 1894 2003 \nQ 2506 1872 2764 1633 \nQ 3022 1394 3022 966 \nQ 3022 478 2636 193 \nQ 2250 -91 1575 -91 \nQ 1294 -91 989 -36 \nQ 684 19 347 128 \nL 347 722 \nQ 666 556 975 473 \nQ 1284 391 1588 391 \nQ 1994 391 2212 530 \nQ 2431 669 2431 922 \nQ 2431 1156 2273 1281 \nQ 2116 1406 1581 1522 \nL 1381 1569 \nQ 847 1681 609 1914 \nQ 372 2147 372 2553 \nQ 372 3047 722 3315 \nQ 1072 3584 1716 3584 \nQ 2034 3584 2315 3537 \nQ 2597 3491 2834 3397 \nz\n\" transform=\"scale(0.015625)\"/>\n       <path id=\"DejaVuSans-6f\" d=\"M 1959 3097 \nQ 1497 3097 1228 2736 \nQ 959 2375 959 1747 \nQ 959 1119 1226 758 \nQ 1494 397 1959 397 \nQ 2419 397 2687 759 \nQ 2956 1122 2956 1747 \nQ 2956 2369 2687 2733 \nQ 2419 3097 1959 3097 \nz\nM 1959 3584 \nQ 2709 3584 3137 3096 \nQ 3566 2609 3566 1747 \nQ 3566 888 3137 398 \nQ 2709 -91 1959 -91 \nQ 1206 -91 779 398 \nQ 353 888 353 1747 \nQ 353 2609 779 3096 \nQ 1206 3584 1959 3584 \nz\n\" transform=\"scale(0.015625)\"/>\n       <path id=\"DejaVuSans-75\" d=\"M 544 1381 \nL 544 3500 \nL 1119 3500 \nL 1119 1403 \nQ 1119 906 1312 657 \nQ 1506 409 1894 409 \nQ 2359 409 2629 706 \nQ 2900 1003 2900 1516 \nL 2900 3500 \nL 3475 3500 \nL 3475 0 \nL 2900 0 \nL 2900 538 \nQ 2691 219 2414 64 \nQ 2138 -91 1772 -91 \nQ 1169 -91 856 284 \nQ 544 659 544 1381 \nz\nM 1991 3584 \nL 1991 3584 \nz\n\" transform=\"scale(0.015625)\"/>\n       <path id=\"DejaVuSans-63\" d=\"M 3122 3366 \nL 3122 2828 \nQ 2878 2963 2633 3030 \nQ 2388 3097 2138 3097 \nQ 1578 3097 1268 2742 \nQ 959 2388 959 1747 \nQ 959 1106 1268 751 \nQ 1578 397 2138 397 \nQ 2388 397 2633 464 \nQ 2878 531 3122 666 \nL 3122 134 \nQ 2881 22 2623 -34 \nQ 2366 -91 2075 -91 \nQ 1284 -91 818 406 \nQ 353 903 353 1747 \nQ 353 2603 823 3093 \nQ 1294 3584 2113 3584 \nQ 2378 3584 2631 3529 \nQ 2884 3475 3122 3366 \nz\n\" transform=\"scale(0.015625)\"/>\n      </defs>\n      <use xlink:href=\"#DejaVuSans-73\"/>\n      <use xlink:href=\"#DejaVuSans-6f\" x=\"52.099609\"/>\n      <use xlink:href=\"#DejaVuSans-75\" x=\"113.28125\"/>\n      <use xlink:href=\"#DejaVuSans-72\" x=\"176.660156\"/>\n      <use xlink:href=\"#DejaVuSans-63\" x=\"215.523438\"/>\n      <use xlink:href=\"#DejaVuSans-65\" x=\"270.503906\"/>\n      <use xlink:href=\"#DejaVuSans-3d\" x=\"332.027344\"/>\n      <use xlink:href=\"#DejaVuSans-47\" x=\"415.816406\"/>\n      <use xlink:href=\"#DejaVuSans-4f\" x=\"493.306641\"/>\n      <use xlink:href=\"#DejaVuSans-32\" x=\"572.017578\"/>\n      <use xlink:href=\"#DejaVuSans-30\" x=\"635.640625\"/>\n     </g>\n    </g>\n   </g>\n  </g>\n </g>\n <defs>\n  <clipPath id=\"p791e8bab2e\">\n   <rect x=\"7.2\" y=\"7.2\" width=\"167.2596\" height=\"100.13\"/>\n  </clipPath>\n </defs>\n</svg>\n",
      "text/plain": [
       "<schemdraw.backends.mpl.Figure object at 0x7f6b32d768b0>"
      ]
     },
     "execution_count": 7,
     "metadata": {},
     "output_type": "execute_result"
    }
   ],
   "source": [
    "# uses schemdraw, you may have to install it in order to run it on your PC\n",
    "import schemdraw\n",
    "import schemdraw.elements as elm\n",
    "d = schemdraw.Drawing()\n",
    "Q = d.add(elm.NFet, reverse=True)\n",
    "d.add(elm.Dot, xy=Q.gate, lftlabel='gate=AIN0')\n",
    "d.add(elm.Dot, xy=Q.drain, toplabel='drain=GO22')\n",
    "d.add(elm.Dot, xy=Q.source, botlabel='source=GO20')\n",
    "d.draw()"
   ]
  },
  {
   "cell_type": "markdown",
   "metadata": {},
   "source": [
    "Hint: To cancel out the leakage current and shunt resistance (recall lab1), you may want to do a subtraction\n",
    "\n",
    "$I_{ds} = I_{GO20} - I_{GO20}|_{V_g = 0}$ "
   ]
  },
  {
   "cell_type": "markdown",
   "metadata": {},
   "source": [
    "* You have to set the input voltage demultiplexer by sending a configuration event:"
   ]
  },
  {
   "cell_type": "code",
   "execution_count": 5,
   "metadata": {},
   "outputs": [],
   "source": [
    "events = [pyplane.Coach.generate_aerc_event( \\\n",
    "    pyplane.Coach.CurrentOutputSelect.SelectLine5, \\\n",
    "    pyplane.Coach.VoltageOutputSelect.NoneSelected, \\\n",
    "    pyplane.Coach.VoltageInputSelect.SelectLine2, \\\n",
    "    pyplane.Coach.SynapseSelect.NoneSelected, 0)]\n",
    "\n",
    "p.send_coach_events(events)"
   ]
  },
  {
   "cell_type": "markdown",
   "metadata": {},
   "source": [
    "**Make sure the chip receives the event by a blink of LED1, if it's not the case, the chip is dead and you must replug it.**"
   ]
  },
  {
   "cell_type": "markdown",
   "metadata": {},
   "source": [
    "* What will be the fixed value for source, bulk (substrate or well), and drain voltages?"
   ]
  },
  {
   "cell_type": "code",
   "execution_count": 9,
   "metadata": {},
   "outputs": [
    {
     "name": "stdout",
     "output_type": "stream",
     "text": [
      "The source voltage is set to 0 V\n"
     ]
    }
   ],
   "source": [
    "# set source voltage\n",
    "vs_n = 0\n",
    "p.set_voltage(pyplane.DacChannel.GO20,vs_n)       \n",
    "print(\"The source voltage is set to {} V\".format(vs_n)) #better use p.get_set_voltage"
   ]
  },
  {
   "cell_type": "code",
   "execution_count": 27,
   "metadata": {},
   "outputs": [
    {
     "name": "stdout",
     "output_type": "stream",
     "text": [
      "The drain voltage is set to 1.8 V\n"
     ]
    }
   ],
   "source": [
    "# set drain voltage\n",
    "vd_n = 1.8\n",
    "p.set_voltage(pyplane.DacChannel.GO22, vd_n)\n",
    "print(\"The drain voltage is set to {} V\".format(vd_n))"
   ]
  },
  {
   "cell_type": "code",
   "execution_count": 11,
   "metadata": {},
   "outputs": [
    {
     "name": "stdout",
     "output_type": "stream",
     "text": [
      "The trial gate voltage is set to 0 V\n",
      "Leakage current is 2.4414064103694955e-09 A\n"
     ]
    }
   ],
   "source": [
    "#get leakage current\n",
    "vg_leakage = 0\n",
    "p.set_voltage(pyplane.DacChannel.AIN0, vg_leakage)\n",
    "print(\"The trial gate voltage is set to {} V\".format(vg_leakage))\n",
    "leakage = p.read_current(pyplane.AdcChannel.GO20_N)\n",
    "print(\"Leakage current is {} A\".format(leakage))"
   ]
  },
  {
   "cell_type": "code",
   "execution_count": 28,
   "metadata": {},
   "outputs": [
    {
     "name": "stdout",
     "output_type": "stream",
     "text": [
      "The trial gate voltage is set to 1.8 V\n"
     ]
    }
   ],
   "source": [
    "# set trial gate voltage\n",
    "vg_n = 1.8\n",
    "p.set_voltage(pyplane.DacChannel.AIN0, vg_n)\n",
    "print(\"The trial gate voltage is set to {} V\".format(vg_n))"
   ]
  },
  {
   "cell_type": "code",
   "execution_count": 29,
   "metadata": {},
   "outputs": [
    {
     "name": "stdout",
     "output_type": "stream",
     "text": [
      "Ids is 9.98779228211788e-07 A\n"
     ]
    }
   ],
   "source": [
    "# read Ids, from *Source* --> NOTE THAT THE ADC CHANNEL PIN CHANGES THE NAME FOR THE SOURCE\n",
    "ids_n = p.read_current(pyplane.AdcChannel.GO20_N)\n",
    "print(\"Ids is {} A\".format(ids_n))"
   ]
  },
  {
   "cell_type": "markdown",
   "metadata": {},
   "source": [
    "* Data aquisition"
   ]
  },
  {
   "cell_type": "code",
   "execution_count": 30,
   "metadata": {},
   "outputs": [],
   "source": [
    "# sweep gate voltage\n",
    "import numpy as np\n",
    "Ids_sweep = []\n",
    "V_sweep = np.arange(0,1.8,0.01)\n",
    "for voltage in V_sweep:\n",
    "    #set voltage\n",
    "    p.set_voltage(pyplane.DacChannel.AIN0, voltage)\n",
    "    #print(\"The gate voltage is set to {} V\".format(voltage))\n",
    "    time.sleep(0.05)\n",
    "    Ids_sweep.append(p.read_current(pyplane.AdcChannel.GO20_N)-leakage)\n"
   ]
  },
  {
   "cell_type": "code",
   "execution_count": 31,
   "metadata": {},
   "outputs": [
    {
     "data": {
      "image/png": "[encoded data removed]",
      "text/plain": [
       "<Figure size 640x480 with 1 Axes>"
      ]
     },
     "metadata": {},
     "output_type": "display_data"
    }
   ],
   "source": [
    "# plot in linear scale \n",
    "plt.rcParams.update({'font.size': 14})\n",
    "plt.plot(V_sweep,Ids_sweep,\"o\")\n",
    "plt.xlabel('''Vgs [V] \n",
    "\n",
    "        Fig.1.1: Ids as a function of Vgs in an N-FET transistor            ''')\n",
    "plt.ylabel('Ids [A]')\n",
    "plt.title(\"Ids vs Vgs\")\n",
    "#plt.legend()\n",
    "plt.grid()\n",
    "plt.show()\n"
   ]
  },
  {
   "cell_type": "code",
   "execution_count": 32,
   "metadata": {},
   "outputs": [],
   "source": [
    "# if it looks nice in the plot, save it!\n",
    "\n",
    "#plt.savefig(\"TP_2_plot_3_1\")\n",
    "data = [Ids_sweep,V_sweep]\n",
    "np.savetxt('TP_2_data_3_1.csv',data, delimiter = ',')\n"
   ]
  },
  {
   "cell_type": "code",
   "execution_count": 2,
   "metadata": {},
   "outputs": [],
   "source": [
    "# Load data you saved and plot, to check if the data is saved correctly\n",
    "y,x = np.loadtxt('TP_2_data_3_1.csv',delimiter=',')"
   ]
  },
  {
   "cell_type": "code",
   "execution_count": 19,
   "metadata": {},
   "outputs": [
    {
     "data": {
      "image/png": "[encoded data removed]",
      "text/plain": [
       "<Figure size 432x288 with 1 Axes>"
      ]
     },
     "metadata": {
      "needs_background": "light"
     },
     "output_type": "display_data"
    }
   ],
   "source": [
    "# plot in logarithmic scale\n",
    "plt.rcParams.update({'font.size': 14})\n",
    "plt.semilogy(x[10:80],y[10:80],\"o-\",label=\"$I_{ds}$\")\n",
    "plt.xlabel('''$V_{gs}$ [V]\n",
    "\n",
    "        Fig.1.2: $I_{ds}$ as a function of $V_{gs}$ in an N-FET transistor in saturation           ''')\n",
    "plt.ylabel('$I_{ds}$ [A]')\n",
    "plt.title(\"log plot of $I_{ds}$ vs $V_{gs}$ for nFET\")\n",
    "plt.grid()\n",
    "plt.legend()\n",
    "plt.show()"
   ]
  },
  {
   "cell_type": "code",
   "execution_count": 30,
   "metadata": {},
   "outputs": [
    {
     "data": {
      "image/png": "[encoded data removed]",
      "text/plain": [
       "<Figure size 432x288 with 1 Axes>"
      ]
     },
     "metadata": {
      "needs_background": "light"
     },
     "output_type": "display_data"
    }
   ],
   "source": [
    "# extract the valid range and plot in logarithmic scale\n",
    "valid_y = y[47:60]\n",
    "valid_x = x[47:60]\n",
    "plt.plot(valid_x,valid_y,\"o-\")\n",
    "plt.xlabel('''$V_{gs}$ [V]\n",
    "\n",
    "        Fig.1.3: Exponential range of\n",
    "        $I_{ds}$ as a function of $V_{gs}$ in an N-FET transistor in saturation         ''')\n",
    "plt.ylabel('$I_{ds}$ [A]')\n",
    "plt.title(\"log plot of $I_{ds}$ vs $V_{gs}$\")\n",
    "plt.semilogy()\n",
    "plt.grid()\n",
    "plt.show()\n"
   ]
  },
  {
   "cell_type": "code",
   "execution_count": 50,
   "metadata": {},
   "outputs": [
    {
     "data": {
      "image/png": "[encoded data removed]",
      "text/plain": [
       "<Figure size 432x288 with 1 Axes>"
      ]
     },
     "metadata": {
      "needs_background": "light"
     },
     "output_type": "display_data"
    }
   ],
   "source": [
    "# fit in the valid range (you may want to add the fitted line in the plot)\n",
    "# compare the orignial data points and the fitted line\n",
    "from scipy.optimize import curve_fit\n",
    "\n",
    "def Ids_nFET_func(Vgs,k,I0):\n",
    "        Ut = 0.025\n",
    "        return I0 * np.exp(k*Vgs/Ut)\n",
    "\n",
    "popt, pcov = curve_fit(Ids_nFET_func,valid_x,valid_y,p0=[0.48, 1e-7])\n",
    "fit_k,fit_I0 = popt\n",
    "fitted_y = Ids_nFET_func(valid_x,fit_k,fit_I0)\n",
    "\n",
    "\n",
    "plt.plot(valid_x,valid_y,\"o-\",label='original data')\n",
    "plt.plot(valid_x,fitted_y,\"x--\",label=\"Fitted $I_{ds}$\")\n",
    "plt.xlabel('''$V_{gs}$ [V]\n",
    "\n",
    "        Fig.1.4: Exponential range of\n",
    "        $I_{ds}$ as a function of $V_{gs}$ in an N-FET transistor in saturation\n",
    "         fitted using $I=I_{0}e^{(\\kappa V_{g}-V_{s})/U_{T}}$\n",
    "                  ''')\n",
    "plt.ylabel('$I_{ds}$ [A]')\n",
    "plt.title(\"log plot of $I_{ds}$ vs $V_{gs}$\")\n",
    "plt.legend()\n",
    "plt.semilogy()\n",
    "plt.grid()\n",
    "plt.show()"
   ]
  },
  {
   "cell_type": "markdown",
   "metadata": {},
   "source": [
    "* Extract $I_0$ and $\\kappa$"
   ]
  },
  {
   "cell_type": "code",
   "execution_count": 55,
   "metadata": {},
   "outputs": [
    {
     "name": "stdout",
     "output_type": "stream",
     "text": [
      "I_0 = 6.558069379435462e-11\n"
     ]
    }
   ],
   "source": [
    "# I_0\n",
    "print(f\"I_0 = {fit_I0}\")"
   ]
  },
  {
   "cell_type": "code",
   "execution_count": 54,
   "metadata": {},
   "outputs": [
    {
     "name": "stdout",
     "output_type": "stream",
     "text": [
      "kappa = 0.3853408682973667\n"
     ]
    }
   ],
   "source": [
    "# kappa\n",
    "print(f\"kappa = {fit_k}\")"
   ]
  },
  {
   "cell_type": "markdown",
   "metadata": {},
   "source": [
    "* Extract the threshold voltage and the current at threshold, using the definition given\n",
    "in class: $I_{ds}$ is half of the extrapolated subthreshold current."
   ]
  },
  {
   "cell_type": "code",
   "execution_count": 106,
   "metadata": {},
   "outputs": [
    {
     "name": "stdout",
     "output_type": "stream",
     "text": [
      "threshold current:  9.963378218014185e-07\n",
      "Threshold voltage:  0.65\n"
     ]
    },
    {
     "data": {
      "image/png": "[encoded data removed]",
      "text/plain": [
       "<Figure size 432x288 with 1 Axes>"
      ]
     },
     "metadata": {
      "needs_background": "light"
     },
     "output_type": "display_data"
    }
   ],
   "source": [
    "# compute threshold voltage\n",
    "from asyncio import threads\n",
    "from scipy import interpolate\n",
    "f = interpolate.interp1d(valid_x, np.log(fitted_y),fill_value='extrapolate')\n",
    "xnew = np.arange(0,1.8,0.01)\n",
    "ynew = f(xnew)\n",
    "\n",
    "plt.semilogy(xnew[50:90],np.exp(ynew[50:90]))\n",
    "plt.semilogy(x[50:90],y[50:90])\n",
    "plt.grid()\n",
    "\n",
    "threshold_I = None\n",
    "for i,ext in zip(y[60:90],np.exp(ynew[60:90])):\n",
    "    if i <= ext*0.5:\n",
    "        threshold_I = i\n",
    "print(\"threshold current: \",threshold_I)\n",
    "index = None\n",
    "for i in y[60:90]:\n",
    "    if i <= threshold_I:\n",
    "       index = np.where(y == i)\n",
    "\n",
    "print(\"Threshold voltage: \", x[index[0][0]])"
   ]
  },
  {
   "cell_type": "code",
   "execution_count": null,
   "metadata": {},
   "outputs": [],
   "source": [
    "# compute Ids at threshold voltage\n",
    "I_interp = interpolate.interp1d(..., ...)\n",
    "I_interp(...)"
   ]
  },
  {
   "cell_type": "markdown",
   "metadata": {},
   "source": [
    "## 3.2 P-FET "
   ]
  },
  {
   "cell_type": "code",
   "execution_count": null,
   "metadata": {
    "scrolled": true
   },
   "outputs": [
    {
     "data": {
      "image/png": "[encoded data removed]",
      "image/svg+xml": "<?xml version=\"1.0\" encoding=\"utf-8\" standalone=\"no\"?>\n<!DOCTYPE svg PUBLIC \"-//W3C//DTD SVG 1.1//EN\"\n  \"http://www.w3.org/Graphics/SVG/1.1/DTD/svg11.dtd\">\n<svg xmlns:xlink=\"http://www.w3.org/1999/xlink\" width=\"203.865pt\" height=\"114.53pt\" viewBox=\"0 0 203.865 114.53\" xmlns=\"http://www.w3.org/2000/svg\" version=\"1.1\">\n <metadata>\n  <rdf:RDF xmlns:dc=\"http://purl.org/dc/elements/1.1/\" xmlns:cc=\"http://creativecommons.org/ns#\" xmlns:rdf=\"http://www.w3.org/1999/02/22-rdf-syntax-ns#\">\n   <cc:Work>\n    <dc:type rdf:resource=\"http://purl.org/dc/dcmitype/StillImage\"/>\n    <dc:date>2022-10-05T15:56:56.104349</dc:date>\n    <dc:format>image/svg+xml</dc:format>\n    <dc:creator>\n     <cc:Agent>\n      <dc:title>Matplotlib v3.6.0, https://matplotlib.org/</dc:title>\n     </cc:Agent>\n    </dc:creator>\n   </cc:Work>\n  </rdf:RDF>\n </metadata>\n <defs>\n  <style type=\"text/css\">*{stroke-linejoin: round; stroke-linecap: butt}</style>\n </defs>\n <g id=\"figure_1\">\n  <g id=\"patch_1\">\n   <path d=\"M 0 114.53 \nL 203.865 114.53 \nL 203.865 0 \nL 0 0 \nz\n\" style=\"fill: #ffffff\"/>\n  </g>\n  <g id=\"axes_1\">\n   <g id=\"patch_2\">\n    <path d=\"M 91.5336 63.895 \nC 92.480375 63.895 93.3885 63.518842 94.057971 62.849371 \nC 94.727442 62.1799 95.1036 61.271775 95.1036 60.325 \nC 95.1036 59.378225 94.727442 58.4701 94.057971 57.800629 \nC 93.3885 57.131158 92.480375 56.755 91.5336 56.755 \nC 90.586825 56.755 89.6787 57.131158 89.009229 57.800629 \nC 88.339758 58.4701 87.9636 59.378225 87.9636 60.325 \nC 87.9636 61.271775 88.339758 62.1799 89.009229 62.849371 \nC 89.6787 63.518842 90.586825 63.895 91.5336 63.895 \nL 91.5336 63.895 \nz\n\" clip-path=\"url(#p35e6e02a47)\" style=\"fill: none; stroke: #000000; stroke-width: 2; stroke-linejoin: miter\"/>\n   </g>\n   <g id=\"line2d_1\">\n    <path d=\"M 120.6036 83.275 \nL 120.6036 70.525 \nL 100.2036 70.525 \nL 100.2036 50.125 \nL 120.6036 50.125 \nL 120.6036 37.375 \n\" clip-path=\"url(#p35e6e02a47)\" style=\"fill: none; stroke: #000000; stroke-width: 2; stroke-linecap: round\"/>\n   </g>\n   <g id=\"line2d_2\">\n    <path d=\"M 95.1036 70.525 \nL 95.1036 50.125 \n\" clip-path=\"url(#p35e6e02a47)\" style=\"fill: none; stroke: #000000; stroke-width: 2; stroke-linecap: round\"/>\n   </g>\n   <g id=\"line2d_3\">\n    <path d=\"M 78.7836 60.325 \nL 87.9636 60.325 \n\" clip-path=\"url(#p35e6e02a47)\" style=\"fill: none; stroke: #000000; stroke-width: 2; stroke-linecap: round\"/>\n   </g>\n   <g id=\"line2d_4\">\n    <path d=\"M 107.8536 60.325 \nL 120.6036 60.325 \n\" clip-path=\"url(#p35e6e02a47)\" style=\"fill: none; stroke: #000000; stroke-width: 2; stroke-linecap: round\"/>\n   </g>\n   <g id=\"patch_3\">\n    <path d=\"M 107.8536 63.385 \nL 100.2036 60.325 \nL 107.8536 57.265 \nz\n\" clip-path=\"url(#p35e6e02a47)\"/>\n   </g>\n   <g id=\"patch_4\">\n    <path d=\"M 78.7836 62.62 \nC 79.392241 62.62 79.976036 62.378184 80.40641 61.94781 \nC 80.836784 61.517436 81.0786 60.933641 81.0786 60.325 \nC 81.0786 59.716359 80.836784 59.132564 80.40641 58.70219 \nC 79.976036 58.271816 79.392241 58.03 78.7836 58.03 \nC 78.174959 58.03 77.591164 58.271816 77.16079 58.70219 \nC 76.730416 59.132564 76.4886 59.716359 76.4886 60.325 \nC 76.4886 60.933641 76.730416 61.517436 77.16079 61.94781 \nC 77.591164 62.378184 78.174959 62.62 78.7836 62.62 \nz\n\" clip-path=\"url(#p35e6e02a47)\" style=\"stroke: #000000; stroke-width: 2; stroke-linejoin: miter\"/>\n   </g>\n   <g id=\"text_1\">\n    <g clip-path=\"url(#p35e6e02a47)\">\n     <!-- gate=AIN0 -->\n     <g transform=\"translate(5.223522 63.774219) scale(0.125 -0.125)\">\n      <defs>\n       <path id=\"DejaVuSans-67\" d=\"M 2906 1791 \nQ 2906 2416 2648 2759 \nQ 2391 3103 1925 3103 \nQ 1463 3103 1205 2759 \nQ 947 2416 947 1791 \nQ 947 1169 1205 825 \nQ 1463 481 1925 481 \nQ 2391 481 2648 825 \nQ 2906 1169 2906 1791 \nz\nM 3481 434 \nQ 3481 -459 3084 -895 \nQ 2688 -1331 1869 -1331 \nQ 1566 -1331 1297 -1286 \nQ 1028 -1241 775 -1147 \nL 775 -588 \nQ 1028 -725 1275 -790 \nQ 1522 -856 1778 -856 \nQ 2344 -856 2625 -561 \nQ 2906 -266 2906 331 \nL 2906 616 \nQ 2728 306 2450 153 \nQ 2172 0 1784 0 \nQ 1141 0 747 490 \nQ 353 981 353 1791 \nQ 353 2603 747 3093 \nQ 1141 3584 1784 3584 \nQ 2172 3584 2450 3431 \nQ 2728 3278 2906 2969 \nL 2906 3500 \nL 3481 3500 \nL 3481 434 \nz\n\" transform=\"scale(0.015625)\"/>\n       <path id=\"DejaVuSans-61\" d=\"M 2194 1759 \nQ 1497 1759 1228 1600 \nQ 959 1441 959 1056 \nQ 959 750 1161 570 \nQ 1363 391 1709 391 \nQ 2188 391 2477 730 \nQ 2766 1069 2766 1631 \nL 2766 1759 \nL 2194 1759 \nz\nM 3341 1997 \nL 3341 0 \nL 2766 0 \nL 2766 531 \nQ 2569 213 2275 61 \nQ 1981 -91 1556 -91 \nQ 1019 -91 701 211 \nQ 384 513 384 1019 \nQ 384 1609 779 1909 \nQ 1175 2209 1959 2209 \nL 2766 2209 \nL 2766 2266 \nQ 2766 2663 2505 2880 \nQ 2244 3097 1772 3097 \nQ 1472 3097 1187 3025 \nQ 903 2953 641 2809 \nL 641 3341 \nQ 956 3463 1253 3523 \nQ 1550 3584 1831 3584 \nQ 2591 3584 2966 3190 \nQ 3341 2797 3341 1997 \nz\n\" transform=\"scale(0.015625)\"/>\n       <path id=\"DejaVuSans-74\" d=\"M 1172 4494 \nL 1172 3500 \nL 2356 3500 \nL 2356 3053 \nL 1172 3053 \nL 1172 1153 \nQ 1172 725 1289 603 \nQ 1406 481 1766 481 \nL 2356 481 \nL 2356 0 \nL 1766 0 \nQ 1100 0 847 248 \nQ 594 497 594 1153 \nL 594 3053 \nL 172 3053 \nL 172 3500 \nL 594 3500 \nL 594 4494 \nL 1172 4494 \nz\n\" transform=\"scale(0.015625)\"/>\n       <path id=\"DejaVuSans-65\" d=\"M 3597 1894 \nL 3597 1613 \nL 953 1613 \nQ 991 1019 1311 708 \nQ 1631 397 2203 397 \nQ 2534 397 2845 478 \nQ 3156 559 3463 722 \nL 3463 178 \nQ 3153 47 2828 -22 \nQ 2503 -91 2169 -91 \nQ 1331 -91 842 396 \nQ 353 884 353 1716 \nQ 353 2575 817 3079 \nQ 1281 3584 2069 3584 \nQ 2775 3584 3186 3129 \nQ 3597 2675 3597 1894 \nz\nM 3022 2063 \nQ 3016 2534 2758 2815 \nQ 2500 3097 2075 3097 \nQ 1594 3097 1305 2825 \nQ 1016 2553 972 2059 \nL 3022 2063 \nz\n\" transform=\"scale(0.015625)\"/>\n       <path id=\"DejaVuSans-3d\" d=\"M 678 2906 \nL 4684 2906 \nL 4684 2381 \nL 678 2381 \nL 678 2906 \nz\nM 678 1631 \nL 4684 1631 \nL 4684 1100 \nL 678 1100 \nL 678 1631 \nz\n\" transform=\"scale(0.015625)\"/>\n       <path id=\"DejaVuSans-41\" d=\"M 2188 4044 \nL 1331 1722 \nL 3047 1722 \nL 2188 4044 \nz\nM 1831 4666 \nL 2547 4666 \nL 4325 0 \nL 3669 0 \nL 3244 1197 \nL 1141 1197 \nL 716 0 \nL 50 0 \nL 1831 4666 \nz\n\" transform=\"scale(0.015625)\"/>\n       <path id=\"DejaVuSans-49\" d=\"M 628 4666 \nL 1259 4666 \nL 1259 0 \nL 628 0 \nL 628 4666 \nz\n\" transform=\"scale(0.015625)\"/>\n       <path id=\"DejaVuSans-4e\" d=\"M 628 4666 \nL 1478 4666 \nL 3547 763 \nL 3547 4666 \nL 4159 4666 \nL 4159 0 \nL 3309 0 \nL 1241 3903 \nL 1241 0 \nL 628 0 \nL 628 4666 \nz\n\" transform=\"scale(0.015625)\"/>\n       <path id=\"DejaVuSans-30\" d=\"M 2034 4250 \nQ 1547 4250 1301 3770 \nQ 1056 3291 1056 2328 \nQ 1056 1369 1301 889 \nQ 1547 409 2034 409 \nQ 2525 409 2770 889 \nQ 3016 1369 3016 2328 \nQ 3016 3291 2770 3770 \nQ 2525 4250 2034 4250 \nz\nM 2034 4750 \nQ 2819 4750 3233 4129 \nQ 3647 3509 3647 2328 \nQ 3647 1150 3233 529 \nQ 2819 -91 2034 -91 \nQ 1250 -91 836 529 \nQ 422 1150 422 2328 \nQ 422 3509 836 4129 \nQ 1250 4750 2034 4750 \nz\n\" transform=\"scale(0.015625)\"/>\n      </defs>\n      <use xlink:href=\"#DejaVuSans-67\"/>\n      <use xlink:href=\"#DejaVuSans-61\" x=\"63.476562\"/>\n      <use xlink:href=\"#DejaVuSans-74\" x=\"124.755859\"/>\n      <use xlink:href=\"#DejaVuSans-65\" x=\"163.964844\"/>\n      <use xlink:href=\"#DejaVuSans-3d\" x=\"225.488281\"/>\n      <use xlink:href=\"#DejaVuSans-41\" x=\"309.277344\"/>\n      <use xlink:href=\"#DejaVuSans-49\" x=\"377.685547\"/>\n      <use xlink:href=\"#DejaVuSans-4e\" x=\"407.177734\"/>\n      <use xlink:href=\"#DejaVuSans-30\" x=\"481.982422\"/>\n     </g>\n    </g>\n   </g>\n   <g id=\"patch_5\">\n    <path d=\"M 120.6036 62.62 \nC 121.212241 62.62 121.796036 62.378184 122.22641 61.94781 \nC 122.656784 61.517436 122.8986 60.933641 122.8986 60.325 \nC 122.8986 59.716359 122.656784 59.132564 122.22641 58.70219 \nC 121.796036 58.271816 121.212241 58.03 120.6036 58.03 \nC 119.994959 58.03 119.411164 58.271816 118.98079 58.70219 \nC 118.550416 59.132564 118.3086 59.716359 118.3086 60.325 \nC 118.3086 60.933641 118.550416 61.517436 118.98079 61.94781 \nC 119.411164 62.378184 119.994959 62.62 120.6036 62.62 \nz\n\" clip-path=\"url(#p35e6e02a47)\" style=\"stroke: #000000; stroke-width: 2; stroke-linejoin: miter\"/>\n   </g>\n   <g id=\"text_2\">\n    <g clip-path=\"url(#p35e6e02a47)\">\n     <!-- bulk=AIN1 -->\n     <g transform=\"translate(125.9586 63.774219) scale(0.125 -0.125)\">\n      <defs>\n       <path id=\"DejaVuSans-62\" d=\"M 3116 1747 \nQ 3116 2381 2855 2742 \nQ 2594 3103 2138 3103 \nQ 1681 3103 1420 2742 \nQ 1159 2381 1159 1747 \nQ 1159 1113 1420 752 \nQ 1681 391 2138 391 \nQ 2594 391 2855 752 \nQ 3116 1113 3116 1747 \nz\nM 1159 2969 \nQ 1341 3281 1617 3432 \nQ 1894 3584 2278 3584 \nQ 2916 3584 3314 3078 \nQ 3713 2572 3713 1747 \nQ 3713 922 3314 415 \nQ 2916 -91 2278 -91 \nQ 1894 -91 1617 61 \nQ 1341 213 1159 525 \nL 1159 0 \nL 581 0 \nL 581 4863 \nL 1159 4863 \nL 1159 2969 \nz\n\" transform=\"scale(0.015625)\"/>\n       <path id=\"DejaVuSans-75\" d=\"M 544 1381 \nL 544 3500 \nL 1119 3500 \nL 1119 1403 \nQ 1119 906 1312 657 \nQ 1506 409 1894 409 \nQ 2359 409 2629 706 \nQ 2900 1003 2900 1516 \nL 2900 3500 \nL 3475 3500 \nL 3475 0 \nL 2900 0 \nL 2900 538 \nQ 2691 219 2414 64 \nQ 2138 -91 1772 -91 \nQ 1169 -91 856 284 \nQ 544 659 544 1381 \nz\nM 1991 3584 \nL 1991 3584 \nz\n\" transform=\"scale(0.015625)\"/>\n       <path id=\"DejaVuSans-6c\" d=\"M 603 4863 \nL 1178 4863 \nL 1178 0 \nL 603 0 \nL 603 4863 \nz\n\" transform=\"scale(0.015625)\"/>\n       <path id=\"DejaVuSans-6b\" d=\"M 581 4863 \nL 1159 4863 \nL 1159 1991 \nL 2875 3500 \nL 3609 3500 \nL 1753 1863 \nL 3688 0 \nL 2938 0 \nL 1159 1709 \nL 1159 0 \nL 581 0 \nL 581 4863 \nz\n\" transform=\"scale(0.015625)\"/>\n       <path id=\"DejaVuSans-31\" d=\"M 794 531 \nL 1825 531 \nL 1825 4091 \nL 703 3866 \nL 703 4441 \nL 1819 4666 \nL 2450 4666 \nL 2450 531 \nL 3481 531 \nL 3481 0 \nL 794 0 \nL 794 531 \nz\n\" transform=\"scale(0.015625)\"/>\n      </defs>\n      <use xlink:href=\"#DejaVuSans-62\"/>\n      <use xlink:href=\"#DejaVuSans-75\" x=\"63.476562\"/>\n      <use xlink:href=\"#DejaVuSans-6c\" x=\"126.855469\"/>\n      <use xlink:href=\"#DejaVuSans-6b\" x=\"154.638672\"/>\n      <use xlink:href=\"#DejaVuSans-3d\" x=\"212.548828\"/>\n      <use xlink:href=\"#DejaVuSans-41\" x=\"296.337891\"/>\n      <use xlink:href=\"#DejaVuSans-49\" x=\"364.746094\"/>\n      <use xlink:href=\"#DejaVuSans-4e\" x=\"394.238281\"/>\n      <use xlink:href=\"#DejaVuSans-31\" x=\"469.042969\"/>\n     </g>\n    </g>\n   </g>\n   <g id=\"patch_6\">\n    <path d=\"M 120.6036 85.57 \nC 121.212241 85.57 121.796036 85.328184 122.22641 84.89781 \nC 122.656784 84.467436 122.8986 83.883641 122.8986 83.275 \nC 122.8986 82.666359 122.656784 82.082564 122.22641 81.65219 \nC 121.796036 81.221816 121.212241 80.98 120.6036 80.98 \nC 119.994959 80.98 119.411164 81.221816 118.98079 81.65219 \nC 118.550416 82.082564 118.3086 82.666359 118.3086 83.275 \nC 118.3086 83.883641 118.550416 84.467436 118.98079 84.89781 \nC 119.411164 85.328184 119.994959 85.57 120.6036 85.57 \nz\n\" clip-path=\"url(#p35e6e02a47)\" style=\"stroke: #000000; stroke-width: 2; stroke-linejoin: miter\"/>\n   </g>\n   <g id=\"text_3\">\n    <g clip-path=\"url(#p35e6e02a47)\">\n     <!-- drain=GO21 -->\n     <g transform=\"translate(81.586022 98.128047) scale(0.125 -0.125)\">\n      <defs>\n       <path id=\"DejaVuSans-64\" d=\"M 2906 2969 \nL 2906 4863 \nL 3481 4863 \nL 3481 0 \nL 2906 0 \nL 2906 525 \nQ 2725 213 2448 61 \nQ 2172 -91 1784 -91 \nQ 1150 -91 751 415 \nQ 353 922 353 1747 \nQ 353 2572 751 3078 \nQ 1150 3584 1784 3584 \nQ 2172 3584 2448 3432 \nQ 2725 3281 2906 2969 \nz\nM 947 1747 \nQ 947 1113 1208 752 \nQ 1469 391 1925 391 \nQ 2381 391 2643 752 \nQ 2906 1113 2906 1747 \nQ 2906 2381 2643 2742 \nQ 2381 3103 1925 3103 \nQ 1469 3103 1208 2742 \nQ 947 2381 947 1747 \nz\n\" transform=\"scale(0.015625)\"/>\n       <path id=\"DejaVuSans-72\" d=\"M 2631 2963 \nQ 2534 3019 2420 3045 \nQ 2306 3072 2169 3072 \nQ 1681 3072 1420 2755 \nQ 1159 2438 1159 1844 \nL 1159 0 \nL 581 0 \nL 581 3500 \nL 1159 3500 \nL 1159 2956 \nQ 1341 3275 1631 3429 \nQ 1922 3584 2338 3584 \nQ 2397 3584 2469 3576 \nQ 2541 3569 2628 3553 \nL 2631 2963 \nz\n\" transform=\"scale(0.015625)\"/>\n       <path id=\"DejaVuSans-69\" d=\"M 603 3500 \nL 1178 3500 \nL 1178 0 \nL 603 0 \nL 603 3500 \nz\nM 603 4863 \nL 1178 4863 \nL 1178 4134 \nL 603 4134 \nL 603 4863 \nz\n\" transform=\"scale(0.015625)\"/>\n       <path id=\"DejaVuSans-6e\" d=\"M 3513 2113 \nL 3513 0 \nL 2938 0 \nL 2938 2094 \nQ 2938 2591 2744 2837 \nQ 2550 3084 2163 3084 \nQ 1697 3084 1428 2787 \nQ 1159 2491 1159 1978 \nL 1159 0 \nL 581 0 \nL 581 3500 \nL 1159 3500 \nL 1159 2956 \nQ 1366 3272 1645 3428 \nQ 1925 3584 2291 3584 \nQ 2894 3584 3203 3211 \nQ 3513 2838 3513 2113 \nz\n\" transform=\"scale(0.015625)\"/>\n       <path id=\"DejaVuSans-47\" d=\"M 3809 666 \nL 3809 1919 \nL 2778 1919 \nL 2778 2438 \nL 4434 2438 \nL 4434 434 \nQ 4069 175 3628 42 \nQ 3188 -91 2688 -91 \nQ 1594 -91 976 548 \nQ 359 1188 359 2328 \nQ 359 3472 976 4111 \nQ 1594 4750 2688 4750 \nQ 3144 4750 3555 4637 \nQ 3966 4525 4313 4306 \nL 4313 3634 \nQ 3963 3931 3569 4081 \nQ 3175 4231 2741 4231 \nQ 1884 4231 1454 3753 \nQ 1025 3275 1025 2328 \nQ 1025 1384 1454 906 \nQ 1884 428 2741 428 \nQ 3075 428 3337 486 \nQ 3600 544 3809 666 \nz\n\" transform=\"scale(0.015625)\"/>\n       <path id=\"DejaVuSans-4f\" d=\"M 2522 4238 \nQ 1834 4238 1429 3725 \nQ 1025 3213 1025 2328 \nQ 1025 1447 1429 934 \nQ 1834 422 2522 422 \nQ 3209 422 3611 934 \nQ 4013 1447 4013 2328 \nQ 4013 3213 3611 3725 \nQ 3209 4238 2522 4238 \nz\nM 2522 4750 \nQ 3503 4750 4090 4092 \nQ 4678 3434 4678 2328 \nQ 4678 1225 4090 567 \nQ 3503 -91 2522 -91 \nQ 1538 -91 948 565 \nQ 359 1222 359 2328 \nQ 359 3434 948 4092 \nQ 1538 4750 2522 4750 \nz\n\" transform=\"scale(0.015625)\"/>\n       <path id=\"DejaVuSans-32\" d=\"M 1228 531 \nL 3431 531 \nL 3431 0 \nL 469 0 \nL 469 531 \nQ 828 903 1448 1529 \nQ 2069 2156 2228 2338 \nQ 2531 2678 2651 2914 \nQ 2772 3150 2772 3378 \nQ 2772 3750 2511 3984 \nQ 2250 4219 1831 4219 \nQ 1534 4219 1204 4116 \nQ 875 4013 500 3803 \nL 500 4441 \nQ 881 4594 1212 4672 \nQ 1544 4750 1819 4750 \nQ 2544 4750 2975 4387 \nQ 3406 4025 3406 3419 \nQ 3406 3131 3298 2873 \nQ 3191 2616 2906 2266 \nQ 2828 2175 2409 1742 \nQ 1991 1309 1228 531 \nz\n\" transform=\"scale(0.015625)\"/>\n      </defs>\n      <use xlink:href=\"#DejaVuSans-64\"/>\n      <use xlink:href=\"#DejaVuSans-72\" x=\"63.476562\"/>\n      <use xlink:href=\"#DejaVuSans-61\" x=\"104.589844\"/>\n      <use xlink:href=\"#DejaVuSans-69\" x=\"165.869141\"/>\n      <use xlink:href=\"#DejaVuSans-6e\" x=\"193.652344\"/>\n      <use xlink:href=\"#DejaVuSans-3d\" x=\"257.03125\"/>\n      <use xlink:href=\"#DejaVuSans-47\" x=\"340.820312\"/>\n      <use xlink:href=\"#DejaVuSans-4f\" x=\"418.310547\"/>\n      <use xlink:href=\"#DejaVuSans-32\" x=\"497.021484\"/>\n      <use xlink:href=\"#DejaVuSans-31\" x=\"560.644531\"/>\n     </g>\n    </g>\n   </g>\n   <g id=\"patch_7\">\n    <path d=\"M 120.6036 39.67 \nC 121.212241 39.67 121.796036 39.428184 122.22641 38.99781 \nC 122.656784 38.567436 122.8986 37.983641 122.8986 37.375 \nC 122.8986 36.766359 122.656784 36.182564 122.22641 35.75219 \nC 121.796036 35.321816 121.212241 35.08 120.6036 35.08 \nC 119.994959 35.08 119.411164 35.321816 118.98079 35.75219 \nC 118.550416 36.182564 118.3086 36.766359 118.3086 37.375 \nC 118.3086 37.983641 118.550416 38.567436 118.98079 38.99781 \nC 119.411164 39.428184 119.994959 39.67 120.6036 39.67 \nz\n\" clip-path=\"url(#p35e6e02a47)\" style=\"stroke: #000000; stroke-width: 2; stroke-linejoin: miter\"/>\n   </g>\n   <g id=\"text_4\">\n    <g clip-path=\"url(#p35e6e02a47)\">\n     <!-- source=GO23 -->\n     <g transform=\"translate(76.898522 29.420391) scale(0.125 -0.125)\">\n      <defs>\n       <path id=\"DejaVuSans-73\" d=\"M 2834 3397 \nL 2834 2853 \nQ 2591 2978 2328 3040 \nQ 2066 3103 1784 3103 \nQ 1356 3103 1142 2972 \nQ 928 2841 928 2578 \nQ 928 2378 1081 2264 \nQ 1234 2150 1697 2047 \nL 1894 2003 \nQ 2506 1872 2764 1633 \nQ 3022 1394 3022 966 \nQ 3022 478 2636 193 \nQ 2250 -91 1575 -91 \nQ 1294 -91 989 -36 \nQ 684 19 347 128 \nL 347 722 \nQ 666 556 975 473 \nQ 1284 391 1588 391 \nQ 1994 391 2212 530 \nQ 2431 669 2431 922 \nQ 2431 1156 2273 1281 \nQ 2116 1406 1581 1522 \nL 1381 1569 \nQ 847 1681 609 1914 \nQ 372 2147 372 2553 \nQ 372 3047 722 3315 \nQ 1072 3584 1716 3584 \nQ 2034 3584 2315 3537 \nQ 2597 3491 2834 3397 \nz\n\" transform=\"scale(0.015625)\"/>\n       <path id=\"DejaVuSans-6f\" d=\"M 1959 3097 \nQ 1497 3097 1228 2736 \nQ 959 2375 959 1747 \nQ 959 1119 1226 758 \nQ 1494 397 1959 397 \nQ 2419 397 2687 759 \nQ 2956 1122 2956 1747 \nQ 2956 2369 2687 2733 \nQ 2419 3097 1959 3097 \nz\nM 1959 3584 \nQ 2709 3584 3137 3096 \nQ 3566 2609 3566 1747 \nQ 3566 888 3137 398 \nQ 2709 -91 1959 -91 \nQ 1206 -91 779 398 \nQ 353 888 353 1747 \nQ 353 2609 779 3096 \nQ 1206 3584 1959 3584 \nz\n\" transform=\"scale(0.015625)\"/>\n       <path id=\"DejaVuSans-63\" d=\"M 3122 3366 \nL 3122 2828 \nQ 2878 2963 2633 3030 \nQ 2388 3097 2138 3097 \nQ 1578 3097 1268 2742 \nQ 959 2388 959 1747 \nQ 959 1106 1268 751 \nQ 1578 397 2138 397 \nQ 2388 397 2633 464 \nQ 2878 531 3122 666 \nL 3122 134 \nQ 2881 22 2623 -34 \nQ 2366 -91 2075 -91 \nQ 1284 -91 818 406 \nQ 353 903 353 1747 \nQ 353 2603 823 3093 \nQ 1294 3584 2113 3584 \nQ 2378 3584 2631 3529 \nQ 2884 3475 3122 3366 \nz\n\" transform=\"scale(0.015625)\"/>\n       <path id=\"DejaVuSans-33\" d=\"M 2597 2516 \nQ 3050 2419 3304 2112 \nQ 3559 1806 3559 1356 \nQ 3559 666 3084 287 \nQ 2609 -91 1734 -91 \nQ 1441 -91 1130 -33 \nQ 819 25 488 141 \nL 488 750 \nQ 750 597 1062 519 \nQ 1375 441 1716 441 \nQ 2309 441 2620 675 \nQ 2931 909 2931 1356 \nQ 2931 1769 2642 2001 \nQ 2353 2234 1838 2234 \nL 1294 2234 \nL 1294 2753 \nL 1863 2753 \nQ 2328 2753 2575 2939 \nQ 2822 3125 2822 3475 \nQ 2822 3834 2567 4026 \nQ 2313 4219 1838 4219 \nQ 1578 4219 1281 4162 \nQ 984 4106 628 3988 \nL 628 4550 \nQ 988 4650 1302 4700 \nQ 1616 4750 1894 4750 \nQ 2613 4750 3031 4423 \nQ 3450 4097 3450 3541 \nQ 3450 3153 3228 2886 \nQ 3006 2619 2597 2516 \nz\n\" transform=\"scale(0.015625)\"/>\n      </defs>\n      <use xlink:href=\"#DejaVuSans-73\"/>\n      <use xlink:href=\"#DejaVuSans-6f\" x=\"52.099609\"/>\n      <use xlink:href=\"#DejaVuSans-75\" x=\"113.28125\"/>\n      <use xlink:href=\"#DejaVuSans-72\" x=\"176.660156\"/>\n      <use xlink:href=\"#DejaVuSans-63\" x=\"215.523438\"/>\n      <use xlink:href=\"#DejaVuSans-65\" x=\"270.503906\"/>\n      <use xlink:href=\"#DejaVuSans-3d\" x=\"332.027344\"/>\n      <use xlink:href=\"#DejaVuSans-47\" x=\"415.816406\"/>\n      <use xlink:href=\"#DejaVuSans-4f\" x=\"493.306641\"/>\n      <use xlink:href=\"#DejaVuSans-32\" x=\"572.017578\"/>\n      <use xlink:href=\"#DejaVuSans-33\" x=\"635.640625\"/>\n     </g>\n    </g>\n   </g>\n  </g>\n </g>\n <defs>\n  <clipPath id=\"p35e6e02a47\">\n   <rect x=\"7.2\" y=\"7.2\" width=\"189.465\" height=\"100.13\"/>\n  </clipPath>\n </defs>\n</svg>\n",
      "text/plain": [
       "<schemdraw.backends.mpl.Figure object at 0x7f4e0907fdc0>"
      ]
     },
     "execution_count": 151,
     "metadata": {},
     "output_type": "execute_result"
    }
   ],
   "source": [
    "# uses schemdraw, you may have to install it in order to run it on your PC\n",
    "import schemdraw\n",
    "import schemdraw.elements as elm\n",
    "d = schemdraw.Drawing()\n",
    "Q = d.add(elm.PFet, reverse=True, bulk=True)\n",
    "d.add(elm.Dot, xy=Q.gate, lftlabel='gate=AIN0')\n",
    "d.add(elm.Dot, xy=Q.bulk, rgtlabel='bulk=AIN1')\n",
    "d.add(elm.Dot, xy=Q.drain, botlabel='drain=GO21')\n",
    "d.add(elm.Dot, xy=Q.source, toplabel='source=GO23')\n",
    "d.draw()"
   ]
  },
  {
   "cell_type": "markdown",
   "metadata": {},
   "source": [
    "Hint: To cancel out the leakage current and shunt resistance, you may want to do a subtraction:\n",
    "\n",
    "$I_{ds} = I_{GO21} - I_{GO21}|_{V_g = 0}$"
   ]
  },
  {
   "cell_type": "markdown",
   "metadata": {},
   "source": [
    "* You have to choose the input voltage demultiplexer by sending a configuration event (make sure LED1 blinks):"
   ]
  },
  {
   "cell_type": "code",
   "execution_count": 4,
   "metadata": {},
   "outputs": [],
   "source": [
    "events = [pyplane.Coach.generate_aerc_event( \\\n",
    "    pyplane.Coach.CurrentOutputSelect.SelectLine5, \\\n",
    "    pyplane.Coach.VoltageOutputSelect.NoneSelected, \\\n",
    "    pyplane.Coach.VoltageInputSelect.SelectLine1, \\\n",
    "    pyplane.Coach.SynapseSelect.NoneSelected, 0)]\n",
    "\n",
    "p.send_coach_events(events)"
   ]
  },
  {
   "cell_type": "markdown",
   "metadata": {},
   "source": [
    "**Make sure the chip receives the event by a blink of LED1, if it's not the case, the chip is dead and you must replug it.**"
   ]
  },
  {
   "cell_type": "markdown",
   "metadata": {},
   "source": [
    "* What will be the fixed source, bulk (substrate or well), and drain voltages?"
   ]
  },
  {
   "cell_type": "code",
   "execution_count": 5,
   "metadata": {},
   "outputs": [
    {
     "name": "stdout",
     "output_type": "stream",
     "text": [
      "The bulk voltage is set to 1.7982406616210938 V\n"
     ]
    }
   ],
   "source": [
    "# set bulk voltage (to Vdd for p-fets)\n",
    "vb_p = 1.8\n",
    "p.set_voltage(pyplane.DacChannel.AIN1, vb_p)\n",
    "print(\"The bulk voltage is set to {} V\".format(p.get_set_voltage(pyplane.DacChannel.AIN1)))"
   ]
  },
  {
   "cell_type": "code",
   "execution_count": 6,
   "metadata": {},
   "outputs": [
    {
     "name": "stdout",
     "output_type": "stream",
     "text": [
      "The source voltage is set to 1.7982406616210938 V\n"
     ]
    }
   ],
   "source": [
    "# set source voltage\n",
    "vs_p = 1.8\n",
    "p.set_voltage(pyplane.DacChannel.GO23, vs_p)\n",
    "print(\"The source voltage is set to {} V\".format(p.get_set_voltage(pyplane.DacChannel.GO23)))"
   ]
  },
  {
   "cell_type": "code",
   "execution_count": 7,
   "metadata": {},
   "outputs": [
    {
     "name": "stdout",
     "output_type": "stream",
     "text": [
      "The drain voltage is set to 0.0 V\n"
     ]
    }
   ],
   "source": [
    "# set drain voltage\n",
    "vd_p = 0\n",
    "p.set_voltage(pyplane.DacChannel.GO21, vd_p)\n",
    "print(\"The drain voltage is set to {} V\".format(p.get_set_voltage(pyplane.DacChannel.GO21)))"
   ]
  },
  {
   "cell_type": "code",
   "execution_count": 8,
   "metadata": {},
   "outputs": [
    {
     "name": "stdout",
     "output_type": "stream",
     "text": [
      "The gate voltage is set to 1.7982406616210938 V\n"
     ]
    }
   ],
   "source": [
    "# set trial gate voltage\n",
    "vg_p = 1.8\n",
    "p.set_voltage(pyplane.DacChannel.AIN0, vg_p)\n",
    "print(\"The gate voltage is set to {} V\".format(p.get_set_voltage(pyplane.DacChannel.AIN0)))"
   ]
  },
  {
   "cell_type": "code",
   "execution_count": 9,
   "metadata": {},
   "outputs": [
    {
     "name": "stdout",
     "output_type": "stream",
     "text": [
      "Ids is 8.544922103226327e-09 A\n"
     ]
    }
   ],
   "source": [
    "# read Ids \n",
    "ids_p = p.read_current(pyplane.AdcChannel.GO21_N)\n",
    "print(\"Ids is {} A\".format(ids_p))"
   ]
  },
  {
   "cell_type": "markdown",
   "metadata": {},
   "source": [
    "* Data aquisition"
   ]
  },
  {
   "cell_type": "code",
   "execution_count": 10,
   "metadata": {},
   "outputs": [],
   "source": [
    "# sweep gate voltage \n",
    "import numpy as np\n",
    "Ids_sweep_p = []\n",
    "V_sweep_p = np.arange(0,1.8,0.01)\n",
    "for voltage in V_sweep_p:\n",
    "    #set voltage\n",
    "    p.set_voltage(pyplane.DacChannel.AIN0, voltage)\n",
    "    #print(\"The gate voltage is set to {} V\".format(voltage))\n",
    "    time.sleep(0.05)\n",
    "    Ids_sweep_p.append(p.read_current(pyplane.AdcChannel.GO21_N)-ids_p)\n"
   ]
  },
  {
   "cell_type": "code",
   "execution_count": 12,
   "metadata": {},
   "outputs": [
    {
     "data": {
      "text/plain": [
       "[<matplotlib.lines.Line2D at 0x7fa1a527b6d0>]"
      ]
     },
     "execution_count": 12,
     "metadata": {},
     "output_type": "execute_result"
    },
    {
     "data": {
      "image/png": "[encoded data removed]",
      "text/plain": [
       "<Figure size 640x480 with 1 Axes>"
      ]
     },
     "metadata": {},
     "output_type": "display_data"
    }
   ],
   "source": [
    "# plot in linear scale\n",
    "plt.plot(V_sweep_p,Ids_sweep_p,\"o\")"
   ]
  },
  {
   "cell_type": "code",
   "execution_count": 13,
   "metadata": {},
   "outputs": [],
   "source": [
    "# if it looks nice in the plot, save it!\n",
    "data = [Ids_sweep_p,V_sweep_p]\n",
    "np.savetxt(\"pfet31.csv\",data,delimiter=\",\")"
   ]
  },
  {
   "cell_type": "code",
   "execution_count": null,
   "metadata": {},
   "outputs": [],
   "source": [
    "# Load data you saved and plot, to check if the data is saved correctly\n"
   ]
  },
  {
   "cell_type": "code",
   "execution_count": null,
   "metadata": {},
   "outputs": [],
   "source": [
    "# plot in logarithmic scale"
   ]
  },
  {
   "cell_type": "code",
   "execution_count": null,
   "metadata": {},
   "outputs": [],
   "source": [
    "# extract the valid range and plot in logarithmic scale"
   ]
  },
  {
   "cell_type": "code",
   "execution_count": null,
   "metadata": {},
   "outputs": [],
   "source": [
    "# fit in the valid range (you may want to add the fitted line in the plot)\n"
   ]
  },
  {
   "cell_type": "markdown",
   "metadata": {},
   "source": [
    "Extract $I_0$ and $\\kappa$"
   ]
  },
  {
   "cell_type": "code",
   "execution_count": null,
   "metadata": {},
   "outputs": [],
   "source": [
    "# I_0\n"
   ]
  },
  {
   "cell_type": "code",
   "execution_count": null,
   "metadata": {},
   "outputs": [],
   "source": [
    "# kappa"
   ]
  },
  {
   "cell_type": "markdown",
   "metadata": {},
   "source": [
    "Extract the threshold voltage and the current at threshold, using the definition given\n",
    "in class: $I_{ds}$ is half of the extrapolated subthreshold current."
   ]
  },
  {
   "cell_type": "code",
   "execution_count": null,
   "metadata": {},
   "outputs": [],
   "source": [
    "# compute threshold voltage\n",
    "from scipy import interpolate\n",
    "f = interpolate.interp1d(..., ...)\n",
    "f(...)"
   ]
  },
  {
   "cell_type": "code",
   "execution_count": null,
   "metadata": {},
   "outputs": [],
   "source": [
    "# compute Ids at threshold voltage\n",
    "I_interp = interpolate.interp1d(..., ...)\n",
    "I_interp(...)"
   ]
  },
  {
   "cell_type": "markdown",
   "metadata": {},
   "source": [
    "# 4 Back Gate Effect"
   ]
  },
  {
   "cell_type": "markdown",
   "metadata": {},
   "source": [
    "In this experiment, we will characterize the relationship between the gate and source voltages for both the N-FET and the P-FET devices when the channel current is held constant. This experiment shows convincingly the relative effectiveness of each terminal and provides a direct measurement of $\\kappa$."
   ]
  },
  {
   "cell_type": "markdown",
   "metadata": {},
   "source": [
    "Hint: Because we cannot read the voltage of the GO pins, it is not possible to simply keep $I_{ds}$ fixed and read $V_s$. In order to do so, we have to use some searching algorithm (e.g. binary search) to find the corresponding $V_s$."
   ]
  },
  {
   "cell_type": "markdown",
   "metadata": {},
   "source": [
    "## 4.1 N-FET"
   ]
  },
  {
   "cell_type": "markdown",
   "metadata": {},
   "source": [
    "* If you are not coming from 3.1 directly, you have to set the input voltage demultiplexer by sending a configuration event (make sure LED1 blinks):"
   ]
  },
  {
   "cell_type": "code",
   "execution_count": null,
   "metadata": {},
   "outputs": [],
   "source": [
    "#came from 3.1"
   ]
  },
  {
   "cell_type": "markdown",
   "metadata": {},
   "source": [
    "**Make sure the chip receives the event by a blink of LED1, if it's not the case, the chip is dead and you must replug it.**"
   ]
  },
  {
   "cell_type": "markdown",
   "metadata": {},
   "source": [
    "* set fixed voltages"
   ]
  },
  {
   "cell_type": "code",
   "execution_count": 6,
   "metadata": {},
   "outputs": [
    {
     "name": "stdout",
     "output_type": "stream",
     "text": [
      "The drain voltage is set to 1.7982406616210938 V\n"
     ]
    }
   ],
   "source": [
    "# set drain voltage\n",
    "# set drain voltage\n",
    "vd_n = 1.8\n",
    "p.set_voltage(pyplane.DacChannel.GO22, vd_n)\n",
    "print(\"The drain voltage is set to {} V\".format(p.get_set_voltage(pyplane.DacChannel.GO22)))"
   ]
  },
  {
   "cell_type": "code",
   "execution_count": 7,
   "metadata": {},
   "outputs": [
    {
     "name": "stdout",
     "output_type": "stream",
     "text": [
      "The trial gate voltage is set to 0.0 V\n",
      "The source voltage is set to 0.0 V\n"
     ]
    }
   ],
   "source": [
    "# set trial gate \n",
    "vg_n = 0\n",
    "p.set_voltage(pyplane.DacChannel.AIN0, vg_n)\n",
    "print(\"The trial gate voltage is set to {} V\".format(p.get_set_voltage(pyplane.DacChannel.AIN0)))\n",
    "# set source voltage\n",
    "vs_n = 0\n",
    "p.set_voltage(pyplane.DacChannel.GO20,vs_n)       \n",
    "print(\"The source voltage is set to {} V\".format(p.get_set_voltage(pyplane.DacChannel.GO20)))"
   ]
  },
  {
   "cell_type": "code",
   "execution_count": 8,
   "metadata": {},
   "outputs": [
    {
     "name": "stdout",
     "output_type": "stream",
     "text": [
      "trial Ids is 2.4414064103694955e-09 A\n"
     ]
    }
   ],
   "source": [
    "# read trial Ids\n",
    "\n",
    "\n",
    "# read Ids, from *Source* --> NOTE THAT THE ADC CHANNEL PIN CHANGES THE NAME FOR THE SOURCE\n",
    "ids_n = p.read_current(pyplane.AdcChannel.GO20_N)\n",
    "print(\"trial Ids is {} A\".format(ids_n))"
   ]
  },
  {
   "cell_type": "markdown",
   "metadata": {},
   "source": [
    "* Data aquisition"
   ]
  },
  {
   "cell_type": "code",
   "execution_count": 9,
   "metadata": {},
   "outputs": [],
   "source": [
    "# define constants\n",
    "Vdd = 1.8\n",
    "max_iter = 10\n",
    "N_samples = 30"
   ]
  },
  {
   "cell_type": "markdown",
   "metadata": {},
   "source": [
    "What Ids target should you set? And what is the corresponding Vg?\n",
    "Hint: Refer to 3.1"
   ]
  },
  {
   "cell_type": "code",
   "execution_count": 10,
   "metadata": {},
   "outputs": [],
   "source": [
    "Ids_target = 5e-8"
   ]
  },
  {
   "cell_type": "code",
   "execution_count": 11,
   "metadata": {},
   "outputs": [],
   "source": [
    "# initialize variables\n",
    "\n",
    "import numpy as np\n",
    "import time\n",
    "\n",
    "Vg = np.linspace(0.4,Vdd,N_samples)\n",
    "Vs = np.ones(N_samples) * Vdd/2\n",
    "#print(Vg)"
   ]
  },
  {
   "cell_type": "code",
   "execution_count": 12,
   "metadata": {},
   "outputs": [],
   "source": [
    "# sweep Vg\n",
    "for n in range(N_samples):\n",
    "    \n",
    "    Vstep = Vdd/4\n",
    "    \n",
    "    # set Vg\n",
    "    p.set_voltage(pyplane.DacChannel.AIN0,Vg[n])\n",
    "    \n",
    "    # search for Vs that gives Ids_target\n",
    "    for j in range(max_iter):\n",
    "        \n",
    "        # set Vs\n",
    "        p.set_voltage(pyplane.DacChannel.GO20,Vs[n])\n",
    "        \n",
    "        # wait to settle\n",
    "        time.sleep(0.1)\n",
    "        \n",
    "        # read Ids and compute its difference with the target\n",
    "        dI = p.read_current(pyplane.AdcChannel.GO20_N) - Ids_target\n",
    "        \n",
    "        # check for convergence\n",
    "        if np.abs(dI) < Ids_target * 0.05:\n",
    "            break\n",
    "        \n",
    "        # update Vs and step\n",
    "        Vs[n] = Vs[n] + Vstep * np.sign(dI)\n",
    "        Vstep = Vstep/2"
   ]
  },
  {
   "cell_type": "code",
   "execution_count": 14,
   "metadata": {},
   "outputs": [
    {
     "data": {
      "image/png": "[encoded data removed]",
      "text/plain": [
       "<Figure size 640x480 with 1 Axes>"
      ]
     },
     "metadata": {},
     "output_type": "display_data"
    }
   ],
   "source": [
    "# plot\n",
    "plt.plot(Vg,Vs,\"o\")\n",
    "data = np.array([Vg,Vs])\n",
    "np.savetxt(\"part4nfet.csv\",data,delimiter=\",\")"
   ]
  },
  {
   "cell_type": "code",
   "execution_count": null,
   "metadata": {},
   "outputs": [],
   "source": [
    "# if it looks nice in the plot, save it!"
   ]
  },
  {
   "cell_type": "markdown",
   "metadata": {},
   "source": [
    "* How do you compute $\\kappa$? Does it stay constant for different $V_g$?"
   ]
  },
  {
   "cell_type": "code",
   "execution_count": null,
   "metadata": {},
   "outputs": [],
   "source": [
    "# calculate kappa"
   ]
  },
  {
   "cell_type": "markdown",
   "metadata": {},
   "source": [
    "## 4.2 P-FET"
   ]
  },
  {
   "cell_type": "markdown",
   "metadata": {},
   "source": [
    "* If you are not coming from 3.2 directly, you have to set the input voltage demultiplexer by sending a configuration event (make sure LED1 blinks):"
   ]
  },
  {
   "cell_type": "code",
   "execution_count": null,
   "metadata": {},
   "outputs": [],
   "source": []
  },
  {
   "cell_type": "markdown",
   "metadata": {},
   "source": [
    "**Make sure the chip receives the event by a blink of LED1, if it's not the case, the chip is dead and you must replug it.**"
   ]
  },
  {
   "cell_type": "markdown",
   "metadata": {},
   "source": [
    "* set fixed voltages"
   ]
  },
  {
   "cell_type": "code",
   "execution_count": 15,
   "metadata": {},
   "outputs": [
    {
     "data": {
      "text/plain": [
       "1.7982406616210938"
      ]
     },
     "execution_count": 15,
     "metadata": {},
     "output_type": "execute_result"
    }
   ],
   "source": [
    "# set bulk voltage\n",
    "p.set_voltage(pyplane.DacChannel.AIN1,1.8)"
   ]
  },
  {
   "cell_type": "code",
   "execution_count": 17,
   "metadata": {},
   "outputs": [
    {
     "data": {
      "text/plain": [
       "0.0"
      ]
     },
     "execution_count": 17,
     "metadata": {},
     "output_type": "execute_result"
    }
   ],
   "source": [
    "# set drain voltage\n",
    "# set drain voltage\n",
    "vd_n = 0\n",
    "p.set_voltage(pyplane.DacChannel.GO22, vd_n)"
   ]
  },
  {
   "cell_type": "code",
   "execution_count": 18,
   "metadata": {},
   "outputs": [
    {
     "data": {
      "text/plain": [
       "1.7982406616210938"
      ]
     },
     "execution_count": 18,
     "metadata": {},
     "output_type": "execute_result"
    }
   ],
   "source": [
    "# set trial gate and source voltages\n",
    "#source\n",
    "p.set_voltage(pyplane.DacChannel.GO23,1.8)\n",
    "#gate\n",
    "p.set_voltage(pyplane.DacChannel.AIN0,1.8)"
   ]
  },
  {
   "cell_type": "code",
   "execution_count": 21,
   "metadata": {},
   "outputs": [
    {
     "name": "stdout",
     "output_type": "stream",
     "text": [
      "7.0800778573243406e-09\n"
     ]
    }
   ],
   "source": [
    "# read trial Ids\n",
    "Ids_trial = p.read_current(pyplane.AdcChannel.GO21_N)\n",
    "print(Ids_trial)"
   ]
  },
  {
   "cell_type": "markdown",
   "metadata": {},
   "source": [
    "* Data aquisition"
   ]
  },
  {
   "cell_type": "code",
   "execution_count": 24,
   "metadata": {},
   "outputs": [],
   "source": [
    "# define constants\n",
    "Vdd = 1.8\n",
    "max_iter = 10\n",
    "N_samples = 30"
   ]
  },
  {
   "cell_type": "markdown",
   "metadata": {},
   "source": [
    "What Ids target should you set? And what is the corresponding Vg?\n",
    "Hint: Refer to 3.2"
   ]
  },
  {
   "cell_type": "code",
   "execution_count": 25,
   "metadata": {},
   "outputs": [],
   "source": [
    "Ids_target = 6e-08\n",
    "#Vg_target ="
   ]
  },
  {
   "cell_type": "code",
   "execution_count": 26,
   "metadata": {},
   "outputs": [],
   "source": [
    "# initialize variables\n",
    "\n",
    "import numpy as np\n",
    "import time\n",
    "\n",
    "Vg = np.linspace(0,Vdd,N_samples)\n",
    "Vs = np.ones(N_samples) * Vdd/2"
   ]
  },
  {
   "cell_type": "code",
   "execution_count": 28,
   "metadata": {},
   "outputs": [],
   "source": [
    "# sweep Vg\n",
    "for n in range(N_samples):\n",
    "    \n",
    "    Vstep = Vdd/4\n",
    "    \n",
    "    # set Vg\n",
    "    p.set_voltage(pyplane.DacChannel.AIN0,Vg[n])\n",
    "    \n",
    "    # search for Vs that gives Ids_target\n",
    "    for j in range(max_iter):\n",
    "        \n",
    "        # set Vs\n",
    "        p.set_voltage(pyplane.DacChannel.GO23,Vs[n])\n",
    "        \n",
    "        # wait to settle\n",
    "        time.sleep(0.1)\n",
    "        \n",
    "        # read Ids and compute its difference with the target\n",
    "        dI = p.read_current(pyplane.AdcChannel.GO21_N) - Ids_target\n",
    "        \n",
    "        # check for convergence\n",
    "        if np.abs(dI) < Ids_target * 0.05:\n",
    "            break\n",
    "        \n",
    "        # update Vs and step\n",
    "        Vs[n] = Vs[n] - Vstep * np.sign(dI)\n",
    "        Vstep = Vstep/2"
   ]
  },
  {
   "cell_type": "code",
   "execution_count": 33,
   "metadata": {},
   "outputs": [
    {
     "data": {
      "image/png": "[encoded data removed]",
      "text/plain": [
       "<Figure size 640x480 with 1 Axes>"
      ]
     },
     "metadata": {},
     "output_type": "display_data"
    }
   ],
   "source": [
    "# plot\n",
    "plt.plot(Vg,Vs,\"-o\")\n",
    "plt.grid()\n",
    "plt.xlabel(\"Vg\")\n",
    "plt.ylabel(\"Vs\")\n",
    "data = [Vg,Vs]\n",
    "np.savetxt(\"pfet-4.csv\",data,delimiter=\",\")"
   ]
  },
  {
   "cell_type": "code",
   "execution_count": null,
   "metadata": {},
   "outputs": [],
   "source": [
    "# if it looks nice in the plot, save it!"
   ]
  },
  {
   "cell_type": "markdown",
   "metadata": {},
   "source": [
    "* How do you compute $\\kappa$? Does it stay constant for different $V_g$?"
   ]
  },
  {
   "cell_type": "code",
   "execution_count": null,
   "metadata": {},
   "outputs": [],
   "source": [
    "# calculate kappa"
   ]
  },
  {
   "cell_type": "markdown",
   "metadata": {},
   "source": [
    "# 5. Clean up"
   ]
  },
  {
   "cell_type": "markdown",
   "metadata": {},
   "source": [
    "* Close you device and release memory by doing"
   ]
  },
  {
   "cell_type": "code",
   "execution_count": null,
   "metadata": {},
   "outputs": [],
   "source": [
    "del p"
   ]
  },
  {
   "cell_type": "markdown",
   "metadata": {},
   "source": [
    "* Save your changes\n",
    "* Close jupyter notebook properly (`File -> Close and Halt`)\n",
    "* Save the files you need for the report to your own PC"
   ]
  },
  {
   "cell_type": "markdown",
   "metadata": {},
   "source": [
    "# 6. Postlab"
   ]
  },
  {
   "cell_type": "markdown",
   "metadata": {},
   "source": [
    "_The answers to the postlab should be included below._"
   ]
  },
  {
   "cell_type": "markdown",
   "metadata": {},
   "source": [
    "For the following questions assume an _n_-well process with the transistor in saturation.\n",
    "\n",
    "Many differences in the properties of native and well transistors arise from the fact that the well is usually more heavily doped than the substrate.\n",
    "That was certainly true in the past when people were using a single well process. \n",
    "Today, most processes are double-well or _twin-tub_ both n- and p-wells are implanted in a lightly doped epitaxially-grown p-substrate.  \n",
    "_Epitaxially_ means that the layer is grown atom by atom by chemical vapor deposition, resulting in a very regular and pure crystal structure.\n",
    "\n",
    "The classchips you are using were fabricated in a 0.18 $\\mu$m process.\n",
    "For an _n_-well device, the _n_-type material of the well is the bulk, while the active areas (source and drain) are _p_-type. \n",
    "The gate voltage must force all the electrons in the _n_-well away from the surface.\n",
    "The resulting depletion region provides a channel for holes through enemy territory (n-well) separating the\n",
    "p-type source and drain.\n",
    "If the bulk is heavily doped, the gate must work harder to repel electrons.\n",
    "\n",
    "Another way of saying this is that the capacitance of this depletion layer and the gate oxide capacitance form a _capacitive divider_ that determines how much of the gate voltage appears at the surface channel.\n",
    "If the depletion layer is thin, the depletion capacitance will be large and hence the divider ratio will be unfavorable.\n",
    "\n",
    "\n"
   ]
  },
  {
   "cell_type": "markdown",
   "metadata": {},
   "source": [
    "**(1)** How does the thickness of the depletion region depend on the doping and\n",
    "on the channel (surface) potential? Assume that the doping density is uniform.\n"
   ]
  },
  {
   "cell_type": "markdown",
   "metadata": {},
   "source": []
  },
  {
   "cell_type": "markdown",
   "metadata": {},
   "source": [
    "**(2)** Explain why $\\kappa$ varies with the source voltage at constant current (as in the source follower)."
   ]
  },
  {
   "cell_type": "markdown",
   "metadata": {},
   "source": []
  },
  {
   "cell_type": "markdown",
   "metadata": {},
   "source": [
    "**(3)** Is there a difference in $\\kappa$ between the n- and p-type devices? Explain the reason.\n"
   ]
  },
  {
   "cell_type": "markdown",
   "metadata": {},
   "source": []
  },
  {
   "cell_type": "markdown",
   "metadata": {},
   "source": [
    "**(4)** From your results in the experiments, state under what conditions\n",
    "the assumption that $\\kappa$ is constant is reasonable."
   ]
  },
  {
   "cell_type": "markdown",
   "metadata": {},
   "source": []
  }
 ],
 "metadata": {
  "kernelspec": {
   "display_name": "Python 3.9.7 ('snowflakes')",
   "language": "python",
   "name": "python3"
  },
  "language_info": {
   "codemirror_mode": {
    "name": "ipython",
    "version": 3
   },
   "file_extension": ".py",
   "mimetype": "text/x-python",
   "name": "python",
   "nbconvert_exporter": "python",
   "pygments_lexer": "ipython3",
   "version": "3.9.7"
  },
  "vscode": {
   "interpreter": {
    "hash": "5379aec5f3ea91ea19d30a561705af7a8714831e882200b5ede96bafcba4c96c"
   }
  }
 },
 "nbformat": 4,
 "nbformat_minor": 4
}
