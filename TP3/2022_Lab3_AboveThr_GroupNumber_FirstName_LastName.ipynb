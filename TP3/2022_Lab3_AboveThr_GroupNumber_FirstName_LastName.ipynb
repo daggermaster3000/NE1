{
 "cells": [
  {
   "cell_type": "markdown",
   "metadata": {},
   "source": [
    "Neuromorphic engineering I"
   ]
  },
  {
   "cell_type": "markdown",
   "metadata": {},
   "source": [
    "## Lab 2: Transistor superthreshold saturation current and drain characteristics"
   ]
  },
  {
   "cell_type": "markdown",
   "metadata": {},
   "source": [
    "Group number: 18\n",
    "\n",
    "Team member 1: Quillan Favey\n",
    "\n",
    "Date: 10.11.2011"
   ]
  },
  {
   "cell_type": "markdown",
   "metadata": {},
   "source": [
    "-------------------------------------------------------------------------------------------------------------------"
   ]
  },
  {
   "cell_type": "markdown",
   "metadata": {},
   "source": [
    "The objective of this lab is to understand _super-threshold_ ( also called _above-threshold_ or _strong inversion_ ) transistor operation and to understand transistor drain conductance characteristics, particularly _channel length modulation_.\n",
    "\n",
    "The specific experimental **objectives of this lab**  are as follows: \n",
    "1. To characterize drain current of a transistor as a function of gate voltage in superthreshold operation in the ohmic (triode) and saturation regions.\n",
    "2. To characterize the drain saturation properties in super-threshold.\n",
    "3. To characterize drain conductance (the Early effect) and how it scales with transistor length (may not be possible this year) and saturation drain current."
   ]
  },
  {
   "cell_type": "markdown",
   "metadata": {},
   "source": [
    "An intuitive and quantitative understanding of all these effects, along with the subthreshold behavior (next week), is useful for the design of effective circuits, especially analog design of high performance amplifiers."
   ]
  },
  {
   "cell_type": "markdown",
   "metadata": {},
   "source": [
    "# 1 Terminology"
   ]
  },
  {
   "cell_type": "markdown",
   "metadata": {},
   "source": [
    "- above-threshold = super-threshold =  strong inversion\n",
    "- sub-threshold = below-threshold = weak inversion\n",
    "- triode region = ohmic region = linear drain conductance behavior with small drain-source voltage\n",
    "- saturation = large $V_{\\rm ds}$ \n",
    "- overdrive = $V_{\\rm g}-V_{\\rm T}$\n",
    "- $U_{\\rm T} = kT/q$ = thermal voltage = 25mV at room temperature\n",
    "- $V_{\\rm T}$ = threshold voltage = 0.4V to 0.8V depending on process\n"
   ]
  },
  {
   "cell_type": "markdown",
   "metadata": {},
   "source": [
    "# 2 Useful Quantities"
   ]
  },
  {
   "cell_type": "markdown",
   "metadata": {},
   "source": [
    "The following is a list of the physical parameters and constants we\n",
    "will be referring to in this lab, along with their values when\n",
    "appropriate. The units that are most natural for these quantities are\n",
    "also included; these units are not self--consistent, so make sure you\n",
    "convert the units when appropriate.\n"
   ]
  },
  {
   "cell_type": "markdown",
   "metadata": {},
   "source": [
    "$\\epsilon_0$ :  Permittivity of vacuum = $8.86\\times10^{-12} \\rm{ F/m}$ \n",
    "\n",
    "$\\epsilon_{Si}$ : Relative permittivity of ${\\rm Si}$ = $11.7\\epsilon_0$ \n",
    "\n",
    "$\\epsilon_{ox}$ : Relative permittivity of ${\\rm SiO_2}$ = $3.9\\epsilon_0$ \n",
    "\n",
    "$\\mu_n$ : electron surface mobility, ${\\rm cm^2/V/s}$ \n",
    " \n",
    "$\\mu_p$ : hole surface mobility, ${\\rm cm^2/V/s}$\n",
    "\n",
    "$C_{ox}$ : gate capacitance across the oxide per unit area,\n",
    "\t${\\rm fF/\\mu m^{2}}$ \n",
    "\n",
    "$C_{dep}$ : capacitance of depletion region per unit area,\n",
    "\t${\\rm fF/\\mu m^{2}}$ \n",
    "\n",
    "$t_{ox}$ : gate oxide thickness $\\approx$\n",
    "\t3.8 nm for the class chip in 180 nm techology.\n",
    "\t\n",
    "$V_T$ : threshold voltage, V ($V_{T0}$ is $V_T$ when $V_s$ = 0).\n",
    "\n",
    "\n",
    "$W$ : electrical width of transistor channel, $= 4~\\mu$m for both devices in this lab \n",
    "\n",
    "$L$ : electrical length of transistor channel, $= 4~\\mu$m for both devices in this lab\n",
    "\n",
    "$\\beta$ $\\equiv \\mu C_{ox} W/L,\\;\\mu{\\rm A/V^2}$ \n",
    "\n",
    "$V_E$ : Early voltage, characterizes drain conductance. \n"
   ]
  },
  {
   "cell_type": "markdown",
   "metadata": {},
   "source": [
    "# 3 Prelab"
   ]
  },
  {
   "cell_type": "markdown",
   "metadata": {},
   "source": [
    "Write the expressions/eqations in LaTeX, like $Vod$ = $V_{\\rm g}-V_{\\rm T}$, or upload the pictures of handwritten expressions."
   ]
  },
  {
   "cell_type": "markdown",
   "metadata": {},
   "source": [
    "* For nFET, write the most general expression for $I_{ds}$ above threshold in terms of $V_g,\\;V_s,\\;V_d$ (all voltages are referenced to the bulk), and the parameters and constants given above. Leave out the drain conductance Early effect in this equation. Assume $\\kappa=1$ and that $V_{Tn}>0$."
   ]
  },
  {
   "cell_type": "markdown",
   "metadata": {},
   "source": [
    "* Triode region: $I_{ds}=\\beta(V_{g}-V_{s}-V_{Tn})(V_{d}-V_{s})$\n",
    "* Saturation region: $I_{ds}=\\frac{\\beta}{2}(V_{g}-V_{s}-V_{Tn})^{2}$"
   ]
  },
  {
   "cell_type": "markdown",
   "metadata": {},
   "source": [
    "* For pFET, write the most general expression for $I_{ds}$ above threshold in terms of $V_g,\\;V_s,\\;V_d$ (all voltages are referenced to the bulk), and the parameters and constants given above. Leave out the drain conductance Early effect in this equation. Assume $\\kappa=1$ and that $V_{Tp}<0$."
   ]
  },
  {
   "cell_type": "markdown",
   "metadata": {},
   "source": [
    "* Triode region: $I_{ds}=\\beta(V_{g}-V_{s}-V_{Tp})(V_{d}-V_{s})$\n",
    "* Saturation region: $I_{ds}=\\frac{\\beta}{2}(V_{g}-V_{s}-V_{Tp})^{2}$"
   ]
  },
  {
   "cell_type": "markdown",
   "metadata": {},
   "source": [
    "- For nFET, sketch graphs of $I_{ds}$ vs the $V_d$ for several gate voltages $V_g$ above threshold, with $V_s=0$. Indicate the ohmic and saturation regions and the behavior of the saturation voltage $V_{dsat}$ as the gate overdrive voltage increases. "
   ]
  },
  {
   "cell_type": "code",
   "execution_count": 19,
   "metadata": {},
   "outputs": [
    {
     "data": {
      "image/png": "[encoded data removed]",
      "text/plain": [
       "<Figure size 432x288 with 1 Axes>"
      ]
     },
     "metadata": {
      "needs_background": "light"
     },
     "output_type": "display_data"
    }
   ],
   "source": [
    "import numpy as np\n",
    "import matplotlib.pyplot as plt\n",
    "v_t = 0.7\n",
    "v_s = 0\n",
    "beta = 1\n",
    "for v_g in np.arange(1, 2, 0.1):\n",
    "    v_d1 = np.arange(0, 1, 0.001)\n",
    "    v_d2 = np.arange(0, 1, 0.001)\n",
    "    i_ds1 = beta*(v_g - v_s - v_t)*(v_d1 - v_s)\n",
    "    i_ds2 = np.repeat(beta*0.5*(v_g - v_s - v_t)**2, 1/0.001)\n",
    "    index = next(filter(lambda i_ds: abs(i_ds[1][0]-i_ds[1][1]) < 0.0001, enumerate(zip(i_ds1, i_ds2))))[0]\n",
    "    plt.plot(v_d1[:index], i_ds1[:index],color ='blue')\n",
    "    plt.plot(v_d2[index:], i_ds2[index:],color = 'orange')\n",
    "    plt.text(1.07, i_ds2[-1], f\"$V_g = {v_g:.2f}$V\")\n",
    "plt.title(\"$I_{ds}$ vs $V_{d}$ \")\n",
    "plt.xlabel('''$V_d[V]$\n",
    "Plot of $I_{ds}$ vs $V_{d}$ \n",
    "with $V_t = 0.8V, V_s = 0V and beta = 1$''')\n",
    "plt.ylabel(\"$I_{ds}[A]$\")\n",
    "plt.legend([\"ohmic\", \"saturation\"])\n",
    "plt.show()"
   ]
  },
  {
   "cell_type": "markdown",
   "metadata": {},
   "source": []
  },
  {
   "cell_type": "markdown",
   "metadata": {},
   "source": [
    "- For nFET, derive an expression for the current $I_{ds}$ in the ohmic region in terms of $V_g$ and $V_{ds} \\equiv V_d-V_s,$. You may assume that $V_s=0.$ Sketch a graph of $I_{ds}$ vs $V_g,$ showing $V_{T0}$ and an expression for the slope."
   ]
  },
  {
   "cell_type": "markdown",
   "metadata": {},
   "source": [
    "$I_{ds} = \\beta(V_{g}-V_{T})V_{d}$"
   ]
  },
  {
   "cell_type": "code",
   "execution_count": 20,
   "metadata": {},
   "outputs": [
    {
     "data": {
      "image/png": "[encoded data removed]",
      "text/plain": [
       "<Figure size 432x288 with 1 Axes>"
      ]
     },
     "metadata": {
      "needs_background": "light"
     },
     "output_type": "display_data"
    }
   ],
   "source": [
    "import numpy as np\n",
    "import matplotlib.pyplot as plt\n",
    "v_t = 0.8\n",
    "v_s = 0\n",
    "beta = 1\n",
    "v_d = 0.4\n",
    "v_g = np.arange(0.0, 2, 0.1)\n",
    "i_ds = beta*(v_g - v_s - v_t)*(v_d - v_s)\n",
    "i_ds = np.array([max(id, 0) for id in i_ds])\n",
    "plt.plot(v_g, i_ds, label=\"$I_{ds}$\")\n",
    "plt.vlines(v_t, -0.01, v_d, colors=\"y\", linestyles=\"dashed\", label=\"$V_{t0}$\")\n",
    "plt.xlabel(\"$V_g[V]$\")\n",
    "plt.ylabel(\"$I_{ds}[A]$\")\n",
    "plt.title(\"$I_{ds}$ for $V_t = 0.8V, V_d = 0.4V, V_s = 0V, \\\\beta = 1$. Slope is $V_d \\\\beta = 0.4$\")\n",
    "plt.legend()\n",
    "plt.show()"
   ]
  },
  {
   "cell_type": "markdown",
   "metadata": {},
   "source": [
    "- For nFET, state the drain voltage condition for above-threshold saturation and derive an expression for the saturation current $I_{dsat}$ in terms of $V_g$. Sketch a graph of $\\sqrt{I_{dsat}}$ vs $V_g$ with $V_s=0,$ showing $V_{T0}$ and an expression for the slope. Do not consider the Early effect here."
   ]
  },
  {
   "cell_type": "markdown",
   "metadata": {},
   "source": []
  },
  {
   "cell_type": "markdown",
   "metadata": {},
   "source": [
    "- Calculate $C_{ox}$ for the classchip from the values given above. What is $C_{ox}$ per square micron in fF?\n"
   ]
  },
  {
   "cell_type": "markdown",
   "metadata": {},
   "source": []
  },
  {
   "cell_type": "markdown",
   "metadata": {},
   "source": [
    "- Write the expression for the drain current in saturation including the Early effect, using $I_{dsat}$ to  represent the saturation current in the absence of the Early effect.  Use $V_E$ to represent the Early voltage."
   ]
  },
  {
   "cell_type": "markdown",
   "metadata": {},
   "source": []
  },
  {
   "cell_type": "markdown",
   "metadata": {},
   "source": [
    "# 4 Setup"
   ]
  },
  {
   "cell_type": "markdown",
   "metadata": {},
   "source": [
    "## 4.1 Connect the device"
   ]
  },
  {
   "cell_type": "code",
   "execution_count": 1,
   "metadata": {},
   "outputs": [],
   "source": [
    "# import the necessary library to communicate with the hardware\n",
    "\n",
    "import pyplane\n",
    "import time"
   ]
  },
  {
   "cell_type": "code",
   "execution_count": 2,
   "metadata": {},
   "outputs": [],
   "source": [
    "# create a Plane object and open the communication\n",
    "if 'p' not in locals():\n",
    "    p = pyplane.Plane()\n",
    "    try:\n",
    "        p.open('/dev/ttyACM0') # Open the USB device ttyACM0 (the board). \n",
    "    except RuntimeError as e:\n",
    "        print(e)\n",
    "        \n",
    "# Note that if you plug out and plug in the USB device in a short time interval, the operating system might allocate a new name like ttyACM1, \n",
    "# then you may get error messages with open(...ttyACM0). So please avoid frenquently plugging in/out the board."
   ]
  },
  {
   "cell_type": "code",
   "execution_count": 3,
   "metadata": {},
   "outputs": [
    {
     "data": {
      "text/plain": [
       "(1, 8, 4)"
      ]
     },
     "execution_count": 3,
     "metadata": {},
     "output_type": "execute_result"
    }
   ],
   "source": [
    "p.get_firmware_version()   #firmware version should be 1.8.3"
   ]
  },
  {
   "cell_type": "code",
   "execution_count": 4,
   "metadata": {},
   "outputs": [],
   "source": [
    "# Send a reset signal to the board, check if the LED blinks\n",
    "p.reset(pyplane.ResetType.Soft)\n",
    "\n",
    "time.sleep(1) \n",
    "# NOTE: You must send this request events every time you do a reset operetion, otherwise the recieved data is noisy.\n",
    "# Because the class chip need to do handshake to get the communication correct.\n",
    "p.request_events(1)"
   ]
  },
  {
   "cell_type": "code",
   "execution_count": 5,
   "metadata": {},
   "outputs": [
    {
     "data": {
      "text/plain": [
       "2.5781250201362127e-07"
      ]
     },
     "execution_count": 5,
     "metadata": {},
     "output_type": "execute_result"
    }
   ],
   "source": [
    "# Try to read something, make sure the chip responses\n",
    "p.read_current(pyplane.AdcChannel.GO0_N)"
   ]
  },
  {
   "cell_type": "code",
   "execution_count": 8,
   "metadata": {},
   "outputs": [],
   "source": [
    "# If any of the above steps fail, delete the object, and restart the kernel\n",
    "\n",
    "# del p"
   ]
  },
  {
   "cell_type": "markdown",
   "metadata": {},
   "source": [
    "<a id='config_nfet'></a>\n",
    "## 4.2 Configurations for N-FET"
   ]
  },
  {
   "cell_type": "code",
   "execution_count": 6,
   "metadata": {
    "scrolled": true
   },
   "outputs": [
    {
     "data": {
      "image/png": "[encoded data removed]",
      "image/svg+xml": "<?xml version=\"1.0\" encoding=\"utf-8\" standalone=\"no\"?>\n<!DOCTYPE svg PUBLIC \"-//W3C//DTD SVG 1.1//EN\"\n  \"http://www.w3.org/Graphics/SVG/1.1/DTD/svg11.dtd\">\n<svg height=\"105.35pt\" version=\"1.1\" viewBox=\"0 0 189.464375 105.35\" width=\"189.464375pt\" xmlns=\"http://www.w3.org/2000/svg\" xmlns:xlink=\"http://www.w3.org/1999/xlink\">\n <metadata>\n  <rdf:RDF xmlns:cc=\"http://creativecommons.org/ns#\" xmlns:dc=\"http://purl.org/dc/elements/1.1/\" xmlns:rdf=\"http://www.w3.org/1999/02/22-rdf-syntax-ns#\">\n   <cc:Work>\n    <dc:type rdf:resource=\"http://purl.org/dc/dcmitype/StillImage\"/>\n    <dc:date>2022-09-26T16:37:57.755750</dc:date>\n    <dc:format>image/svg+xml</dc:format>\n    <dc:creator>\n     <cc:Agent>\n      <dc:title>Matplotlib v3.4.3, https://matplotlib.org/</dc:title>\n     </cc:Agent>\n    </dc:creator>\n   </cc:Work>\n  </rdf:RDF>\n </metadata>\n <defs>\n  <style type=\"text/css\">*{stroke-linecap:butt;stroke-linejoin:round;}</style>\n </defs>\n <g id=\"figure_1\">\n  <g id=\"patch_1\">\n   <path d=\"M 0 105.35 \nL 189.464375 105.35 \nL 189.464375 0 \nL 0 0 \nz\n\" style=\"fill:none;\"/>\n  </g>\n  <g id=\"axes_1\">\n   <g id=\"line2d_1\">\n    <path clip-path=\"url(#pb91b87cb56)\" d=\"M 133.314688 77.155 \nL 133.314688 64.405 \nL 112.914688 64.405 \nL 112.914688 44.005 \nL 133.314688 44.005 \nL 133.314688 31.255 \n\" style=\"fill:none;stroke:#000000;stroke-linecap:round;stroke-width:2;\"/>\n   </g>\n   <g id=\"line2d_2\">\n    <path clip-path=\"url(#pb91b87cb56)\" d=\"M 105.264688 64.405 \nL 105.264688 44.005 \n\" style=\"fill:none;stroke:#000000;stroke-linecap:round;stroke-width:2;\"/>\n   </g>\n   <g id=\"line2d_3\">\n    <path clip-path=\"url(#pb91b87cb56)\" d=\"M 88.944688 54.205 \nL 105.264688 54.205 \n\" style=\"fill:none;stroke:#000000;stroke-linecap:round;stroke-width:2;\"/>\n   </g>\n   <g id=\"patch_2\">\n    <path clip-path=\"url(#pb91b87cb56)\" d=\"M 88.944688 56.5 \nC 89.553329 56.5 90.137123 56.258184 90.567498 55.82781 \nC 90.997872 55.397436 91.239688 54.813641 91.239688 54.205 \nC 91.239688 53.596359 90.997872 53.012564 90.567498 52.58219 \nC 90.137123 52.151816 89.553329 51.91 88.944688 51.91 \nC 88.336046 51.91 87.752252 52.151816 87.321877 52.58219 \nC 86.891503 53.012564 86.649688 53.596359 86.649688 54.205 \nC 86.649688 54.813641 86.891503 55.397436 87.321877 55.82781 \nC 87.752252 56.258184 88.336046 56.5 88.944688 56.5 \nz\n\" style=\"stroke:#000000;stroke-linejoin:miter;stroke-width:2;\"/>\n   </g>\n   <g id=\"patch_3\">\n    <path clip-path=\"url(#pb91b87cb56)\" d=\"M 133.314688 33.55 \nC 133.923329 33.55 134.507123 33.308184 134.937498 32.87781 \nC 135.367872 32.447436 135.609688 31.863641 135.609688 31.255 \nC 135.609688 30.646359 135.367872 30.062564 134.937498 29.63219 \nC 134.507123 29.201816 133.923329 28.96 133.314688 28.96 \nC 132.706046 28.96 132.122252 29.201816 131.691877 29.63219 \nC 131.261503 30.062564 131.019688 30.646359 131.019688 31.255 \nC 131.019688 31.863641 131.261503 32.447436 131.691877 32.87781 \nC 132.122252 33.308184 132.706046 33.55 133.314688 33.55 \nz\n\" style=\"stroke:#000000;stroke-linejoin:miter;stroke-width:2;\"/>\n   </g>\n   <g id=\"patch_4\">\n    <path clip-path=\"url(#pb91b87cb56)\" d=\"M 133.314688 79.45 \nC 133.923329 79.45 134.507123 79.208184 134.937498 78.77781 \nC 135.367872 78.347436 135.609688 77.763641 135.609688 77.155 \nC 135.609688 76.546359 135.367872 75.962564 134.937498 75.53219 \nC 134.507123 75.101816 133.923329 74.86 133.314688 74.86 \nC 132.706046 74.86 132.122252 75.101816 131.691877 75.53219 \nC 131.261503 75.962564 131.019688 76.546359 131.019688 77.155 \nC 131.019688 77.763641 131.261503 78.347436 131.691877 78.77781 \nC 132.122252 79.208184 132.706046 79.45 133.314688 79.45 \nz\n\" style=\"stroke:#000000;stroke-linejoin:miter;stroke-width:2;\"/>\n   </g>\n   <g id=\"text_1\">\n    <!-- gate=AIN0 -->\n    <g transform=\"translate(7.2 58.068125)scale(0.14 -0.14)\">\n     <defs>\n      <path d=\"M 2906 1791 \nQ 2906 2416 2648 2759 \nQ 2391 3103 1925 3103 \nQ 1463 3103 1205 2759 \nQ 947 2416 947 1791 \nQ 947 1169 1205 825 \nQ 1463 481 1925 481 \nQ 2391 481 2648 825 \nQ 2906 1169 2906 1791 \nz\nM 3481 434 \nQ 3481 -459 3084 -895 \nQ 2688 -1331 1869 -1331 \nQ 1566 -1331 1297 -1286 \nQ 1028 -1241 775 -1147 \nL 775 -588 \nQ 1028 -725 1275 -790 \nQ 1522 -856 1778 -856 \nQ 2344 -856 2625 -561 \nQ 2906 -266 2906 331 \nL 2906 616 \nQ 2728 306 2450 153 \nQ 2172 0 1784 0 \nQ 1141 0 747 490 \nQ 353 981 353 1791 \nQ 353 2603 747 3093 \nQ 1141 3584 1784 3584 \nQ 2172 3584 2450 3431 \nQ 2728 3278 2906 2969 \nL 2906 3500 \nL 3481 3500 \nL 3481 434 \nz\n\" id=\"DejaVuSans-67\" transform=\"scale(0.015625)\"/>\n      <path d=\"M 2194 1759 \nQ 1497 1759 1228 1600 \nQ 959 1441 959 1056 \nQ 959 750 1161 570 \nQ 1363 391 1709 391 \nQ 2188 391 2477 730 \nQ 2766 1069 2766 1631 \nL 2766 1759 \nL 2194 1759 \nz\nM 3341 1997 \nL 3341 0 \nL 2766 0 \nL 2766 531 \nQ 2569 213 2275 61 \nQ 1981 -91 1556 -91 \nQ 1019 -91 701 211 \nQ 384 513 384 1019 \nQ 384 1609 779 1909 \nQ 1175 2209 1959 2209 \nL 2766 2209 \nL 2766 2266 \nQ 2766 2663 2505 2880 \nQ 2244 3097 1772 3097 \nQ 1472 3097 1187 3025 \nQ 903 2953 641 2809 \nL 641 3341 \nQ 956 3463 1253 3523 \nQ 1550 3584 1831 3584 \nQ 2591 3584 2966 3190 \nQ 3341 2797 3341 1997 \nz\n\" id=\"DejaVuSans-61\" transform=\"scale(0.015625)\"/>\n      <path d=\"M 1172 4494 \nL 1172 3500 \nL 2356 3500 \nL 2356 3053 \nL 1172 3053 \nL 1172 1153 \nQ 1172 725 1289 603 \nQ 1406 481 1766 481 \nL 2356 481 \nL 2356 0 \nL 1766 0 \nQ 1100 0 847 248 \nQ 594 497 594 1153 \nL 594 3053 \nL 172 3053 \nL 172 3500 \nL 594 3500 \nL 594 4494 \nL 1172 4494 \nz\n\" id=\"DejaVuSans-74\" transform=\"scale(0.015625)\"/>\n      <path d=\"M 3597 1894 \nL 3597 1613 \nL 953 1613 \nQ 991 1019 1311 708 \nQ 1631 397 2203 397 \nQ 2534 397 2845 478 \nQ 3156 559 3463 722 \nL 3463 178 \nQ 3153 47 2828 -22 \nQ 2503 -91 2169 -91 \nQ 1331 -91 842 396 \nQ 353 884 353 1716 \nQ 353 2575 817 3079 \nQ 1281 3584 2069 3584 \nQ 2775 3584 3186 3129 \nQ 3597 2675 3597 1894 \nz\nM 3022 2063 \nQ 3016 2534 2758 2815 \nQ 2500 3097 2075 3097 \nQ 1594 3097 1305 2825 \nQ 1016 2553 972 2059 \nL 3022 2063 \nz\n\" id=\"DejaVuSans-65\" transform=\"scale(0.015625)\"/>\n      <path d=\"M 678 2906 \nL 4684 2906 \nL 4684 2381 \nL 678 2381 \nL 678 2906 \nz\nM 678 1631 \nL 4684 1631 \nL 4684 1100 \nL 678 1100 \nL 678 1631 \nz\n\" id=\"DejaVuSans-3d\" transform=\"scale(0.015625)\"/>\n      <path d=\"M 2188 4044 \nL 1331 1722 \nL 3047 1722 \nL 2188 4044 \nz\nM 1831 4666 \nL 2547 4666 \nL 4325 0 \nL 3669 0 \nL 3244 1197 \nL 1141 1197 \nL 716 0 \nL 50 0 \nL 1831 4666 \nz\n\" id=\"DejaVuSans-41\" transform=\"scale(0.015625)\"/>\n      <path d=\"M 628 4666 \nL 1259 4666 \nL 1259 0 \nL 628 0 \nL 628 4666 \nz\n\" id=\"DejaVuSans-49\" transform=\"scale(0.015625)\"/>\n      <path d=\"M 628 4666 \nL 1478 4666 \nL 3547 763 \nL 3547 4666 \nL 4159 4666 \nL 4159 0 \nL 3309 0 \nL 1241 3903 \nL 1241 0 \nL 628 0 \nL 628 4666 \nz\n\" id=\"DejaVuSans-4e\" transform=\"scale(0.015625)\"/>\n      <path d=\"M 2034 4250 \nQ 1547 4250 1301 3770 \nQ 1056 3291 1056 2328 \nQ 1056 1369 1301 889 \nQ 1547 409 2034 409 \nQ 2525 409 2770 889 \nQ 3016 1369 3016 2328 \nQ 3016 3291 2770 3770 \nQ 2525 4250 2034 4250 \nz\nM 2034 4750 \nQ 2819 4750 3233 4129 \nQ 3647 3509 3647 2328 \nQ 3647 1150 3233 529 \nQ 2819 -91 2034 -91 \nQ 1250 -91 836 529 \nQ 422 1150 422 2328 \nQ 422 3509 836 4129 \nQ 1250 4750 2034 4750 \nz\n\" id=\"DejaVuSans-30\" transform=\"scale(0.015625)\"/>\n     </defs>\n     <use xlink:href=\"#DejaVuSans-67\"/>\n     <use x=\"63.476562\" xlink:href=\"#DejaVuSans-61\"/>\n     <use x=\"124.755859\" xlink:href=\"#DejaVuSans-74\"/>\n     <use x=\"163.964844\" xlink:href=\"#DejaVuSans-65\"/>\n     <use x=\"225.488281\" xlink:href=\"#DejaVuSans-3d\"/>\n     <use x=\"309.277344\" xlink:href=\"#DejaVuSans-41\"/>\n     <use x=\"377.685547\" xlink:href=\"#DejaVuSans-49\"/>\n     <use x=\"407.177734\" xlink:href=\"#DejaVuSans-4e\"/>\n     <use x=\"481.982422\" xlink:href=\"#DejaVuSans-30\"/>\n    </g>\n   </g>\n   <g id=\"text_2\">\n    <!-- drain=GO22 -->\n    <g transform=\"translate(89.615 22.988437)scale(0.14 -0.14)\">\n     <defs>\n      <path d=\"M 2906 2969 \nL 2906 4863 \nL 3481 4863 \nL 3481 0 \nL 2906 0 \nL 2906 525 \nQ 2725 213 2448 61 \nQ 2172 -91 1784 -91 \nQ 1150 -91 751 415 \nQ 353 922 353 1747 \nQ 353 2572 751 3078 \nQ 1150 3584 1784 3584 \nQ 2172 3584 2448 3432 \nQ 2725 3281 2906 2969 \nz\nM 947 1747 \nQ 947 1113 1208 752 \nQ 1469 391 1925 391 \nQ 2381 391 2643 752 \nQ 2906 1113 2906 1747 \nQ 2906 2381 2643 2742 \nQ 2381 3103 1925 3103 \nQ 1469 3103 1208 2742 \nQ 947 2381 947 1747 \nz\n\" id=\"DejaVuSans-64\" transform=\"scale(0.015625)\"/>\n      <path d=\"M 2631 2963 \nQ 2534 3019 2420 3045 \nQ 2306 3072 2169 3072 \nQ 1681 3072 1420 2755 \nQ 1159 2438 1159 1844 \nL 1159 0 \nL 581 0 \nL 581 3500 \nL 1159 3500 \nL 1159 2956 \nQ 1341 3275 1631 3429 \nQ 1922 3584 2338 3584 \nQ 2397 3584 2469 3576 \nQ 2541 3569 2628 3553 \nL 2631 2963 \nz\n\" id=\"DejaVuSans-72\" transform=\"scale(0.015625)\"/>\n      <path d=\"M 603 3500 \nL 1178 3500 \nL 1178 0 \nL 603 0 \nL 603 3500 \nz\nM 603 4863 \nL 1178 4863 \nL 1178 4134 \nL 603 4134 \nL 603 4863 \nz\n\" id=\"DejaVuSans-69\" transform=\"scale(0.015625)\"/>\n      <path d=\"M 3513 2113 \nL 3513 0 \nL 2938 0 \nL 2938 2094 \nQ 2938 2591 2744 2837 \nQ 2550 3084 2163 3084 \nQ 1697 3084 1428 2787 \nQ 1159 2491 1159 1978 \nL 1159 0 \nL 581 0 \nL 581 3500 \nL 1159 3500 \nL 1159 2956 \nQ 1366 3272 1645 3428 \nQ 1925 3584 2291 3584 \nQ 2894 3584 3203 3211 \nQ 3513 2838 3513 2113 \nz\n\" id=\"DejaVuSans-6e\" transform=\"scale(0.015625)\"/>\n      <path d=\"M 3809 666 \nL 3809 1919 \nL 2778 1919 \nL 2778 2438 \nL 4434 2438 \nL 4434 434 \nQ 4069 175 3628 42 \nQ 3188 -91 2688 -91 \nQ 1594 -91 976 548 \nQ 359 1188 359 2328 \nQ 359 3472 976 4111 \nQ 1594 4750 2688 4750 \nQ 3144 4750 3555 4637 \nQ 3966 4525 4313 4306 \nL 4313 3634 \nQ 3963 3931 3569 4081 \nQ 3175 4231 2741 4231 \nQ 1884 4231 1454 3753 \nQ 1025 3275 1025 2328 \nQ 1025 1384 1454 906 \nQ 1884 428 2741 428 \nQ 3075 428 3337 486 \nQ 3600 544 3809 666 \nz\n\" id=\"DejaVuSans-47\" transform=\"scale(0.015625)\"/>\n      <path d=\"M 2522 4238 \nQ 1834 4238 1429 3725 \nQ 1025 3213 1025 2328 \nQ 1025 1447 1429 934 \nQ 1834 422 2522 422 \nQ 3209 422 3611 934 \nQ 4013 1447 4013 2328 \nQ 4013 3213 3611 3725 \nQ 3209 4238 2522 4238 \nz\nM 2522 4750 \nQ 3503 4750 4090 4092 \nQ 4678 3434 4678 2328 \nQ 4678 1225 4090 567 \nQ 3503 -91 2522 -91 \nQ 1538 -91 948 565 \nQ 359 1222 359 2328 \nQ 359 3434 948 4092 \nQ 1538 4750 2522 4750 \nz\n\" id=\"DejaVuSans-4f\" transform=\"scale(0.015625)\"/>\n      <path d=\"M 1228 531 \nL 3431 531 \nL 3431 0 \nL 469 0 \nL 469 531 \nQ 828 903 1448 1529 \nQ 2069 2156 2228 2338 \nQ 2531 2678 2651 2914 \nQ 2772 3150 2772 3378 \nQ 2772 3750 2511 3984 \nQ 2250 4219 1831 4219 \nQ 1534 4219 1204 4116 \nQ 875 4013 500 3803 \nL 500 4441 \nQ 881 4594 1212 4672 \nQ 1544 4750 1819 4750 \nQ 2544 4750 2975 4387 \nQ 3406 4025 3406 3419 \nQ 3406 3131 3298 2873 \nQ 3191 2616 2906 2266 \nQ 2828 2175 2409 1742 \nQ 1991 1309 1228 531 \nz\n\" id=\"DejaVuSans-32\" transform=\"scale(0.015625)\"/>\n     </defs>\n     <use xlink:href=\"#DejaVuSans-64\"/>\n     <use x=\"63.476562\" xlink:href=\"#DejaVuSans-72\"/>\n     <use x=\"104.589844\" xlink:href=\"#DejaVuSans-61\"/>\n     <use x=\"165.869141\" xlink:href=\"#DejaVuSans-69\"/>\n     <use x=\"193.652344\" xlink:href=\"#DejaVuSans-6e\"/>\n     <use x=\"257.03125\" xlink:href=\"#DejaVuSans-3d\"/>\n     <use x=\"340.820312\" xlink:href=\"#DejaVuSans-47\"/>\n     <use x=\"418.310547\" xlink:href=\"#DejaVuSans-4f\"/>\n     <use x=\"497.021484\" xlink:href=\"#DejaVuSans-32\"/>\n     <use x=\"560.644531\" xlink:href=\"#DejaVuSans-32\"/>\n    </g>\n   </g>\n   <g id=\"text_3\">\n    <!-- source=GO20 -->\n    <g transform=\"translate(84.365 93.147812)scale(0.14 -0.14)\">\n     <defs>\n      <path d=\"M 2834 3397 \nL 2834 2853 \nQ 2591 2978 2328 3040 \nQ 2066 3103 1784 3103 \nQ 1356 3103 1142 2972 \nQ 928 2841 928 2578 \nQ 928 2378 1081 2264 \nQ 1234 2150 1697 2047 \nL 1894 2003 \nQ 2506 1872 2764 1633 \nQ 3022 1394 3022 966 \nQ 3022 478 2636 193 \nQ 2250 -91 1575 -91 \nQ 1294 -91 989 -36 \nQ 684 19 347 128 \nL 347 722 \nQ 666 556 975 473 \nQ 1284 391 1588 391 \nQ 1994 391 2212 530 \nQ 2431 669 2431 922 \nQ 2431 1156 2273 1281 \nQ 2116 1406 1581 1522 \nL 1381 1569 \nQ 847 1681 609 1914 \nQ 372 2147 372 2553 \nQ 372 3047 722 3315 \nQ 1072 3584 1716 3584 \nQ 2034 3584 2315 3537 \nQ 2597 3491 2834 3397 \nz\n\" id=\"DejaVuSans-73\" transform=\"scale(0.015625)\"/>\n      <path d=\"M 1959 3097 \nQ 1497 3097 1228 2736 \nQ 959 2375 959 1747 \nQ 959 1119 1226 758 \nQ 1494 397 1959 397 \nQ 2419 397 2687 759 \nQ 2956 1122 2956 1747 \nQ 2956 2369 2687 2733 \nQ 2419 3097 1959 3097 \nz\nM 1959 3584 \nQ 2709 3584 3137 3096 \nQ 3566 2609 3566 1747 \nQ 3566 888 3137 398 \nQ 2709 -91 1959 -91 \nQ 1206 -91 779 398 \nQ 353 888 353 1747 \nQ 353 2609 779 3096 \nQ 1206 3584 1959 3584 \nz\n\" id=\"DejaVuSans-6f\" transform=\"scale(0.015625)\"/>\n      <path d=\"M 544 1381 \nL 544 3500 \nL 1119 3500 \nL 1119 1403 \nQ 1119 906 1312 657 \nQ 1506 409 1894 409 \nQ 2359 409 2629 706 \nQ 2900 1003 2900 1516 \nL 2900 3500 \nL 3475 3500 \nL 3475 0 \nL 2900 0 \nL 2900 538 \nQ 2691 219 2414 64 \nQ 2138 -91 1772 -91 \nQ 1169 -91 856 284 \nQ 544 659 544 1381 \nz\nM 1991 3584 \nL 1991 3584 \nz\n\" id=\"DejaVuSans-75\" transform=\"scale(0.015625)\"/>\n      <path d=\"M 3122 3366 \nL 3122 2828 \nQ 2878 2963 2633 3030 \nQ 2388 3097 2138 3097 \nQ 1578 3097 1268 2742 \nQ 959 2388 959 1747 \nQ 959 1106 1268 751 \nQ 1578 397 2138 397 \nQ 2388 397 2633 464 \nQ 2878 531 3122 666 \nL 3122 134 \nQ 2881 22 2623 -34 \nQ 2366 -91 2075 -91 \nQ 1284 -91 818 406 \nQ 353 903 353 1747 \nQ 353 2603 823 3093 \nQ 1294 3584 2113 3584 \nQ 2378 3584 2631 3529 \nQ 2884 3475 3122 3366 \nz\n\" id=\"DejaVuSans-63\" transform=\"scale(0.015625)\"/>\n     </defs>\n     <use xlink:href=\"#DejaVuSans-73\"/>\n     <use x=\"52.099609\" xlink:href=\"#DejaVuSans-6f\"/>\n     <use x=\"113.28125\" xlink:href=\"#DejaVuSans-75\"/>\n     <use x=\"176.660156\" xlink:href=\"#DejaVuSans-72\"/>\n     <use x=\"215.523438\" xlink:href=\"#DejaVuSans-63\"/>\n     <use x=\"270.503906\" xlink:href=\"#DejaVuSans-65\"/>\n     <use x=\"332.027344\" xlink:href=\"#DejaVuSans-3d\"/>\n     <use x=\"415.816406\" xlink:href=\"#DejaVuSans-47\"/>\n     <use x=\"493.306641\" xlink:href=\"#DejaVuSans-4f\"/>\n     <use x=\"572.017578\" xlink:href=\"#DejaVuSans-32\"/>\n     <use x=\"635.640625\" xlink:href=\"#DejaVuSans-30\"/>\n    </g>\n   </g>\n  </g>\n </g>\n <defs>\n  <clipPath id=\"pb91b87cb56\">\n   <rect height=\"90.95\" width=\"160.6296\" x=\"20.421087\" y=\"7.2\"/>\n  </clipPath>\n </defs>\n</svg>\n",
      "text/plain": [
       "<schemdraw.backends.mpl.Figure object at 0x7ff6736662e0>"
      ]
     },
     "execution_count": 6,
     "metadata": {},
     "output_type": "execute_result"
    }
   ],
   "source": [
    "# uses schemdraw, you may have to install it in order to run it on your PC\n",
    "import schemdraw\n",
    "import schemdraw.elements as elm\n",
    "d = schemdraw.Drawing()\n",
    "Q = d.add(elm.NFet, reverse=True)\n",
    "d.add(elm.Dot, xy=Q.gate, lftlabel='gate=AIN0')\n",
    "d.add(elm.Dot, xy=Q.drain, toplabel='drain=GO22')\n",
    "d.add(elm.Dot, xy=Q.source, botlabel='source=GO20')\n",
    "d.draw()"
   ]
  },
  {
   "cell_type": "markdown",
   "metadata": {},
   "source": [
    "To cancel out the leakage current and shunt resistance, you may need to do a subtraction in Section 5.1.\n",
    "\n",
    "$I_{ds} = I_{GO20} - I_{GO20}|_{V_{gs} = 0}$ "
   ]
  },
  {
   "cell_type": "markdown",
   "metadata": {},
   "source": [
    "Note: It's better to measure source because its leakage is constant in this lab"
   ]
  },
  {
   "cell_type": "markdown",
   "metadata": {},
   "source": [
    "* You have to set the input voltage demultiplexer by sending a configuration event:"
   ]
  },
  {
   "cell_type": "code",
   "execution_count": 7,
   "metadata": {},
   "outputs": [],
   "source": [
    "# Configure NFET, set the input voltage demultiplexer by AER event. \n",
    "# Note selectlines we should choose for the NFET\n",
    "events = [pyplane.Coach.generate_aerc_event( \\\n",
    "    pyplane.Coach.CurrentOutputSelect.SelectLine5, \\\n",
    "    pyplane.Coach.VoltageOutputSelect.NoneSelected, \\\n",
    "    pyplane.Coach.VoltageInputSelect.SelectLine2, \\\n",
    "    pyplane.Coach.SynapseSelect.NoneSelected, 0)]\n",
    "\n",
    "p.send_coach_events(events)"
   ]
  },
  {
   "cell_type": "markdown",
   "metadata": {},
   "source": [
    "* Check the configuration is correct. If the measured result is not as expected, try sending the configration event again."
   ]
  },
  {
   "cell_type": "code",
   "execution_count": null,
   "metadata": {},
   "outputs": [],
   "source": [
    "# set source voltage\n",
    "vs = \n",
    "p.set_voltage(pyplane.DacChannel.GO20,vs)       \n",
    "print(\"The source voltage is set to {} V\".format(...))"
   ]
  },
  {
   "cell_type": "code",
   "execution_count": null,
   "metadata": {},
   "outputs": [],
   "source": [
    "# set drain voltage\n",
    "vd = \n",
    "p.set_voltage(pyplane.DacChannel.GO22,vd)\n",
    "print(\"The drain voltage is set to {} V\".format(...))"
   ]
  },
  {
   "cell_type": "code",
   "execution_count": null,
   "metadata": {},
   "outputs": [],
   "source": [
    "# set gate voltage\n",
    "vg = \n",
    "p.set_voltage(pyplane.DacChannel.AIN0, vg)\n",
    "print(\"The gate voltage is set to {} V\".format(...))"
   ]
  },
  {
   "cell_type": "code",
   "execution_count": null,
   "metadata": {},
   "outputs": [],
   "source": [
    "# read I_{ds}\n",
    "I_s = p.read_current(pyplane.AdcChannel.GO20_N)      #source: note the pin name is different from the Dac\n",
    "print(\"The measured source current is {} A\".format(I_s))\n",
    "\n",
    "time.sleep(0.1)  # wait for it to settle\n",
    "\n",
    "I_d = p.read_current(pyplane.AdcChannel.GO22)       #drain\n",
    "print(\"The measured drain current is {} A\".format(I_d))"
   ]
  },
  {
   "cell_type": "markdown",
   "metadata": {},
   "source": [
    "* Question: Check if the measured currents change with different gate voltages?"
   ]
  },
  {
   "cell_type": "markdown",
   "metadata": {},
   "source": [
    "<a id='config_pfet'></a>\n",
    "## 4.3 Configurations for P-FET"
   ]
  },
  {
   "cell_type": "code",
   "execution_count": null,
   "metadata": {
    "scrolled": true
   },
   "outputs": [],
   "source": [
    "# uses schemdraw, you may have to install it in order to run it on your PC\n",
    "import schemdraw\n",
    "import schemdraw.elements as elm\n",
    "d = schemdraw.Drawing()\n",
    "Q = d.add(elm.PFet, reverse=True, bulk=True)\n",
    "d.add(elm.Dot, xy=Q.gate, lftlabel='gate=AIN0')\n",
    "d.add(elm.Dot, xy=Q.bulk, rgtlabel='bulk=AIN1')\n",
    "d.add(elm.Dot, xy=Q.drain, botlabel='drain=GO21')\n",
    "d.add(elm.Dot, xy=Q.source, toplabel='source=GO23')\n",
    "d.draw()"
   ]
  },
  {
   "cell_type": "markdown",
   "metadata": {},
   "source": [
    "Hint: To cancel out the leakage current and shunt resistance, you may need to do a subtraction:\n",
    "\n",
    "$I_{ds} = I_{GO23} - I_{GO23}|_{V_{gs} = 0} $"
   ]
  },
  {
   "cell_type": "markdown",
   "metadata": {},
   "source": [
    "Note: Measure drain of PFET in this lab. \n",
    "Also think about the difference of $V_{gs}$ between PMOS and NMOS?"
   ]
  },
  {
   "cell_type": "markdown",
   "metadata": {},
   "source": [
    "* You have to choose the input voltage demultiplexer by sending a configuration event (make sure LED1 blinks):"
   ]
  },
  {
   "cell_type": "code",
   "execution_count": null,
   "metadata": {},
   "outputs": [],
   "source": [
    "# Configure PFET, set the input voltage demultiplexer by AER event. \n",
    "# Note selectlines we should choose for the PFET\n",
    "events = [pyplane.Coach.generate_aerc_event( \\\n",
    "    pyplane.Coach.CurrentOutputSelect.SelectLine5, \\\n",
    "    pyplane.Coach.VoltageOutputSelect.NoneSelected, \\\n",
    "    pyplane.Coach.VoltageInputSelect.SelectLine1, \\\n",
    "    pyplane.Coach.SynapseSelect.NoneSelected, 0)]\n",
    "\n",
    "p.send_coach_events(events)"
   ]
  },
  {
   "cell_type": "markdown",
   "metadata": {},
   "source": [
    "* Check the configuration is correct. If the measured result is not as expected, try sending the event again."
   ]
  },
  {
   "cell_type": "code",
   "execution_count": null,
   "metadata": {},
   "outputs": [],
   "source": [
    "# set trial voltages\n",
    "# set bulk voltage\n",
    "p.set_voltage(pyplane.DacChannel.AIN1, ...)\n",
    "Vb_p = p.get_set_voltage(pyplane.DacChannel.AIN1)\n",
    "print(\"The bulk voltage is set to {} V\".format(Vb_p))\n",
    "time.sleep(0.1)  # wait 0.1s for it to settle\n",
    "\n",
    "# set source voltage\n",
    "p.set_voltage(pyplane.DacChannel.GO23, ...)\n",
    "Vs_p = p.get_set_voltage(pyplane.DacChannel.GO23)\n",
    "print(\"The source voltage is set to {} V\".format(Vs_p))\n",
    "time.sleep(0.1)  # wait 0.1s for it to settle\n",
    "\n",
    "# set drain voltage\n",
    "p.set_voltage(pyplane.DacChannel.GO21, ...)\n",
    "Vd_p = p.get_set_voltage(pyplane.DacChannel.GO21)\n",
    "print(\"The drain voltage is set to {} V\".format(Vd_p))\n",
    "time.sleep(0.1)  # wait for it to settle\n",
    "\n",
    "# set gate voltage\n",
    "p.set_voltage(pyplane.DacChannel.AIN0, ...)\n",
    "Vg_p = p.get_set_voltage(pyplane.DacChannel.AIN0)\n",
    "print(\"The gate voltage is set to {} V\".format(Vg_p))"
   ]
  },
  {
   "cell_type": "code",
   "execution_count": null,
   "metadata": {},
   "outputs": [],
   "source": [
    "# read I_{ds}\n",
    "Is_p = p.read_current(pyplane.AdcChannel.GO21_N)\n",
    "print(\"The measured source current of PMOS is {} A\".format(Is_p))\n",
    "\n",
    "time.sleep(0.1)  # wait for it to settle\n",
    "\n",
    "Id_p = p.read_current(pyplane.AdcChannel.GO23)\n",
    "print(\"The measured drain current of PMOS is {} A\".format(Id_p))"
   ]
  },
  {
   "cell_type": "markdown",
   "metadata": {},
   "source": [
    "# 5 Ohmic region"
   ]
  },
  {
   "cell_type": "markdown",
   "metadata": {},
   "source": [
    "In this experiment you will characterize the *linear* dependence of the current on the gate\n",
    "voltage in the strong-inversion ohmic region."
   ]
  },
  {
   "cell_type": "markdown",
   "metadata": {},
   "source": [
    "## 5.1 N-FET"
   ]
  },
  {
   "cell_type": "code",
   "execution_count": null,
   "metadata": {},
   "outputs": [],
   "source": [
    "# uses schemdraw, you may have to install it in order to run it on your PC\n",
    "import schemdraw\n",
    "import schemdraw.elements as elm\n",
    "d = schemdraw.Drawing()\n",
    "Q = d.add(elm.NFet, reverse=True)\n",
    "d.add(elm.Dot, xy=Q.gate, lftlabel='gate=AIN0')\n",
    "d.add(elm.Dot, xy=Q.drain, toplabel='drain=GO22')\n",
    "d.add(elm.Dot, xy=Q.source, botlabel='source=GO20')\n",
    "d.draw()"
   ]
  },
  {
   "cell_type": "markdown",
   "metadata": {},
   "source": [
    "**(a)** Configure the chip following [Section 4.2](#config_nfet) if you haven't"
   ]
  },
  {
   "cell_type": "markdown",
   "metadata": {},
   "source": [
    "**(b)** Measure $I_{ds}$ as a function of $V_g$ in ohmic region"
   ]
  },
  {
   "cell_type": "code",
   "execution_count": null,
   "metadata": {},
   "outputs": [],
   "source": [
    "# Configure NFET, set the input voltage demultiplexer by AER event. \n"
   ]
  },
  {
   "cell_type": "markdown",
   "metadata": {},
   "source": [
    "* What will be the fixed value for source and drain voltages?\n",
    "\n",
    "Answer: "
   ]
  },
  {
   "cell_type": "code",
   "execution_count": null,
   "metadata": {},
   "outputs": [],
   "source": [
    "# set source voltage\n"
   ]
  },
  {
   "cell_type": "code",
   "execution_count": null,
   "metadata": {},
   "outputs": [],
   "source": [
    "# set drain voltage\n"
   ]
  },
  {
   "cell_type": "markdown",
   "metadata": {},
   "source": [
    "* For very close voltages, you may want to call `get_set_voltage` to check the actual output of the DAC."
   ]
  },
  {
   "cell_type": "code",
   "execution_count": null,
   "metadata": {},
   "outputs": [],
   "source": [
    "# get set voltage\n",
    "Vs_n = p.get_set_voltage(pyplane.DacChannel.GO20)\n",
    "print(\"The source voltage is set to {} V\".format(Vs_n))\n",
    "\n",
    "time.sleep(0.1)  # wait for it to settle\n",
    "\n",
    "# get set voltage\n",
    "Vd_n = \n",
    "print(\"The drain voltage is set to {} V\".format(Vd_n))"
   ]
  },
  {
   "cell_type": "markdown",
   "metadata": {},
   "source": [
    "* Data aquisition"
   ]
  },
  {
   "cell_type": "code",
   "execution_count": null,
   "metadata": {},
   "outputs": [],
   "source": [
    "# sweep gate voltage\n",
    "import time\n",
    "import numpy as np \n",
    "\n",
    "# Get the leakage current, Read Ids=Ids0 at Vg = 0\n",
    "p.set_voltage(...)\n",
    "time.sleep(0.5) # wait 0.5 second for it to settle\n",
    "Is0_n = p.read_current(..) #REMEMBER: reading from source is pin AdcChannel.GO20_N\n",
    "print(\"Offset Is0_n: {} A\".format(Is0_n))\n",
    "\n",
    "\n",
    "for ... :\n",
    "    # set gate voltage\n",
    "    \n",
    "    \n",
    "    print(\"The gate voltage is set to {} V\".format(...))   ## print the gate voltage\n",
    "    \n",
    "    time.sleep(0.05)  # wait for it to settle\n",
    "    # read I_{ds}\n",
    "    \n",
    "    \n",
    "    print(\"The measured source current is {} A\".format(...))  ## print the raw data\n",
    "    \n",
    "    # substract leakage current \n",
    "        "
   ]
  },
  {
   "cell_type": "code",
   "execution_count": null,
   "metadata": {},
   "outputs": [],
   "source": [
    "# plot \n"
   ]
  },
  {
   "cell_type": "code",
   "execution_count": null,
   "metadata": {},
   "outputs": [],
   "source": [
    "# if the data looks nice, save it!\n",
    "\n",
    "...\n",
    "\n",
    "\n",
    "# example :\n",
    "# Lab2_data_nFETVgIds_Omic = [Vg_n,Is_n]\n",
    "# save to csv file\n",
    "# np.savetxt('./data/Lab2_data_nFETVgIds.csv', Lab2_data_nFETVgIds_Omic, delimiter=',')"
   ]
  },
  {
   "cell_type": "code",
   "execution_count": null,
   "metadata": {},
   "outputs": [],
   "source": [
    "# Load data you saved and plot, to check if the data is saved correctly or not\n",
    "\n",
    "\n",
    "\n",
    "# example :\n",
    "# Vgn_save, Isn_save = np.loadtxt('./data/Lab2_data_nFETVgIds.csv',delimiter=\",\")\n",
    "#plt.rcParams.update({'font.size': 14})\n",
    "#plt.plot(Vgn_save, Isn_save, '.k')\n",
    "#plt.xlabel('Vg(V)')\n",
    "#plt.ylabel('Ids(A)')\n",
    "#plt.grid()\n",
    "#plt.show()"
   ]
  },
  {
   "cell_type": "code",
   "execution_count": null,
   "metadata": {},
   "outputs": [],
   "source": [
    "# extract the valid range\n"
   ]
  },
  {
   "cell_type": "code",
   "execution_count": null,
   "metadata": {},
   "outputs": [],
   "source": [
    "# fit in the valid range (you may want to go back and add the fitted line in the plot)\n"
   ]
  },
  {
   "cell_type": "markdown",
   "metadata": {},
   "source": [
    "**(c)** Determine $V_{T0}$ and $\\beta$ for both devices by fitting your data to the expression derived in the prelab"
   ]
  },
  {
   "cell_type": "code",
   "execution_count": null,
   "metadata": {},
   "outputs": [],
   "source": [
    "# V_T0\n",
    "v_t0 = \n",
    "print(...)"
   ]
  },
  {
   "cell_type": "code",
   "execution_count": null,
   "metadata": {},
   "outputs": [],
   "source": [
    "# beta => m/Vd\n",
    "\n",
    "betan = \n",
    "\n",
    "print()"
   ]
  },
  {
   "cell_type": "markdown",
   "metadata": {},
   "source": [
    "## 5.2 P-FET"
   ]
  },
  {
   "cell_type": "markdown",
   "metadata": {},
   "source": [
    "**(a)** Configure the chip following [Section 4.3](#config_pfet) if you haven't"
   ]
  },
  {
   "cell_type": "markdown",
   "metadata": {},
   "source": [
    "**(b)** Measure $I_{ds}$ as a function of $V_g$ in ohmic region"
   ]
  },
  {
   "cell_type": "markdown",
   "metadata": {},
   "source": [
    "* What will be the fixed value for bulk, source and drain voltages?"
   ]
  },
  {
   "cell_type": "code",
   "execution_count": null,
   "metadata": {},
   "outputs": [],
   "source": [
    "# uses schemdraw, you may have to install it in order to run it on your PC\n",
    "import schemdraw\n",
    "import schemdraw.elements as elm\n",
    "d = schemdraw.Drawing()\n",
    "Q = d.add(elm.PFet, reverse=True, bulk=True)\n",
    "d.add(elm.Dot, xy=Q.gate, lftlabel='gate=AIN0')\n",
    "d.add(elm.Dot, xy=Q.bulk, rgtlabel='bulk=AIN1')\n",
    "d.add(elm.Dot, xy=Q.drain, botlabel='drain=GO21')\n",
    "d.add(elm.Dot, xy=Q.source, toplabel='source=GO23')\n",
    "d.draw()"
   ]
  },
  {
   "cell_type": "code",
   "execution_count": null,
   "metadata": {},
   "outputs": [],
   "source": [
    "# Configure PFET, set the input voltage demultiplexer by AER event.\n"
   ]
  },
  {
   "cell_type": "code",
   "execution_count": null,
   "metadata": {
    "tags": []
   },
   "outputs": [],
   "source": [
    "# set bulk voltage\n",
    "\n",
    "time.sleep(0.05)  # wait for it to settle\n",
    "\n",
    "# set source voltage\n",
    "\n",
    "\n",
    "# set drain voltage\n",
    "\n",
    "# Print I_ds for checking "
   ]
  },
  {
   "cell_type": "markdown",
   "metadata": {},
   "source": [
    "* For very close voltages, you may want to call `get_set_voltage` to check the actual output of the DAC."
   ]
  },
  {
   "cell_type": "code",
   "execution_count": null,
   "metadata": {},
   "outputs": [],
   "source": [
    "# get set voltage\n",
    "...\n",
    "print"
   ]
  },
  {
   "cell_type": "markdown",
   "metadata": {},
   "source": [
    "* Data aquisition"
   ]
  },
  {
   "cell_type": "code",
   "execution_count": null,
   "metadata": {},
   "outputs": [],
   "source": [
    "# sweep gate voltage\n"
   ]
  },
  {
   "cell_type": "code",
   "execution_count": null,
   "metadata": {},
   "outputs": [],
   "source": [
    "# plot \n"
   ]
  },
  {
   "cell_type": "code",
   "execution_count": null,
   "metadata": {},
   "outputs": [],
   "source": [
    "# if the data looks nice, save it!\n"
   ]
  },
  {
   "cell_type": "code",
   "execution_count": null,
   "metadata": {},
   "outputs": [],
   "source": [
    "# Load data you saved and plot, to check if the data is saved correctly or not\n"
   ]
  },
  {
   "cell_type": "code",
   "execution_count": null,
   "metadata": {},
   "outputs": [],
   "source": [
    "# extract the valid range\n"
   ]
  },
  {
   "cell_type": "code",
   "execution_count": null,
   "metadata": {},
   "outputs": [],
   "source": [
    "# fit in the valid range (you may want to go back and add the fitted line in the plot)\n"
   ]
  },
  {
   "cell_type": "markdown",
   "metadata": {},
   "source": [
    "**(c)** Determine $V_{T0}$ and $\\beta$ for both devices by fitting your data to the expression derived in the prelab"
   ]
  },
  {
   "cell_type": "code",
   "execution_count": null,
   "metadata": {},
   "outputs": [],
   "source": [
    "# V_T0\n",
    "...\n",
    "print('V_T0 = ', ...)"
   ]
  },
  {
   "cell_type": "code",
   "execution_count": null,
   "metadata": {},
   "outputs": [],
   "source": [
    "# beta\n",
    "...\n",
    "print('beta = ',betap)"
   ]
  },
  {
   "cell_type": "markdown",
   "metadata": {},
   "source": [
    "## 5.3 Comparisons"
   ]
  },
  {
   "cell_type": "markdown",
   "metadata": {},
   "source": [
    "* Include a single plot showing the curves for both devices."
   ]
  },
  {
   "cell_type": "code",
   "execution_count": null,
   "metadata": {},
   "outputs": [],
   "source": [
    "# plot both Ids vs |Vgs|\n"
   ]
  },
  {
   "cell_type": "markdown",
   "metadata": {},
   "source": [
    "* What is the ratio between $\\beta$ for the 2 devices? Does it make sense?"
   ]
  },
  {
   "cell_type": "code",
   "execution_count": null,
   "metadata": {},
   "outputs": [],
   "source": []
  },
  {
   "cell_type": "markdown",
   "metadata": {},
   "source": []
  },
  {
   "cell_type": "markdown",
   "metadata": {},
   "source": [
    "* Is the relationship between $I_{ds}$ and $V_{gs}-V_T$ really linear? What is likely the cause of any discrepancy?"
   ]
  },
  {
   "cell_type": "markdown",
   "metadata": {},
   "source": []
  },
  {
   "cell_type": "markdown",
   "metadata": {},
   "source": [
    "## 5.4 Effective surface mobility (optional)"
   ]
  },
  {
   "cell_type": "markdown",
   "metadata": {},
   "source": [
    "Hint: Use the $V_{T0}$ you obtained in the last experiments but assume $\\beta$ changes with $V_{gs}$ (thus $\\mu_n$ and $\\mu_p$ changes). **No need to measure again.**"
   ]
  },
  {
   "cell_type": "code",
   "execution_count": null,
   "metadata": {},
   "outputs": [],
   "source": [
    "# plot mu vs Vgs for both devices in the same figure"
   ]
  },
  {
   "cell_type": "markdown",
   "metadata": {},
   "source": [
    "- Why does the mobility peak and then decay instead of remaining constant? "
   ]
  },
  {
   "cell_type": "markdown",
   "metadata": {},
   "source": []
  },
  {
   "cell_type": "markdown",
   "metadata": {},
   "source": [
    "- What is the ratio between the peak mobilities for electrons and holes?"
   ]
  },
  {
   "cell_type": "markdown",
   "metadata": {},
   "source": []
  },
  {
   "cell_type": "markdown",
   "metadata": {},
   "source": [
    "- How different are these values from the bulk mobilities for electrons (1350 ${\\rm cm^2/V/s}$) and holes (480 ${\\rm cm^2/V/s}$)? "
   ]
  },
  {
   "cell_type": "markdown",
   "metadata": {},
   "source": []
  },
  {
   "cell_type": "markdown",
   "metadata": {},
   "source": [
    "# 6 Drain Current in the saturation region"
   ]
  },
  {
   "cell_type": "markdown",
   "metadata": {},
   "source": [
    "In this experiment you will characterize the _quadratic_ dependence of the current on the gate\n",
    "voltage in the saturation region. "
   ]
  },
  {
   "cell_type": "markdown",
   "metadata": {},
   "source": [
    "## 6.1 N-FET"
   ]
  },
  {
   "cell_type": "markdown",
   "metadata": {},
   "source": [
    "**(a)** Configure the chip following [Section 4.2](#config_nfet) if you haven't"
   ]
  },
  {
   "cell_type": "markdown",
   "metadata": {},
   "source": [
    "**(b)** Measure $I_{ds}$ as a function of $V_g$ in saturation region"
   ]
  },
  {
   "cell_type": "markdown",
   "metadata": {},
   "source": [
    "* What will be the fixed value for source and drain voltages?"
   ]
  },
  {
   "cell_type": "code",
   "execution_count": null,
   "metadata": {},
   "outputs": [],
   "source": [
    "## configure NMOS by AER event\n"
   ]
  },
  {
   "cell_type": "code",
   "execution_count": null,
   "metadata": {},
   "outputs": [],
   "source": [
    "# set source voltage\n"
   ]
  },
  {
   "cell_type": "code",
   "execution_count": null,
   "metadata": {},
   "outputs": [],
   "source": [
    "# set drain voltage     #######1.8\n"
   ]
  },
  {
   "cell_type": "markdown",
   "metadata": {},
   "source": [
    "* Data aquisition"
   ]
  },
  {
   "cell_type": "code",
   "execution_count": null,
   "metadata": {},
   "outputs": [],
   "source": [
    "# sweep gate voltage\n"
   ]
  },
  {
   "cell_type": "code",
   "execution_count": null,
   "metadata": {},
   "outputs": [],
   "source": [
    "# plot \n"
   ]
  },
  {
   "cell_type": "code",
   "execution_count": null,
   "metadata": {},
   "outputs": [],
   "source": [
    "# if the data looks nice, save it!\n"
   ]
  },
  {
   "cell_type": "code",
   "execution_count": null,
   "metadata": {},
   "outputs": [],
   "source": [
    "# extract the valid range and plot sqrt(Ids) vs Vgs\n"
   ]
  },
  {
   "cell_type": "code",
   "execution_count": null,
   "metadata": {},
   "outputs": [],
   "source": [
    "# fit in the valid range (you may want to go back and add the fitted line in the plot)\n"
   ]
  },
  {
   "cell_type": "markdown",
   "metadata": {},
   "source": [
    "**(c)** Determine $V_{T0}$ and $\\beta$ for both devices by fitting your data to the expression derived in the prelab"
   ]
  },
  {
   "cell_type": "code",
   "execution_count": null,
   "metadata": {},
   "outputs": [],
   "source": [
    "# V_T0 \n",
    "\n",
    "print('V_T0 = ', ... )"
   ]
  },
  {
   "cell_type": "code",
   "execution_count": null,
   "metadata": {},
   "outputs": [],
   "source": [
    "# beta\n",
    "betan = \n",
    "print('beta = ',betan)"
   ]
  },
  {
   "cell_type": "markdown",
   "metadata": {},
   "source": [
    "## 6.2 P-FET"
   ]
  },
  {
   "cell_type": "markdown",
   "metadata": {},
   "source": [
    "**(a)** Configure the chip following [Section 4.3](#config_pfet) if you haven't"
   ]
  },
  {
   "cell_type": "markdown",
   "metadata": {},
   "source": [
    "**(b)** Measure $I_{ds}$ as a function of $V_g$ in ohmic region"
   ]
  },
  {
   "cell_type": "markdown",
   "metadata": {},
   "source": [
    "* What will be the fixed value for bulk, source and drain voltages?"
   ]
  },
  {
   "cell_type": "code",
   "execution_count": null,
   "metadata": {},
   "outputs": [],
   "source": [
    "## configure PMOS by AER event\n"
   ]
  },
  {
   "cell_type": "code",
   "execution_count": null,
   "metadata": {},
   "outputs": [],
   "source": [
    "# set bulk voltage\n",
    "\n",
    "#delay, wait for it to settle\n",
    "\n",
    "# set source voltage\n",
    "\n",
    "#delay, wait for it to settle\n",
    "\n",
    "# set drain voltage\n",
    "\n",
    "#delay, wait for it to settle\n",
    "\n",
    "# print I_ds for checking \n"
   ]
  },
  {
   "cell_type": "markdown",
   "metadata": {},
   "source": [
    "* Data aquisition"
   ]
  },
  {
   "cell_type": "code",
   "execution_count": null,
   "metadata": {},
   "outputs": [],
   "source": [
    "# sweep gate voltage\n"
   ]
  },
  {
   "cell_type": "code",
   "execution_count": null,
   "metadata": {},
   "outputs": [],
   "source": [
    "# plot \n"
   ]
  },
  {
   "cell_type": "code",
   "execution_count": null,
   "metadata": {},
   "outputs": [],
   "source": [
    "# if the data looks nice, save it!\n"
   ]
  },
  {
   "cell_type": "code",
   "execution_count": null,
   "metadata": {},
   "outputs": [],
   "source": [
    "# extract the valid range and plot sqrt(Ids) vs Vgs\n"
   ]
  },
  {
   "cell_type": "code",
   "execution_count": null,
   "metadata": {},
   "outputs": [],
   "source": [
    "# fit in the valid range (you may want to go back and add the fitted line in the plot)\n"
   ]
  },
  {
   "cell_type": "markdown",
   "metadata": {},
   "source": [
    "**(c)** Determine $V_{T0}$ and $\\beta$ for both devices by fitting your data to the expression derived in the prelab"
   ]
  },
  {
   "cell_type": "code",
   "execution_count": null,
   "metadata": {},
   "outputs": [],
   "source": [
    "# V_T0\n"
   ]
  },
  {
   "cell_type": "code",
   "execution_count": null,
   "metadata": {},
   "outputs": [],
   "source": [
    "# beta\n"
   ]
  },
  {
   "cell_type": "markdown",
   "metadata": {},
   "source": [
    "## 6.3 Comparisons"
   ]
  },
  {
   "cell_type": "markdown",
   "metadata": {},
   "source": [
    "* Are the measurements of $V_{T0}$ and $\\beta$ from the saturation measurement consistent with the values obtained in the ohmic region? "
   ]
  },
  {
   "cell_type": "markdown",
   "metadata": {},
   "source": []
  },
  {
   "cell_type": "markdown",
   "metadata": {},
   "source": [
    "* Which is a better approximation, the linear one or the quadratic?"
   ]
  },
  {
   "cell_type": "markdown",
   "metadata": {},
   "source": []
  },
  {
   "cell_type": "markdown",
   "metadata": {},
   "source": [
    "# 7 Early effect"
   ]
  },
  {
   "cell_type": "markdown",
   "metadata": {},
   "source": [
    "This experiment studies how Early voltage scales with transistor current; in particular, how valid are the simple assumptions about channel length modulation?\n",
    "\n",
    "**You only need to do N-FET**"
   ]
  },
  {
   "cell_type": "markdown",
   "metadata": {},
   "source": [
    "**(a)** Measure $I_{ds}$ vs $V_{ds}$ for different $V_{gs}$"
   ]
  },
  {
   "cell_type": "code",
   "execution_count": null,
   "metadata": {},
   "outputs": [],
   "source": [
    "### AER to configure NMOS\n"
   ]
  },
  {
   "cell_type": "code",
   "execution_count": null,
   "metadata": {},
   "outputs": [],
   "source": [
    "# set source voltage\n"
   ]
  },
  {
   "cell_type": "code",
   "execution_count": null,
   "metadata": {},
   "outputs": [],
   "source": [
    "# Measurement. You may need two 'for' loops (one nested loop) to sweep Vgs and Vds\n",
    "        "
   ]
  },
  {
   "cell_type": "markdown",
   "metadata": {},
   "source": [
    "* Include a single plot showing all data on a semilogy plot."
   ]
  },
  {
   "cell_type": "code",
   "execution_count": null,
   "metadata": {},
   "outputs": [],
   "source": [
    "# plot\n"
   ]
  },
  {
   "cell_type": "code",
   "execution_count": null,
   "metadata": {},
   "outputs": [],
   "source": [
    "# if the data looks nice, save it!\n"
   ]
  },
  {
   "cell_type": "markdown",
   "metadata": {},
   "source": [
    "* Can you see how the saturation voltage increases with the gate overdrive $V_G-V_T$ in strong inversion?"
   ]
  },
  {
   "cell_type": "markdown",
   "metadata": {},
   "source": []
  },
  {
   "cell_type": "markdown",
   "metadata": {},
   "source": [
    "**(b)** Compute the Early voltage "
   ]
  },
  {
   "cell_type": "markdown",
   "metadata": {},
   "source": [
    "* Fit a line to the ”flat” part of each curve. Select a range of drain voltages to fit the line and use the same range for each curve, because the Early effect is actually curved in reality, and what you are actually seeing is the start of Drain Induced Barrier Lowering (DIBL) or impact ionization."
   ]
  },
  {
   "cell_type": "code",
   "execution_count": null,
   "metadata": {},
   "outputs": [],
   "source": []
  },
  {
   "cell_type": "markdown",
   "metadata": {},
   "source": [
    "* Plot the Early voltage vs drain current on a semilogx scale."
   ]
  },
  {
   "cell_type": "code",
   "execution_count": null,
   "metadata": {},
   "outputs": [],
   "source": []
  },
  {
   "cell_type": "markdown",
   "metadata": {},
   "source": [
    "* Comment on your results: How constant is the Early voltage with drain current? Speculate on the reasons for your observations."
   ]
  },
  {
   "cell_type": "markdown",
   "metadata": {},
   "source": []
  },
  {
   "cell_type": "markdown",
   "metadata": {},
   "source": []
  },
  {
   "cell_type": "markdown",
   "metadata": {},
   "source": [
    "# 8 Congratulations"
   ]
  },
  {
   "cell_type": "markdown",
   "metadata": {},
   "source": [
    "**If you did everything in this lab, you have done a lot! This is probably the most difficult but also one of the most important labs, because practical and intuitive knowledge of transistor characteristics is crucial in understanding and synthesizing new circuits.**"
   ]
  },
  {
   "cell_type": "markdown",
   "metadata": {},
   "source": [
    "# 9 What we expect"
   ]
  },
  {
   "cell_type": "markdown",
   "metadata": {},
   "source": [
    "How transistors work above threshold.  \n",
    "\n",
    "What is the linear or triode region and what is the saturation region?\n",
    "\n",
    "How does the linear region depend on gate and threshold voltage?\n",
    "\n",
    "What is the _overdrive_?\n",
    "\n",
    "What is the specific current?\n",
    "\n",
    "How the Early effect comes about?\n",
    "\n",
    "Typical values for Early voltage.\n",
    "\n",
    "How to sketch graphs of transistor current vs gate voltage and drain-source voltage.\n",
    "\n",
    "How above-threshold transistors go into saturation and why the saturation voltage is equal to the gate overdrive.\n",
    "Can you write the above-threshold current equations?\n",
    "\n",
    "How does above-threshold current depend on $W/L$, $C_{ox}$, and mobility $\\mu$?\n",
    "\n",
    "How do transconductance and drain resistance combine to generate voltage gain? \n",
    "And what is the intrinsic voltage gain of a transistor?\n",
    "\n",
    "What effect does velocity saturation have on transistor operation, specifically, how does it change the relation between saturation current and gate voltage? What is DIBL (drain induced barrier lowering) and II (impact ionization)?\n",
    "\n",
    "What is the dominant source of mismatch?\n",
    "\n",
    "How does transistor mismatch scale with transistor size?\n",
    "\n",
    "What are typical values of transistor threshold voltage mismatch? "
   ]
  }
 ],
 "metadata": {
  "kernelspec": {
   "display_name": "Python 3.9.7 ('snowflakes')",
   "language": "python",
   "name": "python3"
  },
  "language_info": {
   "codemirror_mode": {
    "name": "ipython",
    "version": 3
   },
   "file_extension": ".py",
   "mimetype": "text/x-python",
   "name": "python",
   "nbconvert_exporter": "python",
   "pygments_lexer": "ipython3",
   "version": "3.9.7"
  },
  "vscode": {
   "interpreter": {
    "hash": "5379aec5f3ea91ea19d30a561705af7a8714831e882200b5ede96bafcba4c96c"
   }
  }
 },
 "nbformat": 4,
 "nbformat_minor": 4
}
