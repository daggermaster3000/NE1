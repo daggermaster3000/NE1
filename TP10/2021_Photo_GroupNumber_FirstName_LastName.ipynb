{
 "cells": [
  {
   "cell_type": "markdown",
   "metadata": {
    "collapsed": false,
    "ein.tags": "worksheet-0",
    "slideshow": {
     "slide_type": "-"
    }
   },
   "source": [
    "##### Neuromorphic engineering I"
   ]
  },
  {
   "cell_type": "markdown",
   "metadata": {
    "collapsed": false,
    "ein.tags": "worksheet-0",
    "slideshow": {
     "slide_type": "-"
    }
   },
   "source": [
    "## Photoreceptors; Photoreceptor Circuits\n",
    "\n",
    " Created Oct 2020-Dec 2020 by Tobi Delbruck & Rui Graca"
   ]
  },
  {
   "cell_type": "markdown",
   "metadata": {
    "collapsed": false,
    "ein.tags": "worksheet-0",
    "slideshow": {
     "slide_type": "-"
    }
   },
   "source": [
    "#### Group number: ..."
   ]
  },
  {
   "cell_type": "markdown",
   "metadata": {
    "collapsed": false,
    "ein.tags": "worksheet-0",
    "slideshow": {
     "slide_type": "-"
    }
   },
   "source": [
    "#### Team members\n",
    "\n",
    " - First name: Quillan Last name: Favey\n",
    " - First name: ... Last name: ...\n",
    "\n",
    "#### TA: ..."
   ]
  },
  {
   "cell_type": "markdown",
   "metadata": {
    "collapsed": false,
    "ein.tags": "worksheet-0",
    "pycharm": {
     "name": "#%% md\n"
    },
    "slideshow": {
     "slide_type": "-"
    }
   },
   "source": []
  },
  {
   "cell_type": "markdown",
   "metadata": {
    "collapsed": false
   },
   "source": [
    "**Objectives of this lab**"
   ]
  },
  {
   "cell_type": "markdown",
   "metadata": {
    "collapsed": false
   },
   "source": [
    "You will compare the 2 circuits sketched below.\n",
    "The left one is the _source-follower_ (**SF**) photoreceptor\n",
    "and the right one is the unity-gain active _transimpendance_ feedback (**TI**) photoreceptor.\n",
    "\n",
    "<img src='figs/lab9_photoreceptor1.png' width=800>\n",
    "\n",
    "![photoreceptor circuits](attachment:figs/lab9_photoreceptor1.png \"photoreceptor circuits\")\n",
    "\n",
    "### Exercise type and dates\n",
    "COVID made it too difficult to set up a remote arrangement for testing the classchip photoreceptor circuits.\n",
    "Instead, we will do some circuit analysis and numerical evaluation to\n",
    "understand the concepts of feedback, loop gain, and transimpedence speedup.\n",
    "\n",
    "The exercise spans 2 weeks with 2h per week.\n",
    "There will be two groups Thursday afternoon and Monday morning.\n",
    "\n",
    "Excercise dates: Monday group: Nov 30, Dec 7, Thursday group: Dec 2, Dec 9,\n",
    "Monday group: Dec 6 and Dec 13.\n",
    "\n",
    "Due date: Dec 20 2021\n",
    "\n",
    "### Running the notebook\n",
    "\n",
    "You will run this exercise on your own computer using any available Jupyter server. If you have one\n",
    "already, you can use it. But you don't need to:\n",
    "https://www.dataschool.io/cloud-services-for-jupyter-notebook/\n",
    "provides a list of free servers on the cloud that you can use after registration."
   ]
  },
  {
   "cell_type": "markdown",
   "metadata": {
    "collapsed": false,
    "ein.tags": "worksheet-0",
    "slideshow": {
     "slide_type": "-"
    }
   },
   "source": [
    "### Requirements: libraries needed\n",
    " python 3.7+\n",
    "\n",
    "You might need to install libraries. You can install them from terminal into your python enviroment with\n",
    "``` bash\n",
    "pip install jupyter matplotlib numpy  scipy engineering_notation engineering_notation\n",
    "```\n",
    "Remember, when using any python, conda is your friend. Make a unique conda enviroment\n",
    " for each project to save yourself a lot of trouble with conflicting libraries. Here we will use only\n",
    " very standard libraries that are provided by all the Jupyter servers.\n"
   ]
  },
  {
   "cell_type": "code",
   "execution_count": 1,
   "metadata": {
    "autoscroll": false,
    "collapsed": false,
    "ein.hycell": false,
    "ein.tags": "worksheet-0",
    "pycharm": {
     "is_executing": true,
     "name": "#%% imports\n"
    },
    "slideshow": {
     "slide_type": "-"
    }
   },
   "outputs": [],
   "source": [
    "import matplotlib.pyplot as plt # plotting\n",
    "import numpy as np # for math\n",
    "from scipy.integrate import solve_ivp #  - for timestepping ODEs\n",
    "import os\n",
    "from engineering_notation import EngNumber as eng # useful library to e.g. format eng(1e-3) as 1m\n",
    "from scipy.stats import linregress\n",
    "\n",
    "### ------------------------------------------------------------------------------------------------------------------------------------------------------------"
   ]
  },
  {
   "cell_type": "code",
   "execution_count": 2,
   "metadata": {
    "collapsed": false,
    "pycharm": {
     "is_executing": true
    }
   },
   "outputs": [],
   "source": [
    "import matplotlib as mpl\n",
    "mpl.rcParams[\"figure.facecolor\"] = \"white\"\n",
    "mpl.rcParams[\"axes.facecolor\"] = \"white\"\n",
    "mpl.rcParams[\"savefig.facecolor\"] = \"white\""
   ]
  },
  {
   "cell_type": "markdown",
   "metadata": {
    "collapsed": false,
    "pycharm": {
     "name": "#%% md\n"
    }
   },
   "source": [
    "### Define useful constants"
   ]
  },
  {
   "cell_type": "code",
   "execution_count": 3,
   "metadata": {
    "collapsed": false,
    "pycharm": {
     "is_executing": true,
     "name": "#%%\n"
    }
   },
   "outputs": [],
   "source": [
    "I_0= 1e-14 # FET off current - you measured it TODO check correct for classchip process\n",
    "U_T= 25e-3# you better know this\n",
    "kappa=.8 # choose a reasonable value\n",
    "vdd=1.8 # power supply voltage\n",
    "q=1.6e-19 # charge of electron\n",
    "\n",
    "V_e=10 # Early voltage for the TI photoreceptor amplifier input FET that we will use later. 1V is very small and would be less than what you would get from minimum length FET"
   ]
  },
  {
   "cell_type": "markdown",
   "metadata": {
    "collapsed": false
   },
   "source": [
    "### Define useful functions\n",
    "Let's define a function for subthreshold current that\n",
    "includes optional Early voltage for finite drain\n",
    "conductance:"
   ]
  },
  {
   "cell_type": "code",
   "execution_count": 4,
   "metadata": {
    "collapsed": false,
    "pycharm": {
     "is_executing": true,
     "name": "#%%\n"
    }
   },
   "outputs": [],
   "source": [
    "def id_sub(V_g, V_s=0, V_d=1.8, U_T=U_T, I_0=I_0, kappa=kappa, V_e=V_e):\n",
    "    \"\"\" Computes the drain current from gate, source and drain voltage.\n",
    "    At most one of V_g, V_s, V_d can be a vector in which case I_d is a vector\n",
    "\n",
    "    :param V_g: gate voltage\n",
    "    :param V_s: source voltage, by default 0\n",
    "    :param V_d: drain voltage, by default 1V\n",
    "    :param: U_T: thermal voltage\n",
    "    :param I_0: the off current\n",
    "    :param V_e: the Early voltage; drain conductance is Idsat/V_e\n",
    "\n",
    "    :returns: the drain current in amps\n",
    "    \"\"\"\n",
    "    Vds=V_d-V_s\n",
    "    Id_sat=I_0*np.exp(((kappa*V_g)-V_s)/U_T)\n",
    "    I_d=Id_sat*(1-np.exp(-Vds/U_T))\n",
    "    if V_e!=np.infty:\n",
    "        I_d=I_d*(1+Vds/V_e)\n",
    "    return I_d"
   ]
  },
  {
   "cell_type": "markdown",
   "metadata": {
    "collapsed": false
   },
   "source": [
    "Check that the subthreshold equation makes sense. Start by plotting the drain current versus gate voltage, and\n",
    "check that the slope is 1 e-fold per U_T/kappa."
   ]
  },
  {
   "cell_type": "code",
   "execution_count": 5,
   "metadata": {
    "collapsed": false,
    "pycharm": {
     "is_executing": true,
     "name": "#%%\n"
    }
   },
   "outputs": [
    {
     "name": "stdout",
     "output_type": "stream",
     "text": [
      "Transconductance: Measured efold current gate voltage=31.25mV, predicted from U_T/kappa=31.25mV\n",
      "Transconductance OK\n"
     ]
    },
    {
     "data": {
      "image/png": "[encoded data removed]",
      "text/plain": [
       "<Figure size 432x288 with 1 Axes>"
      ]
     },
     "metadata": {},
     "output_type": "display_data"
    }
   ],
   "source": [
    "import matplotlib.pyplot as plt # plotting\n",
    "import numpy as np # for math\n",
    "vg=np.linspace(0,1,100)\n",
    "# drain current vs gate voltage (transconductance)\n",
    "idvsvg=id_sub(vg)\n",
    "\n",
    "plt.figure('idsat')\n",
    "plt.semilogy(vg,idvsvg)\n",
    "plt.xlabel('V_g (V)')\n",
    "plt.ylabel('I_ds (A)')\n",
    "plt.title('Id vs Vg')\n",
    "plt.grid(True)\n",
    "\n",
    "reg=linregress(np.log(idvsvg), vg )\n",
    "efold_v_meas=reg[0]\n",
    "efold_v_theory=U_T/kappa\n",
    "print(f'Transconductance: Measured efold current gate voltage={eng(efold_v_meas)}V, predicted from U_T/kappa={eng(efold_v_theory)}V')\n",
    "if np.abs((efold_v_meas-efold_v_theory)/(.5*(efold_v_meas+efold_v_theory)))>.01:\n",
    "    raise ValueError('Something wrong with subthreshold equations')\n",
    "else:\n",
    "    print('Transconductance OK')"
   ]
  },
  {
   "cell_type": "markdown",
   "metadata": {
    "collapsed": false,
    "pycharm": {
     "name": "#%% md\n"
    }
   },
   "source": [
    "Now plot the drain current vs drain voltage and check that the actual drain conductance matches the expected value."
   ]
  },
  {
   "cell_type": "code",
   "execution_count": 6,
   "metadata": {
    "collapsed": false,
    "pycharm": {
     "is_executing": true,
     "name": "#%%\n"
    }
   },
   "outputs": [
    {
     "name": "stdout",
     "output_type": "stream",
     "text": [
      "Output conductance: Measured g_out=9.04n, predicted from g_out=Id_sat/Ve=8.89n\n",
      "Drain conductance OK within 5%\n"
     ]
    },
    {
     "data": {
      "image/png": "[encoded data removed]",
      "text/plain": [
       "<Figure size 432x288 with 1 Axes>"
      ]
     },
     "metadata": {},
     "output_type": "display_data"
    }
   ],
   "source": [
    "vd=np.linspace(0,1,100)\n",
    "V_g=.5\n",
    "idsat=I_0*np.exp(kappa*V_g/U_T)\n",
    "# drain current vs drain voltage (drain conductance)\n",
    "idvsvd=id_sub(V_g=V_g, V_d=vd, V_e=V_e)\n",
    "\n",
    "plt.figure('idsat2')\n",
    "plt.plot(vd,idvsvd)\n",
    "plt.xlabel('V_d (V)')\n",
    "plt.ylabel('I_ds (A)')\n",
    "plt.grid(True)\n",
    "plt.title('I_ds vs V_d (V_g={:.1f} V_e={:.1f})'.format(V_g,V_e))\n",
    "\n",
    "r=[i for i in range(len(idvsvd)) if idvsvd[i] >= idsat]\n",
    "\n",
    "plt.plot(vd[r],idvsvd[r],'.r')\n",
    "reg=linregress(vd[r], idvsvd[r] )\n",
    "gout_meas= reg[0]\n",
    "gout_pred=I_0*np.exp(kappa*V_g/U_T)/V_e\n",
    "print(f'Output conductance: Measured g_out={eng(gout_meas)}, predicted from g_out=Id_sat/Ve={eng(gout_pred)}')\n",
    "if np.abs((gout_meas-gout_pred)/(.5*(gout_meas+gout_pred)))>.05:\n",
    "    raise ValueError('Something wrong with subthreshold equations')\n",
    "else:\n",
    "    print('Drain conductance OK within 5%')"
   ]
  },
  {
   "cell_type": "markdown",
   "metadata": {
    "collapsed": false
   },
   "source": [
    "It seems to make sense. Now we have an equation we can use in ODE equation for photoreceptors\n",
    "\n",
    "### Estimating actual photocurrent\n",
    "\n",
    "Now we need to compute reasonable values for photocurrent and dark current.\n",
    "Let's take the interesting situation of operation in dark\n",
    "conditions at 1 lux scene illumination, which is about 10 times moonlight.\n",
    "The light falling onto the chip will be reduced by the optics\n",
    "according to the equation below.\n",
    "\n",
    "We will also assume a photodiode area of 10um^2\n",
    "which is a reasonably-large photodiode, and we will\n",
    "assume a not-so-great junction leakage \"dark current\" of 1nA/cm^2.\n",
    "\n",
    "$$\n",
    "I_{chip} = \\frac{I_{scene}R \\times QE}{4f^2}\n",
    "$$\n",
    "\n",
    "where $I$ is illuminance in $lux$, $f$ is focal length aperture, $QE = 0.5$ is quantem efficiency, $R$ is the scene reflectance"
   ]
  },
  {
   "cell_type": "code",
   "execution_count": 7,
   "metadata": {
    "collapsed": false,
    "pycharm": {
     "is_executing": true,
     "name": "#%%\n"
    }
   },
   "outputs": [
    {
     "name": "stdout",
     "output_type": "stream",
     "text": [
      "scene illumination level 10lux\n",
      "photodiode area: 10um^2\n",
      "DC photocurrent: 4.54fA\n",
      "dark current: 625e/s or 100aA\n",
      "I_0 off current: 62.50ke/s or 10fA\n",
      "\n"
     ]
    }
   ],
   "source": [
    "scene_flux_lux = 10  # 1 lux is about ten times moonlight\n",
    "photodiode_area_um2 = 10  # photodiode area m^2\n",
    "# optics reduces light intensity by square of aperture ratio\n",
    "# we will assume a cheap f/3 lens with ratio focal length to aperture of 3\n",
    "\n",
    "\n",
    "def optics_reduction(flux):\n",
    "    f_number = 3\n",
    "    return flux/(4*f_number*f_number)\n",
    "\n",
    "\n",
    "avg_reflectance = .18  # kodak's estimate of average scene reflectance\n",
    "chip_flux_lux = optics_reduction(scene_flux_lux)\n",
    "\n",
    "# you get about this many photons per lux falling on chip with \"visible\" sunlight spectrum\n",
    "photons_per_um2_per_lux = 1e4\n",
    "photocurrent_e_per_sec = chip_flux_lux * (photons_per_um2_per_lux) * photodiode_area_um2\n",
    "    \n",
    "dark_current_amps_per_um2 = (1e-9/1e-4)*1e-12  # junction leakage per m^2\n",
    "dark_current_amps = photodiode_area_um2*dark_current_amps_per_um2\n",
    "dark_current_e_per_sec = dark_current_amps/q\n",
    "photocurrent_amps = photocurrent_e_per_sec*q\n",
    "photocurrent_total_amps = photocurrent_amps+dark_current_amps\n",
    "\n",
    "print(f'scene illumination level {eng(scene_flux_lux)}lux\\n'\n",
    "      f'photodiode area: {photodiode_area_um2}um^2\\n'\n",
    "      f'DC photocurrent: {eng(photocurrent_total_amps)}A\\n'\n",
    "      f'dark current: {eng(dark_current_e_per_sec)}e/s or {eng(dark_current_amps)}A\\n'\n",
    "      f'I_0 off current: {eng(I_0/q)}e/s or {eng(I_0)}A\\n')\n"
   ]
  },
  {
   "cell_type": "markdown",
   "metadata": {
    "collapsed": false
   },
   "source": [
    "Is the value smaller than the off-current?  Yes \n",
    "This is not surprising; under dark conditions, the photocurrent can be\n",
    "a small fraction of the FET off-current.\n",
    "\n",
    "#### Making a photocurrent stimulus waveform\n",
    "Now we will make a waveform input stimulus to drive our time-domain simulations of the photoreceptors.\n",
    " Let's define our input photocurrent waveform we will use\n",
    "it is a square wave with modulation of contrast signal_contrast and starts with bright DC level and then goes\n",
    " to dark DC level"
   ]
  },
  {
   "cell_type": "code",
   "execution_count": 31,
   "metadata": {
    "collapsed": false,
    "pycharm": {
     "is_executing": true,
     "name": "#%% define the input photocurrent waveform we will use\n"
    }
   },
   "outputs": [
    {
     "name": "stdout",
     "output_type": "stream",
     "text": [
      "source follower photodiode capacitance C_pd=100fF and tau_sf=5.63s\n",
      "Computed period: 11.25s\n"
     ]
    },
    {
     "data": {
      "text/plain": [
       "Text(0, 0.5, 'I_pd [A]')"
      ]
     },
     "execution_count": 31,
     "metadata": {},
     "output_type": "execute_result"
    },
    {
     "data": {
      "image/png": "[encoded data removed]",
      "text/plain": [
       "<Figure size 432x288 with 1 Axes>"
      ]
     },
     "metadata": {},
     "output_type": "display_data"
    }
   ],
   "source": [
    "\n",
    "import numpy as np\n",
    "from scipy.signal import square\n",
    "import matplotlib.pyplot as plt # plotting\n",
    "\n",
    "dark=dark_current_amps # dark current level\n",
    "sigdc1=photocurrent_amps # DC photocurrent for bright half\n",
    "sigdc2=photocurrent_amps/10 # and dark half\n",
    "signal_contrast=5 # contrast in each half, i.e. cont=10 means that the bright part will be 10 times the dark half period, 2 means 2 times\n",
    "nper=2 # how many periods to simulate for each half bright/dark\n",
    "# to compute the period, let's make it so that half a period is 1 time constants for SF in dark part of scene\n",
    "C_pd=100e-15 # guesstimate about 100fF\n",
    "tau_sf=C_pd*U_T/sigdc2\n",
    "per=2*tau_sf # period in seconds\n",
    "\n",
    "print(f'source follower photodiode capacitance C_pd={eng(C_pd)}F and tau_sf={eng(tau_sf)}s\\n'\n",
    "      f'Computed period: {eng(per)}s')\n",
    "dt=per/50000 # timesteps per half period\n",
    "time_basis=np.arange(0,2*nper*per,dt) # start,stop,step generate time basis that is nper long\n",
    "npts=len(time_basis)\n",
    "npts2=int(npts/2)\n",
    "# generate square wave with period per using time basis t that has steps dt\n",
    "# square(x) has period 2*pi, i.e. its output is 1 when input is 0-pi, then -1 for pi-2pi, then 1 again\n",
    "# thus if we want to have nper cycles in each half of our stimulus, we need to\n",
    "# make its argument go to 2pi when the time goes to per\n",
    "# Also, shift it up and divide by 2 to get 0-1 modulated square\n",
    "sq=(square((2*np.pi*time_basis)/(per))+1)/2\n",
    "# convolve with a short box filter to\n",
    "# make the edges not perfectly square to simulate finite optical aperture\n",
    "# sq=np.convolve(sq,np.ones(10)/10,mode='same') # causes some wierd transient, didn't debug\n",
    "\n",
    "sig=np.zeros_like(sq)\n",
    "sig[:npts2]=sigdc1*(1+(signal_contrast-1)*sq[:npts2])\n",
    "sig[npts2+1:]=sigdc2*(1+(signal_contrast-1)*sq[npts2+1:])\n",
    "sig[npts2]=sigdc2*(1+(signal_contrast-1)*sq[npts2+1])\n",
    "photocurrent_waveform=sig\n",
    "# plt.plot(t,cur)\n",
    "\n",
    "fig,ax1=plt.subplots(sharex=True)\n",
    "ax1.plot(time_basis,photocurrent_waveform,'g',)\n",
    "ax1.set_ylim([0,None])\n",
    "ax1.set_yscale('linear')\n",
    "ax1.set_xscale('linear')\n",
    "ax1.tick_params(axis='y', colors='green')\n",
    "ax1.set_xlabel('t [s]')\n",
    "ax1.set_ylabel('I_pd [A]')"
   ]
  },
  {
   "cell_type": "markdown",
   "metadata": {},
   "source": [
    "Contrast ratio remains the same"
   ]
  },
  {
   "cell_type": "markdown",
   "metadata": {
    "collapsed": false
   },
   "source": [
    "We need to make a function out of our nice I_pd vector so that we can get I_pd at any point in time"
   ]
  },
  {
   "cell_type": "code",
   "execution_count": 32,
   "metadata": {
    "collapsed": false,
    "pycharm": {
     "is_executing": true,
     "name": "#%%\n"
    }
   },
   "outputs": [
    {
     "data": {
      "text/plain": [
       "[<matplotlib.lines.Line2D at 0x1f407f17ee0>]"
      ]
     },
     "execution_count": 32,
     "metadata": {},
     "output_type": "execute_result"
    },
    {
     "data": {
      "image/png": "[encoded data removed]",
      "text/plain": [
       "<Figure size 432x288 with 1 Axes>"
      ]
     },
     "metadata": {},
     "output_type": "display_data"
    }
   ],
   "source": [
    "def find_nearest_idx(array,value):\n",
    "    idx = np.searchsorted(array, value, side=\"right\")\n",
    "    return idx\n",
    "def I_pd_function(time,time_basis,photocurrent_waveform):\n",
    "    idx=find_nearest_idx(time_basis,time)\n",
    "    idx-=1 # go to next point just to left since search finds point just before time\n",
    "    if idx<0: return photocurrent_waveform[0]\n",
    "    if idx>=(len(time_basis)-1): return photocurrent_waveform[-1]\n",
    "    t1=time_basis[idx]\n",
    "    i1=photocurrent_waveform[idx]\n",
    "    idx+=1\n",
    "    t2=time_basis[idx]\n",
    "    i2=photocurrent_waveform[idx]\n",
    "    tfrac=(time-t1)/(t2-t1) if t2-t1>0 else .5\n",
    "    i=(1-tfrac)*i1+tfrac*i2\n",
    "    return i\n",
    "I_pd = lambda t: I_pd_function(t,time_basis,photocurrent_waveform)\n",
    "# test it\n",
    "ttest=np.linspace(0,time_basis[-1],1000)\n",
    "itest=[]\n",
    "for t in ttest: itest.append(I_pd(t))\n",
    "itest=np.array(itest)\n",
    "plt.plot(ttest,itest)\n",
    "\n",
    "\n",
    "\n"
   ]
  },
  {
   "cell_type": "markdown",
   "metadata": {
    "collapsed": false,
    "pycharm": {
     "name": "#%% md\n"
    }
   },
   "source": [
    "### Exercise 1: Static vs. active unity-gain photoreceptors DC responses"
   ]
  },
  {
   "cell_type": "markdown",
   "metadata": {
    "collapsed": false,
    "ein.tags": "worksheet-0",
    "slideshow": {
     "slide_type": "-"
    }
   },
   "source": [
    "First you will plot the theoretical DC responses of SF and TI to input photocurrent.\n",
    "\n",
    "We will compute expressions for the DC response of the simple and unity gain feedback photoreceptor circuits.\n",
    "\n",
    "We compute the SF output for you."
   ]
  },
  {
   "cell_type": "code",
   "execution_count": 33,
   "metadata": {
    "collapsed": false,
    "pycharm": {
     "is_executing": true,
     "name": "#%%\n"
    }
   },
   "outputs": [],
   "source": [
    "\n",
    "i_pd=np.logspace(-19,-6,100) # input photocurrent vector, log scale from well under I_0 and dark current to microamp, which is huge\n",
    "\n",
    "\n",
    "# equation for SF DC output, assuming gate voltage of 1.4V\n",
    "v_g=1.4\n",
    "v_sf= kappa*v_g-U_T*np.log((i_pd+dark_current_amps)/I_0)\n"
   ]
  },
  {
   "cell_type": "markdown",
   "metadata": {
    "collapsed": false
   },
   "source": [
    "**(a)** Computing the TI photoreceptor DC output\n",
    "\n",
    "==check formulas==\n",
    "\n",
    "Let's define a function for the TI photoreceptor DC output. We can use that to plot it, and later on use\n",
    "it to define the initial condition for the TI photoreceptor voltage at the start of transient simulation.\n",
    "\n",
    "Assume for the TI circuit that the gain of the feedback amplifier is infinite and that the amplifier is ideal, i.e. that\n",
    "the input FET never goes out of saturation.\n",
    "\n",
    "You should fill in the expressions for the TI photodiode and output voltages:"
   ]
  },
  {
   "cell_type": "code",
   "execution_count": 34,
   "metadata": {
    "collapsed": false,
    "pycharm": {
     "is_executing": true,
     "name": "#%%\n"
    }
   },
   "outputs": [
    {
     "name": "stdout",
     "output_type": "stream",
     "text": [
      "DC output of TI with bias current I_b=10n and photocurrent I_p=4.44f are vpd=359.78mV vout=352.43mV\n"
     ]
    }
   ],
   "source": [
    "def ti_dc(I_b,I_pd,I_0=I_0,V_e=V_e,U_T=U_T,kappa=kappa,I_dark=dark_current_amps):\n",
    "    \"\"\" Computes the theoretical DC operating point of TI photoreceptor given parameters\n",
    "    :param I_b: bias current, should be scalar\n",
    "    :param I_pd: photocurrent, can be vector\n",
    "    :param V_e: amplfifier input FET Early voltage\n",
    "    :param U_T: thermal voltage\n",
    "    :param kappa: back gate coefficient of all FETs\n",
    "\n",
    "    :returns: [V_pd, V_out] voltages in form suitable for solve_ivp initial condition\n",
    "    \"\"\"\n",
    "    # TODO include effect of finite amplifier gain, not accounted for now\n",
    "    # check that I_b is scalar\n",
    "    if not np.isscalar(I_b):\n",
    "        raise ValueError('I_b should be a scalar')\n",
    "    # TODO compute the photodiode voltage.  It is determined by Ib, right?\n",
    "    V_pd= (U_T/kappa) * np.log(I_b/I_0) #assuming V_b = 1.4 mV      <-------\n",
    "    # we need to handle that I_pd might be scalar or vector\n",
    "    if not np.isscalar(I_pd):\n",
    "        V_pd=np.ones(len(I_pd))*V_pd\n",
    "    # TODO compute the TI output voltage expression\n",
    "    V_out= (V_pd + U_T * np.log(I_pd/I_0))/kappa #assuming V_b = 1.88 mV <-------\n",
    "    return [V_pd, V_out]\n",
    "\n",
    "# check DC output\n",
    "I_b=10e-9 # biais current for amplifier pullup Mp in TI photoreceptor\n",
    "ip=I_pd(0)\n",
    "vti0=ti_dc(I_b,photocurrent_amps)\n",
    "print(f'DC output of TI with bias current I_b={eng(I_b)} '\n",
    "      f'and photocurrent I_p={eng(photocurrent_amps)} '\n",
    "      f'are vpd={eng(vti0[0])}V vout={eng(vti0[1])}V')\n"
   ]
  },
  {
   "cell_type": "markdown",
   "metadata": {
    "collapsed": false,
    "pycharm": {
     "name": "#%% md\n"
    }
   },
   "source": [
    "**(b)** Plot the SF and TI DC output together on a log-linear plot of $V_{out}$ versus\n",
    "$I_{pd}$, covering a range of photocurrents of $I_{pd}$ from 0.01fA to 10nA. Assume $I_0$=1e-13A and that\n",
    "there is dark current of $I_{dark}$=0.1fA."
   ]
  },
  {
   "cell_type": "code",
   "execution_count": 35,
   "metadata": {
    "collapsed": false,
    "pycharm": {
     "is_executing": true,
     "name": "#%%\n"
    }
   },
   "outputs": [
    {
     "data": {
      "text/plain": [
       "Text(0, 0.5, 'Output voltage (V)')"
      ]
     },
     "execution_count": 35,
     "metadata": {},
     "output_type": "execute_result"
    },
    {
     "data": {
      "image/png": "[encoded data removed]",
      "text/plain": [
       "<Figure size 432x288 with 1 Axes>"
      ]
     },
     "metadata": {},
     "output_type": "display_data"
    }
   ],
   "source": [
    "# compute the vector of TI outputs. The function returns a list of 2 vectors, [V_pd,V_out]\n",
    "I_0= 1e-13\n",
    "\n",
    "v_ti=ti_dc(I_b, i_pd,I_dark=1e-16)\n",
    "\n",
    "plt.figure('DC responses')\n",
    "plt.title('DC photoreceptor responses')\n",
    "#plt.semilogx(i_pd,v_sf,'b-')\n",
    "plt.semilogx(i_pd,v_sf,'r-', i_pd,v_ti[1],'b-', i_pd,v_ti[0],'g-') # TODO uncomment line to plot v_ti\n",
    "plt.legend(['source-follower','TI output','TI photodiode'])\n",
    "plt.xlabel('Photocurrent (A)')\n",
    "plt.ylabel('Output voltage (V)')"
   ]
  },
  {
   "cell_type": "markdown",
   "metadata": {
    "collapsed": false,
    "ein.tags": "worksheet-0",
    "pycharm": {
     "name": "#%% md\n"
    },
    "slideshow": {
     "slide_type": "-"
    }
   },
   "source": [
    "### Preparation for large signal transient (time-domain) simulations\n"
   ]
  },
  {
   "cell_type": "markdown",
   "metadata": {
    "collapsed": false,
    "ein.tags": "worksheet-0",
    "slideshow": {
     "slide_type": "-"
    }
   },
   "source": [
    "It seems to make sense. Now we have equations we can use in ODE equation for photoreceptors\n",
    "\n"
   ]
  },
  {
   "cell_type": "markdown",
   "metadata": {
    "collapsed": false,
    "ein.tags": "worksheet-0",
    "slideshow": {
     "slide_type": "-"
    }
   },
   "source": [
    "### Dynamical equations\n",
    "\n",
    "Next we will write the dynamical equations for the source-follower and feedback photoreceptor using the id_sub equation\n",
    "for the currents. We need to write the right hand side equation for\n",
    "```\n",
    "dy / dt = f(t, y)\n",
    "```\n",
    "given initial condition\n",
    "```\n",
    "y(t0) = y0\n",
    "```\n",
    "The source follower only has one node so the output is a scalar derivative.\n",
    "The TI photoreceptor has 2 nodes (the photodiode and output), so the output is a vector of 2 deriatives w.r.t. time."
   ]
  },
  {
   "cell_type": "markdown",
   "metadata": {},
   "source": [
    "For the source follower we have:\n",
    "\n",
    "$$\n",
    "c \\frac{dVout}{dt} = I_0 e^{\\frac{\\kappa Vg- Vout}{U_T}}-I(t)\n",
    "$$\n",
    "\n",
    "For the feedback photoreceptor, we have:\n",
    "\n",
    "$$\n",
    "\\begin{cases}\n",
    "     & C1 \\frac{dVpd}{dt} = I_0 e^{\\frac{\\kappa Vout-Vpd}{U_T}}-I(t)\\\\\n",
    "     & C2 \\frac{dVout}{dt} = I_b-I_0 e^{\\frac{\\kappa Vpd}{U_T}}-\\frac{Ib}{V_e}V_{out}\\\\\n",
    "\\end{cases}  \n",
    "$$"
   ]
  },
  {
   "cell_type": "markdown",
   "metadata": {
    "collapsed": false,
    "ein.tags": "worksheet-0",
    "slideshow": {
     "slide_type": "-"
    }
   },
   "source": [
    "### Exercise 2: Large signal transient response of source follower and active photoreceptors\n",
    "\n",
    "As an example, below we define the RHS for the SF. The time derivative of the output voltage is the current\n",
    "divided by the node capacitance:"
   ]
  },
  {
   "cell_type": "code",
   "execution_count": 36,
   "metadata": {
    "autoscroll": false,
    "collapsed": false,
    "ein.hycell": false,
    "ein.tags": "worksheet-0",
    "pycharm": {
     "is_executing": true,
     "name": "#%%%\n"
    },
    "slideshow": {
     "slide_type": "-"
    }
   },
   "outputs": [],
   "source": [
    "def sfdvdt(t,y,V_g=1.4,C_pd=100e-15): # fill in reasonable photodiode capacitance, e.g. 100fF\n",
    "    vdot=  (id_sub(V_g=V_g, V_s=y)-I_pd(t))/C_pd\n",
    "    return vdot"
   ]
  },
  {
   "cell_type": "markdown",
   "metadata": {
    "collapsed": false,
    "ein.tags": "worksheet-0",
    "slideshow": {
     "slide_type": "-"
    }
   },
   "source": [
    "### Exercise 2.1: define RHS of ODE for TI receptor\n",
    "\n",
    "Now you should do the same thing, but for the vector of TI node voltages [vpd,vout] for the vpd input (photodiode)\n",
    "and vout output nodes:"
   ]
  },
  {
   "cell_type": "code",
   "execution_count": 37,
   "metadata": {
    "autoscroll": false,
    "collapsed": false,
    "ein.hycell": false,
    "ein.tags": "worksheet-0",
    "pycharm": {
     "is_executing": true,
     "name": "#%%\n"
    },
    "slideshow": {
     "slide_type": "-"
    }
   },
   "outputs": [],
   "source": [
    "def tidvdtpd(t, y, Ib, I_pd, V_e=V_e, C_pd=100e-15, C_out=1e-15):\n",
    "    \"\"\" Compute time derivatives of TI photoreceptor node voltages\n",
    "\n",
    "    :param t: the time in s\n",
    "    :param y: the TI PD and output voltages vector [vpd,vout]\n",
    "    :param V_e: the amplifier input n-fet Early voltage in V\n",
    "    :param C_pd: the photodiode cap in Culombs\n",
    "    :param C_out: the output capacitance\n",
    "\n",
    "    :returns: the vector of photodiode/output voltage time derivatives\n",
    "    \"\"\"\n",
    "    vpd = y[0]\n",
    "    vout = y[1]\n",
    "    # you fill in next parts from equations for TI photoreceptor.\n",
    "\n",
    "    # TODO\n",
    "    vpd_dot = (id_sub(V_g=vpd, V_s=vout)-I_pd(t))/C_pd\n",
    "    #vout_dot = (Ib-id_sub(V_g=vpd, V_s=0)-(I_b/V_e)*vout)/C_out\n",
    "    yout = [vpd_dot]\n",
    "    return yout\n",
    "\n",
    "def tidvdtout(t, y, Ib, I_pd, V_e=V_e, C_pd=100e-15, C_out=1e-15):\n",
    "    \"\"\" Compute time derivatives of TI photoreceptor node voltages\n",
    "\n",
    "    :param t: the time in s\n",
    "    :param y: the TI PD and output voltages vector [vpd,vout]\n",
    "    :param V_e: the amplifier input n-fet Early voltage in V\n",
    "    :param C_pd: the photodiode cap in Culombs\n",
    "    :param C_out: the output capacitance\n",
    "\n",
    "    :returns: the vector of photodiode/output voltage time derivatives\n",
    "    \"\"\"\n",
    "    vpd = y[0]\n",
    "    vout = y[1]\n",
    "    # you fill in next parts from equations for TI photoreceptor.\n",
    "\n",
    "    # TODO\n",
    "    #vpd_dot = (id_sub(V_g=vpd, V_s=vout)-I_pd(t))/C_pd\n",
    "    vout_dot = (Ib-id_sub(V_g=vpd)-(I_b/V_e)*vout)/C_out\n",
    "    yout = [vout_dot]\n",
    "    return yout"
   ]
  },
  {
   "cell_type": "markdown",
   "metadata": {
    "collapsed": false,
    "ein.tags": "worksheet-0",
    "slideshow": {
     "slide_type": "-"
    }
   },
   "source": [
    "### Exercise 2.2: Timestepping transient simulation of photoreceptors\n",
    "\n",
    "Below we have done it for the SF photoreceptor.\n",
    "You should add the TI photoreceptor to the simulation so you can compare them to each other.\n",
    "YOu may find issues with the simulator not responding to some of the edges in\n",
    "the photocurrent. If this is the case, you can try to decrease tolerance (rtol\n",
    "and atol), and also try different methods. Check solve_ivp() documentation for the\n",
    "different options."
   ]
  },
  {
   "cell_type": "code",
   "execution_count": 38,
   "metadata": {
    "autoscroll": false,
    "collapsed": false,
    "ein.hycell": false,
    "ein.tags": "worksheet-0",
    "pycharm": {
     "is_executing": true,
     "name": "#%% solve for SF transient response, then for TI transient response, both driven by precomputed I_pd waveform\n"
    },
    "slideshow": {
     "slide_type": "-"
    }
   },
   "outputs": [
    {
     "name": "stdout",
     "output_type": "stream",
     "text": [
      "The solver successfully reached the end of the integration interval.\n",
      "DC output of TI with I_b=10n and I_pd=22.22f are vpd=359.78m vout=402.72m\n",
      "[0.35977892078031964, 0.402721232326141]\n",
      "The solver successfully reached the end of the integration interval.\n",
      "[0.0000000e+00 2.2500000e-04 4.5000000e-04 ... 4.4999325e+01 4.4999550e+01\n",
      " 4.4999775e+01]\n"
     ]
    },
    {
     "data": {
      "image/png": "[encoded data removed]",
      "text/plain": [
       "<Figure size 864x576 with 4 Axes>"
      ]
     },
     "metadata": {},
     "output_type": "display_data"
    }
   ],
   "source": [
    "import matplotlib.pyplot as plt # plotting\n",
    "import numpy as np # for math\n",
    "from scipy.integrate import solve_ivp # for timestepping ODEs\n",
    "\n",
    "V_sf0= [1.1]# initial condition of v, just guess it to be approx Vg-a bit, e.g. 1.4-.3\n",
    "sf_sol=solve_ivp(sfdvdt, (time_basis[0],time_basis[-1]),V_sf0, t_eval=time_basis,\n",
    "                 rtol=1e-10,atol=1e-20, method='LSODA',\n",
    "                 #rtol=1e-9,atol=1e-20, method='Radau',\n",
    "                 args=(1.4,C_pd))\n",
    "# output is sol.t and sol.y\n",
    "if sf_sol.message is not None:\n",
    "    print(sf_sol.message)\n",
    "v_sf=sf_sol.y[0]\n",
    "t_sf=sf_sol.t\n",
    "\n",
    "\n",
    "# TODO you can solve the TI by filling in below\n",
    "# check DC output\n",
    "ib=I_b\n",
    "ip=I_pd(0)\n",
    "V_ti0=ti_dc(I_b,ip)\n",
    "print(f'DC output of TI with I_b={eng(I_b)} and I_pd={eng(ip)} are vpd={eng(V_ti0[0])} vout={eng(V_ti0[1])}')\n",
    "print(V_ti0)\n",
    "C_out=1e-15\n",
    "ti_sol1=solve_ivp(tidvdtpd, (time_basis[0],time_basis[-1]),V_ti0, t_eval=time_basis,\n",
    "                rtol=1e-8, atol=1e-21, method='Radau',\n",
    "                 #rtol=1e-9, atol=1e-19, method='RK45',\n",
    "                 args=(I_b,I_pd,V_e,C_pd,C_out))\n",
    "ti_sol2=solve_ivp(tidvdtout, (time_basis[0],time_basis[-1]),V_ti0, t_eval=time_basis,\n",
    "                rtol=1e-5, atol=1e-10, method='Radau',\n",
    "                 #rtol=1e-9, atol=1e-19, method='RK45',\n",
    "                 args=(I_b,I_pd,V_e,C_pd,C_out))\n",
    "### output is sol.t and sol.y\n",
    "if ti_sol1.message is not None:\n",
    "    print(ti_sol1.message)\n",
    "v_ti=ti_sol2.y[0]\n",
    "t_ti=ti_sol2.t\n",
    "v_pd=ti_sol1.y[0]\n",
    "t_pd=ti_sol1.t\n",
    "\n",
    "# use this plotting style to put several plots sharing same x-axis\n",
    "# we will plot V_sf together with the input photocurrent\n",
    "# using another axis since it is volts, not current, and linear not log\n",
    "fig=plt.figure(figsize=(12,8))\n",
    "ax1 = plt.subplot(121)\n",
    "ax2 = plt.subplot(122, sharex = ax1)\n",
    "\n",
    "ax1.plot(time_basis,photocurrent_waveform,'g')\n",
    "ax1.set_yscale('log')\n",
    "ax1.set_xscale('linear')\n",
    "ax1.tick_params(axis='y', colors='green')\n",
    "ax1.set_xlabel('t [s]')\n",
    "ax1.set_ylabel('I_pd [A]')\n",
    "ax1.title.set_text('Source Follower Photoreceptor')\n",
    "ax2.title.set_text('Transimpendance Photoreceptor')\n",
    "\n",
    "ax3=ax1.twinx()\n",
    "ax3.plot(t_sf,v_sf,'r-')\n",
    "ax3.tick_params(axis='y', colors='red')\n",
    "ax1.legend(['Input current'], loc='upper left')\n",
    "ax3.legend(['Vout'], loc='upper right')\n",
    "\n",
    "ax2.set_yscale('log')\n",
    "ax2.set_xlabel('t [s]')\n",
    "\n",
    "ax2.tick_params(axis='y', colors='green')\n",
    "ax2.set_xscale('linear')\n",
    "\n",
    "\n",
    "ax2.plot(time_basis,photocurrent_waveform,'g',)\n",
    "ax2.legend(['Input current'], loc='upper left')\n",
    "\n",
    "# TODO: Uncomment for TI photoreceptor\n",
    "ax4=ax2.twinx()\n",
    "ax4.set_ylabel('Voltage [V]')\n",
    "#ax4.set_ylim([0.4,0.8])\n",
    "ax4.plot(t_ti, v_ti,'b-',t_pd,v_pd,'m-')\n",
    "ax4.tick_params(axis='y', colors='blue')\n",
    "ax4.legend(['Vout', 'Vpd'], loc='upper right')\n",
    "print(t_ti)\n"
   ]
  },
  {
   "cell_type": "markdown",
   "metadata": {
    "collapsed": false,
    "ein.tags": "worksheet-0",
    "slideshow": {
     "slide_type": "-"
    }
   },
   "source": [
    "Note that in above transient solution, you might get a startup glitch particularly\n",
    "for the TI photoreceptor because your TI DC solution\n",
    "at the starting time is not quite correct. It means that the V_pd and V_out and not consistent,\n",
    "and so the circuit will go through a short period of adjustment to come to the steady-state level.\n",
    "\n",
    "### Exercise 3: Small signal modeling\n",
    "\n",
    "You already did the most difficult part which is the large signal modeling. Now we will fix\n",
    "the operating point around some DC level and compute the small signal transfer functions.\n",
    "From these we can see the cutoff frequencies and stability.\n",
    "\n",
    "### Exercise 3.1: AC transfer functions (Bode plots) of static vs. active photorecptors\n",
    "\n",
    "**(a)**  Write the small-signal differential equations for the simple photoreceptor and the unity-gain feedback photoreceptor assuming\n",
    "photodiode capacitance $C_{pd}$ and (for the feedback photoreceptor) output load capacitance $C_{out}$.\n",
    "For the feedback photoreceptor, you can assume that that amplifier has a output resistance $g_{out}$=$I_b$/$V_e$\n",
    "(recall that the DC voltage gain is A=-$g_m$/$g_{out}$)."
   ]
  },
  {
   "cell_type": "markdown",
   "metadata": {},
   "source": [
    "![](2022-12-05-17-12-02.png)"
   ]
  },
  {
   "cell_type": "markdown",
   "metadata": {},
   "source": [
    "**Simple photoreceptor**\n",
    "$$\n",
    "C_{pd}\\dot{V_{out}} = g_{M1}V_g-g_{pd}V_{pd}-i  \n",
    "$$\n",
    "\n",
    "\n",
    "**Unity gain feedback**\n",
    "For the left branch of the circuit we have:\n",
    "$$\n",
    "g_{m1} V_{2} = g_{s1}V_1 + C_{pd} \\dot{V1} + i \\\\\n",
    "C_{pd} \\dot{V1} = g_{m1} V_{2} - g_{s1}V_1 - i\n",
    "$$\n"
   ]
  },
  {
   "cell_type": "markdown",
   "metadata": {},
   "source": [
    "![](2022-12-05-17-43-35.png)"
   ]
  },
  {
   "cell_type": "markdown",
   "metadata": {},
   "source": [
    "For the right branch we have (M2 is modelled by $g_{m2}V_1$):"
   ]
  },
  {
   "cell_type": "markdown",
   "metadata": {},
   "source": [
    "![](2022-12-05-17-41-58.png)"
   ]
  },
  {
   "cell_type": "markdown",
   "metadata": {},
   "source": [
    "![](2022-12-05-17-42-47.png)"
   ]
  },
  {
   "cell_type": "markdown",
   "metadata": {},
   "source": [
    "And we then get the following system of equations:"
   ]
  },
  {
   "cell_type": "markdown",
   "metadata": {},
   "source": [
    "![](2022-12-05-17-45-12.png)"
   ]
  },
  {
   "cell_type": "markdown",
   "metadata": {
    "collapsed": false,
    "ein.tags": "worksheet-0",
    "slideshow": {
     "slide_type": "-"
    }
   },
   "source": [
    "**(b)** From the differential equations, derive the transfer functions $H(s)$ for each circuit.\n",
    "\n",
    "Your equations should end up with time constants $\\tau_{in}$ (for the photodiode node) and $\\tau_{out}$\n",
    "for the feedback photoreceptor.\n",
    "\n",
    "For this derivation, the input to the circuit is the small-signal photocurrent $i_{pd}$ which is its deviation from\n",
    "the DC value $I_{pd}$. The output is the small signal output voltage $v_{out}$.\n",
    "But since the circuit is a log photoreceptor, a better way to express the transfer function\n",
    "is to write it as output voltage per log input current. Thus $H(s)$ will be the transimpedance\n",
    "'gain' that transduces from $i_{pd}/I_{pd}$ to $v_{out}$, i.e.\n",
    "the units of H(s) are volts/(fractional change in current)."
   ]
  },
  {
   "cell_type": "markdown",
   "metadata": {},
   "source": [
    "$$\n",
    "H(s) = \\frac{\\frac{U_T}{\\kappa I_{bg}}}{\\frac{\\tau_{in} \\tau_{out} s^2}{A \\kappa} + \\frac{s(\\tau_{in} + \\tau_{out})}{A \\kappa} + 1}\n",
    "$$"
   ]
  },
  {
   "cell_type": "markdown",
   "metadata": {
    "collapsed": false,
    "ein.tags": "worksheet-0",
    "slideshow": {
     "slide_type": "-"
    }
   },
   "source": [
    "**(c)** The TI feedback should make the TI photoreceptor\n",
    "faster to respond to changes in photocurrent than the SF photoreceptor\n",
    "(and also noisier).\n",
    "\n",
    "By setting $\\tau_{out}$ to zero (taking the limit as $\\tau_{out}$ goes to zero), compute the expected speedup from the feedback.\n",
    "I.e., what is the ratio of cutoff frequency of TI to SF circuit when $I_b$ is really large?\n",
    "You will see if it true (at least in the model) in the Bode magnitude transfer function plots.\n"
   ]
  },
  {
   "cell_type": "markdown",
   "metadata": {},
   "source": [
    "If we take the denominator of the transfer function and take the linit at $\\tau_{out}$ goes to zero, we get:\n",
    "\n",
    "$$\n",
    "\\lim_{\\tau_{out} \\to 0}D(s) = \\frac{s\\tau_{in} }{A \\kappa} + 1\n",
    "$$\n",
    "\n",
    "\n",
    "If we compute the poles we get:\n",
    "\n",
    "$$\n",
    "s = -\\frac{\\kappa A}{\\tau_{in}}\n",
    "$$"
   ]
  },
  {
   "cell_type": "markdown",
   "metadata": {
    "collapsed": false,
    "ein.tags": "worksheet-0",
    "pycharm": {
     "name": "#%% md\n"
    },
    "slideshow": {
     "slide_type": "-"
    }
   },
   "source": [
    "**(d)**  Plot the magnitude of the transfer functions versus frequency, assuming reasonable values for $\\tau_{in}$, $\\tau_{out}$, etc\n",
    "and an intermediate DC value of photocurrent, e.g. $I_{pd}$=1pA.  You can assume that the bias current of the amplifier\n",
    "for the feedback photoreceptor is $I_b$=10nA and $V_e$=10V.\n",
    "\n",
    "Remember that frequency in radians per second is $w$=$2 \\pi f$ where $f$ is frequency in Hertz.\n",
    "\n",
    "You can use numpy to compute the magnitude of the complex transfer function by using $s$=$jw$ where $j$ is $\\sqrt{-1}$.\n",
    "\n",
    "Assume the DC photocurrent is still photocurrent_amps from above.\n"
   ]
  },
  {
   "cell_type": "code",
   "execution_count": 16,
   "metadata": {
    "autoscroll": false,
    "collapsed": false,
    "ein.hycell": false,
    "ein.tags": "worksheet-0",
    "pycharm": {
     "is_executing": true,
     "name": "#%%\n"
    },
    "slideshow": {
     "slide_type": "-"
    }
   },
   "outputs": [
    {
     "name": "stdout",
     "output_type": "stream",
     "text": [
      "source follower photodiode capacitance C_pd=100fF and tau_sf=550.12ms\n",
      "SF cutoff frequency: 289.31mHz\n"
     ]
    },
    {
     "ename": "TypeError",
     "evalue": "unsupported operand type(s) for *: 'float' and 'ellipsis'",
     "output_type": "error",
     "traceback": [
      "\u001b[1;31m---------------------------------------------------------------------------\u001b[0m",
      "\u001b[1;31mTypeError\u001b[0m                                 Traceback (most recent call last)",
      "\u001b[1;32mc:\\Users\\quill\\Documents\\UZH-1\\Neuromorphic engineering\\NE1\\TP10\\2021_Photo_GroupNumber_FirstName_LastName.ipynb Cell 48\u001b[0m in \u001b[0;36m<cell line: 21>\u001b[1;34m()\u001b[0m\n\u001b[0;32m     <a href='vscode-notebook-cell:/c%3A/Users/quill/Documents/UZH-1/Neuromorphic%20engineering/NE1/TP10/2021_Photo_GroupNumber_FirstName_LastName.ipynb#X65sZmlsZQ%3D%3D?line=17'>18</a>\u001b[0m A\u001b[39m=\u001b[39m\u001b[39m.\u001b[39m\u001b[39m.\u001b[39m\u001b[39m.\u001b[39m\n\u001b[0;32m     <a href='vscode-notebook-cell:/c%3A/Users/quill/Documents/UZH-1/Neuromorphic%20engineering/NE1/TP10/2021_Photo_GroupNumber_FirstName_LastName.ipynb#X65sZmlsZQ%3D%3D?line=18'>19</a>\u001b[0m H_ti\u001b[39m=\u001b[39m\u001b[39m.\u001b[39m\u001b[39m.\u001b[39m\u001b[39m.\u001b[39m\n\u001b[1;32m---> <a href='vscode-notebook-cell:/c%3A/Users/quill/Documents/UZH-1/Neuromorphic%20engineering/NE1/TP10/2021_Photo_GroupNumber_FirstName_LastName.ipynb#X65sZmlsZQ%3D%3D?line=20'>21</a>\u001b[0m ti_cutoff_hz\u001b[39m=\u001b[39msf_cutoff_hz\u001b[39m*\u001b[39m(kappa\u001b[39m*\u001b[39;49mA\u001b[39m+\u001b[39m\u001b[39m1\u001b[39m)\n\u001b[0;32m     <a href='vscode-notebook-cell:/c%3A/Users/quill/Documents/UZH-1/Neuromorphic%20engineering/NE1/TP10/2021_Photo_GroupNumber_FirstName_LastName.ipynb#X65sZmlsZQ%3D%3D?line=22'>23</a>\u001b[0m \u001b[39mprint\u001b[39m(\u001b[39mf\u001b[39m\u001b[39m'\u001b[39m\u001b[39mtransimpedance TI cutoff frequency: \u001b[39m\u001b[39m{\u001b[39;00meng(ti_cutoff_hz)\u001b[39m}\u001b[39;00m\u001b[39mHz\u001b[39m\u001b[39m'\u001b[39m)\n\u001b[0;32m     <a href='vscode-notebook-cell:/c%3A/Users/quill/Documents/UZH-1/Neuromorphic%20engineering/NE1/TP10/2021_Photo_GroupNumber_FirstName_LastName.ipynb#X65sZmlsZQ%3D%3D?line=25'>26</a>\u001b[0m fig,ax1\u001b[39m=\u001b[39mplt\u001b[39m.\u001b[39msubplots(sharex\u001b[39m=\u001b[39m\u001b[39mTrue\u001b[39;00m)\n",
      "\u001b[1;31mTypeError\u001b[0m: unsupported operand type(s) for *: 'float' and 'ellipsis'"
     ]
    }
   ],
   "source": [
    "import matplotlib.pyplot as plt # plotting\n",
    "import numpy as np # for math\n",
    "\n",
    "Ipd_dim=photocurrent_total_amps\n",
    "\n",
    "freq = np.logspace(-2,6,100) # plot from 1kHz to 1GHz\n",
    "w=2*np.pi*freq\n",
    "tau_sf = C_pd*U_T/Ipd_dim # tau_sf = C_pd/gs_sf\n",
    "H_sf = U_T/(np.sqrt(np.square(w*tau_sf)+1))\n",
    "sf_cutoff_hz=1/(2*np.pi*tau_sf)\n",
    "\n",
    "print(f'source follower photodiode capacitance C_pd={eng(C_pd)}F and tau_sf={eng(tau_sf)}s\\n'\n",
    "      f'SF cutoff frequency: {eng(sf_cutoff_hz)}Hz')\n",
    "\n",
    "# TODO TI photoreceptor\n",
    "tau_in=...\n",
    "tau_out=...\n",
    "A=...\n",
    "H_ti=...\n",
    "\n",
    "ti_cutoff_hz=sf_cutoff_hz*(kappa*A+1)\n",
    "\n",
    "print(f'transimpedance TI cutoff frequency: {eng(ti_cutoff_hz)}Hz')\n",
    "\n",
    "\n",
    "fig,ax1=plt.subplots(sharex=True)\n",
    "#ax1.plot(freq,H_sf,'b')\n",
    "ax1.plot(freq,H_sf,'b',freq,H_ti,'r')\n",
    "# ax1.plot(sf_cutoff_hz,'o')\n",
    "#ax1.set_ylim([0,None])\n",
    "ax1.set_yscale('log')\n",
    "ax1.set_xscale('log')\n",
    "#ax1.tick_params(axis='y', colors='green')\n",
    "ax1.set_xlabel('f [Hz]')\n",
    "ax1.set_ylabel('|H(s)| [V/(A/A)]')\n",
    "ax1.grid()\n",
    "\n",
    "\n",
    "\n"
   ]
  },
  {
   "cell_type": "markdown",
   "metadata": {
    "collapsed": false,
    "ein.tags": "worksheet-0",
    "slideshow": {
     "slide_type": "-"
    }
   },
   "source": [
    "**(c)**  Comment on your results. Can you see the effect of feedback on the bandwidth in the TI circuit? Can you observe\n",
    "some ringing? I.e. is the circuit overdamped or underdamped at this $I_b$ and $I_{pd}$?"
   ]
  },
  {
   "cell_type": "markdown",
   "metadata": {
    "collapsed": false,
    "ein.tags": "worksheet-0",
    "pycharm": {
     "name": "#%% md\n"
    },
    "slideshow": {
     "slide_type": "-"
    }
   },
   "source": []
  },
  {
   "cell_type": "markdown",
   "metadata": {
    "collapsed": false,
    "ein.tags": "worksheet-0",
    "slideshow": {
     "slide_type": "-"
    }
   },
   "source": [
    "### Exercise 4: Root-locus plot of TI photoreceptor\n",
    "\n",
    "As the photocurrent increases, it should be clear that the single pole of the SF photoreceptor moves farther away\n",
    "from the origin, as it speeds up.\n",
    "\n",
    "Here you will compute the poles of the TI photoreceptor transfer function and then plot their locations\n",
    "on the complex plane as a function of the amplfier bias current  $I_b$, given a fixed photocurrent $I_{pd}$.\n",
    "\n",
    "The two poles of the quadratic demoninator $D(s)$ of $H(s)$ will either both be real or form a complex conjugate pair\n",
    "(since all the coefficients of the polynominal are real).\n"
   ]
  },
  {
   "cell_type": "markdown",
   "metadata": {
    "collapsed": false
   },
   "source": [
    "**(a)** First let's define a function to get the poles and the Q factor given the\n",
    "circuit parameters. Remember that a second order system (with no zeros) can be described by a\n",
    "transfer function of the type\n",
    "$H(s)=\\frac{A}{\\frac{1}{\\omega_0^2}s^2+\\frac{1}{Q\\omega_0}s+1}$, where\n",
    "$\\omega_0$ (natural frequency) and $Q$ (quality factor) are characteristics of the system."
   ]
  },
  {
   "cell_type": "code",
   "execution_count": null,
   "metadata": {
    "collapsed": false,
    "pycharm": {
     "is_executing": true,
     "name": "#%%\n"
    }
   },
   "outputs": [],
   "source": [
    "def get_poles(Ipd,Ib,C_pd,C_out,V_e,U_T=U_T,kappa=kappa):\n",
    "    # TODO:\n",
    "    tau_in=...\n",
    "    tau_out=...\n",
    "    coef2=...\n",
    "    coef1=...\n",
    "    coef0=...\n",
    "    Q=...\n",
    "\n",
    "    # apply quadratic formula to find roots of the transfer function denominator\n",
    "    # 0j in sqrt forces result to be complex\n",
    "    pole1=(-coef1+np.sqrt(0j+coef1*coef1-4*coef0*coef2))/(2*coef2)\n",
    "    pole2=(-coef1-np.sqrt(0j+coef1*coef1-4*coef0*coef2))/(2*coef2)\n",
    "    return [pole1,pole2,Q]"
   ]
  },
  {
   "cell_type": "markdown",
   "metadata": {
    "collapsed": false
   },
   "source": [
    "**(b)** Now let's plot the root locus. The resulting plot is a trajectory in the\n",
    "complex plane as a function of $I_b$"
   ]
  },
  {
   "cell_type": "code",
   "execution_count": null,
   "metadata": {
    "collapsed": false,
    "pycharm": {
     "is_executing": true,
     "name": "#%%\n"
    }
   },
   "outputs": [],
   "source": [
    "import matplotlib.pyplot as plt # plotting\n",
    "import numpy as np # for math\n",
    "\n",
    "Ib_sweep = np.logspace(-15,-6,10000) # define range of Ib, adjust it to show the loop\n",
    "Ipd_bright = 100e-12 # Photocurrent of 100pA\n",
    "\n",
    "pole1,pole2,Q=get_poles(Ipd=Ipd_bright,Ib=Ib_sweep,C_pd=C_pd,C_out=C_out,V_e=V_e)\n",
    "\n",
    "# plot\n",
    "fig,ax1=plt.subplots(sharex=True)\n",
    "ax1.plot(np.real(pole1),np.imag(pole1),'b')\n",
    "ax1.plot(np.real(pole2),np.imag(pole2),'r')\n",
    "ax1.set_xlabel('Real')\n",
    "ax1.set_ylabel('Imag')\n",
    "ax1.legend(['pole1','pole2'])\n"
   ]
  },
  {
   "cell_type": "markdown",
   "metadata": {
    "collapsed": false
   },
   "source": [
    "As you should be able to see in the root locus plot, for some values of\n",
    "$I_b$ both poles lie in the real axis, but by decreasing $I_b$, the poles become\n",
    "complex cojugates.\n",
    "\n",
    "Let's now see the impact of pole location on the transient\n",
    "behavior of the circuit.\n"
   ]
  },
  {
   "cell_type": "markdown",
   "metadata": {
    "collapsed": false
   },
   "source": [
    "**(c)** First, for a particular photocurrent (which of course is not true in practice, it varies tremendously),\n",
    "find the minimum value of $I_b$ that results in a critically damped\n",
    "circuit. In the exactly critically-damped condition, Q equals 0.5, and the transient response should\n",
    "show no ringing since it consists of 2 low pass filters in series with equal time constants.\n",
    "This bias current is also the minimum value of $I_b$ that results in real\n",
    "valued poles at that photocurrent.\n",
    "\n",
    "For the photocurrent, you can use the DC photocurrent under the illumination condition at the start\n",
    "of the waveform, which is called Ipd_bright."
   ]
  },
  {
   "cell_type": "code",
   "execution_count": null,
   "metadata": {
    "collapsed": false,
    "pycharm": {
     "is_executing": true,
     "name": "#%%\n"
    }
   },
   "outputs": [],
   "source": [
    "# plot root locus again\n",
    "fig,ax1=plt.subplots(sharex=True)\n",
    "ax1.plot(np.real(pole1),np.imag(pole1),'b')\n",
    "ax1.plot(np.real(pole2),np.imag(pole2),'r')\n",
    "ax1.set_xlabel('Real (rad/s)')\n",
    "ax1.set_ylabel('Imag (rad/s)')\n",
    "ax1.legend(['pole1','pole2'])\n",
    "\n",
    "#TODO fill expression Ib that results in a Q of 0.5\n",
    "Ib_Qhalf=...\n",
    "pole1_Qhalf,pole2_Qhalf,Q_Qhalf=get_poles(Ipd=Ipd_bright,Ib=Ib_Qhalf,C_pd=C_pd,C_out=C_out,V_e=V_e)\n",
    "ax1.plot(np.real(pole1_Qhalf),np.imag(pole1_Qhalf),'bo')\n",
    "ax1.plot(np.real(pole2_Qhalf),np.imag(pole2_Qhalf),'ro')\n",
    "ax1.legend(['pole1','pole2','Q=1/2','Q=1/2'])\n",
    "\n",
    "print(f\"Q: {Q_Qhalf}\")\n",
    "print(f\"Ib_Qhalf: {Ib_Qhalf}A\")\n"
   ]
  },
  {
   "cell_type": "markdown",
   "metadata": {
    "collapsed": false
   },
   "source": [
    "Note that you might have made some small approximations that result in the $Q=1/2$ poles not quite\n",
    "coming together on the real axis.\n",
    "\n",
    "I.e. in the transfer function $H(s)$, maybe you dropped a constant term?\n",
    "\n",
    "Or maybe to find the $Q=1/2$ condition, you simplified by assuming $\\tau_2<<\\tau_1$?\n",
    "\n",
    "**(d)** Let's now look at the transient response of a TI photoreceptor operating\n",
    "under such conditions. First let's define a small signal transient input photocurrent"
   ]
  },
  {
   "cell_type": "code",
   "execution_count": null,
   "metadata": {
    "collapsed": false,
    "pycharm": {
     "is_executing": true,
     "name": "#%% make a step function to test transient response, give it a long warmup to settle to DC before step\n"
    }
   },
   "outputs": [],
   "source": [
    "sigdc_ss=Ipd_bright\n",
    "#sigdc=1e-15\n",
    "signal_contrast_ss=1.1 # contrast in each half, i.e. cont=10 means that the bright part will be 10 times the dark half period, 2 means 2 times\n",
    "tau_ss=C_pd*U_T/sigdc_ss\n",
    "t_warmup=tau_ss*30\n",
    "t_total=t_warmup+tau_ss*20\n",
    "Ipd_warmup=Ipd_bright\n",
    "Ipd_final=Ipd_bright/signal_contrast_ss\n",
    "\n",
    "def Ipd_step_func(t,I_t0=Ipd_warmup, I_t1=Ipd_final, t_warmup=t_warmup):\n",
    "    if t<t_warmup:\n",
    "        return I_t0\n",
    "    else:\n",
    "        return I_t1\n",
    "\n",
    "dt_ss=tau_ss/1000\n",
    "time_basis_ss=np.arange(0,t_total,dt_ss) # start,stop,step generate time basis that is nper long\n",
    "npts_ss=len(time_basis_ss)\n",
    "\n",
    "# compute actual Ipd for timesteps\n",
    "Ipd_ss=np.empty(npts_ss)\n",
    "for t,i in zip(time_basis_ss,range(npts_ss)):\n",
    "    Ipd_ss[i]=Ipd_step_func(t)\n",
    "fig,ax1=plt.subplots(sharex=True)\n",
    "ax1.plot(time_basis_ss,Ipd_ss,'g',)\n",
    "#ax1.set_ylim([0,None])\n",
    "ax1.set_yscale('linear')\n",
    "ax1.set_xscale('linear')\n",
    "ax1.tick_params(axis='y', colors='green')\n",
    "ax1.set_xlabel('t [s]')\n",
    "ax1.set_ylabel('I_pd [A]')\n"
   ]
  },
  {
   "cell_type": "markdown",
   "metadata": {
    "collapsed": false,
    "pycharm": {
     "name": "#%% md\n"
    }
   },
   "source": [
    "**(e)** Observe the transient response of the photoreceptor under such\n",
    "conditions. Does it behave as expected? Try also other values of Q, both above\n",
    "and below 0.5. Plot them in the root locus and observe the transient\n",
    "response. When is the system overdamped and when is it underdamped? Observe how\n",
    "the root locus trajectory changes with $I_b$."
   ]
  },
  {
   "cell_type": "code",
   "execution_count": null,
   "metadata": {
    "collapsed": false,
    "pycharm": {
     "is_executing": true,
     "name": "#%%\n"
    }
   },
   "outputs": [],
   "source": [
    "# initial condition\n",
    "V_ti0=ti_dc(Ib_Qhalf,Ipd_bright,I_0=I_0,V_e=V_e,U_T=U_T,kappa=kappa)\n",
    "print(f'DC output of TI with Ib={eng(Ib_Qhalf)} and Ip={eng(Ipd_bright)} are vpd={eng(V_ti0[0])} vout={eng(V_ti0[1])}')\n",
    "ti_sol=solve_ivp(tidvdt, (time_basis_ss[0],time_basis_ss[-1]),\n",
    "                 V_ti0, t_eval=time_basis_ss, rtol=1e-9, atol=1e-19, method='Radau',\n",
    "                 args=(Ib_Qhalf,Ipd_step_func,V_e,C_pd,C_out))\n",
    "# output is sol.t and sol.y\n",
    "if ti_sol.message is not None:\n",
    "    print(ti_sol.message)\n",
    "v_ti_Qhalf=ti_sol.y[1]\n",
    "t_ti_Qhalf=ti_sol.t\n",
    "v_pd_Qhalf=ti_sol.y[0]\n",
    "t_pd_Qhalf=ti_sol.t\n",
    "\n",
    "ib_factor=2 # how much larger and smaller to try seeing how sensitive is the Q=1/2 condition\n",
    "\n",
    "# now solve for a bit larger Ib\n",
    "ib=Ib_Qhalf*ib_factor\n",
    "V_ti0=ti_dc(ib,Ipd_bright,I_0=I_0,V_e=V_e,U_T=U_T,kappa=kappa)\n",
    "print(f'DC output of TI with Ib={eng(ib)} and Ip={eng(Ipd_bright)} are vpd={eng(V_ti0[0])} vout={eng(V_ti0[1])}')\n",
    "\n",
    "ti_sol=solve_ivp(tidvdt, (time_basis_ss[0],time_basis_ss[-1]),\n",
    "                 V_ti0, t_eval=time_basis_ss, rtol=1e-9, atol=1e-19, method='Radau',\n",
    "                 args=(ib,Ipd_step_func,V_e,C_pd,C_out))\n",
    "# output is sol.t and sol.y\n",
    "if ti_sol.message is not None:\n",
    "    print(ti_sol.message)\n",
    "v_ti_Qhalf1=ti_sol.y[1]\n",
    "t_ti_Qhalf1=ti_sol.t\n",
    "v_pd_Qhalf1=ti_sol.y[0]\n",
    "t_pd_Qhalf1=ti_sol.t\n",
    "\n",
    "# and solve for a bit smaller Ib\n",
    "ib=Ib_Qhalf/ib_factor\n",
    "V_ti0=ti_dc(ib,Ipd_bright,I_0=I_0,V_e=V_e,U_T=U_T,kappa=kappa)\n",
    "print(f'DC output of TI with Ib={eng(ib)} and Ip={eng(Ipd_bright)} are vpd={eng(V_ti0[0])} vout={eng(V_ti0[1])}')\n",
    "ti_sol=solve_ivp(tidvdt, (time_basis_ss[0],time_basis_ss[-1]),\n",
    "                 V_ti0, t_eval=time_basis_ss, rtol=1e-9, atol=1e-19, method='Radau',\n",
    "                 args=(ib,Ipd_step_func,V_e,C_pd,C_out))\n",
    "# output is sol.t and sol.y\n",
    "if ti_sol.message is not None:\n",
    "    print(ti_sol.message)\n",
    "v_ti_Qhalf2=ti_sol.y[1]\n",
    "t_ti_Qhalf2=ti_sol.t\n",
    "v_pd_Qhalf2=ti_sol.y[0]\n",
    "t_pd_Qhalf2=ti_sol.t"
   ]
  },
  {
   "cell_type": "code",
   "execution_count": null,
   "metadata": {
    "collapsed": false,
    "pycharm": {
     "is_executing": true,
     "name": "#%% plot\n"
    }
   },
   "outputs": [],
   "source": [
    "# use this plotting style to put several plots sharing same x-axis\n",
    "# we will plot V_sf together with the input photocurrent\n",
    "# using another axis since it is volts, not current, and linear not log\n",
    "\n",
    "t_start = t_warmup-tau_ss/50\n",
    "t_end = t_warmup+tau_ss/40\n",
    "six=np.argmax(time_basis_ss>t_start)\n",
    "eix=np.argmax(time_basis_ss>t_end)\n",
    "r=range(six,eix) # range to plot, to eliminate startup transient\n",
    "\n",
    "# because of transient, we need to limit the output voltage plotting range\n",
    "# around the DC level before and after the step\n",
    "fig=plt.figure(figsize=(12,8))\n",
    "fig,ax1=plt.subplots(sharex=True)\n",
    "# tlim=[t_start,t_end]\n",
    "# lookup idx of time point just before step\n",
    "# vlim=[v_ti_Qhalf2[len(time_basis_ss)//5],v_ti_Qhalf2[-1]*1.1]\n",
    "\n",
    "ax1.plot(time_basis_ss[r],Ipd_ss[r],'g')\n",
    "ax1.set_yscale('linear')\n",
    "ax1.set_xscale('linear')\n",
    "ax1.tick_params(axis='y', colors='green')\n",
    "ax1.set_xlabel('t [s]')\n",
    "ax1.set_ylabel('I_pd [A]')\n",
    "# ax1.set_xlim(tlim)\n",
    "\n",
    "ax2=ax1.twinx()\n",
    "ax2.plot(t_ti_Qhalf[r],v_ti_Qhalf[r]-np.mean(v_ti_Qhalf[r]),'b-')\n",
    "ax2.plot(t_ti_Qhalf1[r],v_ti_Qhalf1[r]-np.mean(v_ti_Qhalf1[r]),'c--')\n",
    "ax2.plot(t_ti_Qhalf2[r],v_ti_Qhalf2[r]-np.mean(v_ti_Qhalf2[r]),'c-.')\n",
    "# ax2.set_xlim(tlim)\n",
    "ax2.set_ylabel('V_ti -mean [V]')\n",
    "# ax2.set_ylim(vlim)\n",
    "ax2.tick_params(axis='y', colors='blue')\n",
    "ax2.legend(['$I_{b,Qhalf}$','$I_{b,Qhalf}$'+f'*{ib_factor}','$I_{b,Qhalf}$'+f'/{ib_factor}'], loc='upper right')\n",
    "ax2.title.set_text('Transimpendance Photoreceptor')\n",
    "plt.show()\n"
   ]
  },
  {
   "cell_type": "markdown",
   "metadata": {
    "collapsed": false
   },
   "source": [
    "Let's simulate open loop amplifier with very slow ramp of input voltage to meausre the open loop voltage gain and compare it with theory"
   ]
  },
  {
   "cell_type": "code",
   "execution_count": null,
   "metadata": {
    "collapsed": false,
    "pycharm": {
     "is_executing": true,
     "name": "#%%\n"
    }
   },
   "outputs": [],
   "source": [
    "tt=1\n",
    "v0=.43\n",
    "v1=.44\n",
    "def ampdvdt(t,vd):\n",
    "    vg=v0-(v0-v1)*t/tt\n",
    "    id=id_sub(vg,0,vd,V_e=V_e,kappa=kappa)\n",
    "    i=I_b-id\n",
    "    vdot= i / 1e-15\n",
    "    # print(f'vg={vg}V vd={vd}V id={id}A idiff={i}A')\n",
    "    return vdot\n",
    "\n",
    "t=np.linspace(0,tt,10000)\n",
    "vd0=[0]\n",
    "s=solve_ivp(ampdvdt,(t[0],t[-1]),\n",
    "            vd0, t_eval=t, rtol=1e-9, atol=1e-12, method='Radau')\n",
    "vd=s.y[0]\n",
    "vg=v0-(v0-v1)*t/tt\n",
    "plt.plot(vg,vd,'-b')\n",
    "r=[i for i in range(len(vd)) if vd[i]> .4 and vd[i]<.5]\n",
    "plt.xlabel('Vg (V)')\n",
    "plt.ylabel('Vout (V)')\n",
    "plt.plot(vg[r],vd[r],'r-')\n",
    "plt.grid(True)\n",
    "A_meas=linregress(vg[r],vd[r])[0]\n",
    "A_pred=kappa*V_e/U_T\n",
    "print(f'Amplifier gain: Measured {eng(A_meas)}, predicted from kappa*Ve/U_T={eng(A_pred)}')"
   ]
  },
  {
   "cell_type": "markdown",
   "metadata": {
    "collapsed": false
   },
   "source": [
    "**(f)** If the poles are not purely real, the photoreceptor output will have a\n",
    "ringing behavior. The larger the Q, the more the system will ring. In the TI\n",
    "photoreceptor, Q is maximum when $\\tau_{out}=\\tau_{in}$. Find the value of $I_b$\n",
    "which results in maximum Q, and plot it on the root locus. Compare the value\n",
    "obtained for Q with the theoretical value."
   ]
  },
  {
   "cell_type": "code",
   "execution_count": null,
   "metadata": {
    "collapsed": false,
    "pycharm": {
     "is_executing": true,
     "name": "#%%\n"
    }
   },
   "outputs": [],
   "source": [
    "# plot root locus\n",
    "fig,ax1=plt.subplots(sharex=True)\n",
    "ax1.plot(np.real(pole1),np.imag(pole1),'b')\n",
    "ax1.plot(np.real(pole2),np.imag(pole2),'r')\n",
    "ax1.set_xlabel('Real')\n",
    "ax1.set_ylabel('Imag')\n",
    "ax1.legend(['pole1','pole2'])\n",
    "\n",
    "# TODO fill the expression with the value of Ib which maximizes Q\n",
    "Ib_Qmax=...\n",
    "pole1_Qmax,pole2_Qmax,Q_Qmax=get_poles(Ipd=Ipd_bright,Ib=Ib_Qmax,C_pd=C_pd,C_out=C_out,V_e=V_e)\n",
    "ax1.plot(np.real(pole1_Qmax),np.imag(pole1_Qmax),'bo')\n",
    "ax1.plot(np.real(pole2_Qmax),np.imag(pole2_Qmax),'ro')\n",
    "\n",
    "print(f\"Q: {Q_Qmax}\")\n",
    "print(f\"Ib: {Ib_Qmax}\")\n"
   ]
  },
  {
   "cell_type": "markdown",
   "metadata": {
    "collapsed": false
   },
   "source": [
    "**(g)** Observe the transient response of the photoreceptor in such\n",
    "conditions. Does it behave as expected? Again, try other values of Q, both above\n",
    "and below the maximum. Plot them in the root locus and observe the transient\n",
    "response and how Q affects ringing."
   ]
  },
  {
   "cell_type": "code",
   "execution_count": null,
   "metadata": {
    "collapsed": false,
    "pycharm": {
     "is_executing": true,
     "name": "#%%\n"
    }
   },
   "outputs": [],
   "source": [
    "# initial condition\n",
    "V_ti0=ti_dc(Ib_Qmax,Ipd_bright,I_0=I_0,V_e=V_e,U_T=U_T,kappa=kappa)\n",
    "ti_sol=solve_ivp(tidvdt, (time_basis_ss[0],time_basis_ss[-1]),\n",
    "                 V_ti0, t_eval=time_basis_ss, rtol=1e-9, atol=1e-19, method='Radau',\n",
    "                 args=(Ib_Qmax,Ipd_step_func,V_e,C_pd,C_out))\n",
    "t_start = t_warmup-tau_ss/30\n",
    "t_end = t_warmup+tau_ss*2\n",
    "six=np.argmax(time_basis_ss>t_start)\n",
    "eix=np.argmax(time_basis_ss>t_end)\n",
    "r=range(six,eix) # range to plot, to eliminate startup transient\n",
    "\n",
    "# output is sol.t and sol.y\n",
    "if ti_sol.message is not None:\n",
    "    print(ti_sol.message)\n",
    "v_ti_Qmax=ti_sol.y[1][r]\n",
    "t_ti_Qmax=ti_sol.t[r]\n",
    "v_pd_Qmax=ti_sol.y[0][r]\n",
    "t_pd_Qmax=ti_sol.t[r]\n",
    "\n",
    "ti_sol=solve_ivp(tidvdt, (time_basis_ss[0],time_basis_ss[-1]),\n",
    "                 V_ti0, t_eval=time_basis_ss, rtol=1e-9, atol=1e-19, method='LSODA',\n",
    "                 args=(Ib_Qmax*2,Ipd_step_func,V_e,C_pd,C_out))\n",
    "# output is sol.t and sol.y\n",
    "if ti_sol.message is not None:\n",
    "    print(ti_sol.message)\n",
    "v_ti_Qmax1=ti_sol.y[1][r]\n",
    "t_ti_Qmax1=ti_sol.t[r]\n",
    "v_pd_Qmax1=ti_sol.y[0][r]\n",
    "t_pd_Qmax1=ti_sol.t[r]\n",
    "\n",
    "ti_sol=solve_ivp(tidvdt, (time_basis_ss[0],time_basis_ss[-1]),\n",
    "                 V_ti0, t_eval=time_basis_ss, rtol=1e-9, atol=1e-19, method='LSODA',\n",
    "                 args=(Ib_Qmax/2,Ipd_step_func,V_e,C_pd,C_out))\n",
    "# output is sol.t and sol.y\n",
    "if ti_sol.message is not None:\n",
    "    print(ti_sol.message)\n",
    "v_ti_Qmax2=ti_sol.y[1][r]\n",
    "t_ti_Qmax2=ti_sol.t[r]\n",
    "v_pd_Qmax2=ti_sol.y[0][r]\n",
    "t_pd_Qmax2=ti_sol.t[r]"
   ]
  },
  {
   "cell_type": "code",
   "execution_count": null,
   "metadata": {
    "collapsed": false,
    "pycharm": {
     "is_executing": true,
     "name": "#%%\n"
    }
   },
   "outputs": [],
   "source": [
    "# use this plotting style to put several plots sharing same x-axis\n",
    "# we will plot V_sf together with the input photocurrent\n",
    "# using another axis since it is volts, not current, and linear not log\n",
    "fig=plt.figure(figsize=(12,8))\n",
    "fig,ax1=plt.subplots(sharex=True)\n",
    "\n",
    "\n",
    "ax1.plot(time_basis_ss[r],Ipd_ss[r],'g')\n",
    "ax1.set_yscale('linear')\n",
    "ax1.set_xscale('linear')\n",
    "ax1.tick_params(axis='y', colors='green')\n",
    "ax1.set_xlabel('t [s]')\n",
    "ax1.set_ylabel('I_pd [A]')\n",
    "\n",
    "ax2=ax1.twinx()\n",
    "#ax2.plot(t_ti_Qmax,v_ti_Qmax,'b-')\n",
    "ax2.plot(t_ti_Qmax,v_ti_Qmax-v_ti_Qmax[0],'b-')\n",
    "ax2.plot(t_ti_Qmax1,v_ti_Qmax1-v_ti_Qmax1[0],'c--')\n",
    "ax2.plot(t_ti_Qmax2,v_ti_Qmax2-v_ti_Qmax2[0],'c-.')\n",
    "#ax2.plot(t_pd,v_pd,'m-')\n",
    "ax2.tick_params(axis='y', colors='blue')\n",
    "ax2.legend(['$I_{b,Qmax}$','$I_{b,Qmax}$/2','$I_{b,Qmax}$*2'], loc='upper right')\n",
    "ax2.title.set_text('Transimpendance Photoreceptor')\n",
    "ax2.title.set_text('Transimpendance Photoreceptor')\n",
    "plt.show()"
   ]
  },
  {
   "cell_type": "code",
   "execution_count": null,
   "metadata": {
    "collapsed": false
   },
   "outputs": [],
   "source": []
  }
 ],
 "metadata": {
  "kernelspec": {
   "display_name": "Python 3.9.7 ('snowflakes')",
   "language": "python",
   "name": "python3"
  },
  "language_info": {
   "codemirror_mode": {
    "name": "ipython",
    "version": 3
   },
   "file_extension": ".py",
   "mimetype": "text/x-python",
   "name": "python",
   "nbconvert_exporter": "python",
   "pygments_lexer": "ipython3",
   "version": "3.9.7"
  },
  "name": "Photo_GroupNumber_FirstName_LastName.ipynb",
  "vscode": {
   "interpreter": {
    "hash": "5379aec5f3ea91ea19d30a561705af7a8714831e882200b5ede96bafcba4c96c"
   }
  }
 },
 "nbformat": 4,
 "nbformat_minor": 2
}
